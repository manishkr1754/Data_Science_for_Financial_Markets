{
 "cells": [
  {
   "cell_type": "code",
   "execution_count": null,
   "id": "e690f533",
   "metadata": {},
   "outputs": [],
   "source": []
  },
  {
   "cell_type": "markdown",
   "id": "4c5ab255",
   "metadata": {},
   "source": [
    "# Data Science for Data Science"
   ]
  },
  {
   "cell_type": "markdown",
   "id": "4c083474",
   "metadata": {},
   "source": [
    "### Content"
   ]
  },
  {
   "cell_type": "markdown",
   "id": "25a18423",
   "metadata": {},
   "source": [
    "## Introduction\n",
    "\n",
    "---"
   ]
  },
  {
   "cell_type": "markdown",
   "id": "87d56ba8",
   "metadata": {},
   "source": [
    "In recent years, we have seen an explosion in the amount of data being generated and collected. From social media activity to financial transactions, the amount of data being generated on a daily basis is staggering. With this influx of data comes an urgent need for professionals who can extract insights and knowledge from it.\n",
    "\n",
    "Data Science, a rapidly growing field that combines statistical and computational techniques to transform data into actionable information. It brings together multiple disciplines such as mathematics, statistics, computer science and domain-specific knowledge to create a multi-faceted approach to understanding complex data patterns. The goal of Data Science is to provide a complete picture of data and transform it into actionable information that can inform business decisions, scientific breakthroughs and even public policy. It has become an increasingly vital part of our data-driven world.\n",
    "\n",
    "When it comes to financial markets, the need for accurate and timely data analysis has never been more critical. Financial institutions need to make decisions based on a variety of factors including market trends, customer behavior and risk management. Data Science can help financial institutions analyze and make sense of this data providing insights that can help them stay ahead of the competition.\n",
    "\n",
    "#### Application of Data Science for Financial Markets\n",
    "\n",
    "- **1. Predictive Modeling :** One of the primary applications of Data Science in finance is predictive modeling. Data Science professionals can use historical data to create models that can identify trends and make predictions about future market conditions. These models can be used to inform investment decisions, identify potential risks and even create new financial products.\n",
    "\n",
    "- **2. Algorithmic Trading :** Another application of Data Science in finance is algorithmic trading. This involves using algorithms that execute buy and sell orders autonomously based on mathematical models through the analysis of price, volume and volatility among many others. Algorithmic trading has become increasingly popular in recent years as it allows financial institutions to make trades quickly and efficiently without human intervention.\n",
    "\n",
    "- **3. Portfolio Optimization :** Data Science can also be used to optimize portfolios aiming for maximization of returns and risk minimization. Algorithms and other mathematical models can be used to create optimized portfolios that take into account a variety of factors including risk tolerance, diversification and investment goals.\n",
    "\n",
    "- **4. Fraud Detection :** Fraud detection is another important application of Data Science in finance. Financial institutions are constantly at risk of fraudulent activities and Data Science can be used to identify and prevent these activities. Machine learning algorithms can be used to analyze financial transactions, identifying patterns and anomalies that may indicate fraudulent activity.\n",
    "\n",
    "- **5. Risk Management :** Risk management is also a critical application of Data Science in finance. Data science can be used to quantify and manage various types of financial risks including market risk, credit risk and operational risk. By analyzing historical data and identifying potential risks, financial institutions can make informed decisions that mitigate these risks and protect their investments.\n",
    "\n",
    "- **6. Customer Analysis :** Data Science can also be used to analyze customer data and gain insights into customer behavior and preferences. Financial institutions can use this data to improve customer engagement and retention creating targeted marketing campaigns and personalized investment strategies.\n",
    "\n",
    "\n",
    "By leveraging Data Science and Python, we can develop more effective investment strategies and make informed decisions that can help us achieve our financial goals. In this notebook, we will explore how Data Science and Python can be utilized to extract crucial insights from financial markets. We will dive into the applications of these tools such as building and optimizing portfolios, developing effective trading strategies and performing detailed stock analysis. By showcasing the versatility and usefulness of these techniques, we aim to provide a valuable resource for those interested in making informed investment decisions. With Data Science and Python at our disposal, we have the ability to unlock a wealth of knowledge and transform the way we approach financial markets."
   ]
  },
  {
   "cell_type": "markdown",
   "id": "02861653",
   "metadata": {},
   "source": [
    "## Essential Libraries\n",
    "\n",
    "---"
   ]
  },
  {
   "cell_type": "markdown",
   "id": "a67de4af",
   "metadata": {},
   "source": [
    "### 1. `nsepy`"
   ]
  },
  {
   "cell_type": "markdown",
   "id": "032b4c17",
   "metadata": {},
   "source": [
    "If you are looking to obtain historical market data for Indian stocks, `nsepy` is a reliable and efficient Python library to consider. `nsepy` provides easy access to historical stock price data from the National Stock Exchange of India (NSE) through a simple and user-friendly API. You can easily obtain data for any publicly traded company listed on the NSE including stocks, indices and futures."
   ]
  },
  {
   "cell_type": "markdown",
   "id": "f9987455",
   "metadata": {},
   "source": [
    "This is how you can install `nsepy` in your Python environment:"
   ]
  },
  {
   "cell_type": "code",
   "execution_count": 2,
   "id": "2bce7c8c",
   "metadata": {},
   "outputs": [
    {
     "name": "stdout",
     "output_type": "stream",
     "text": [
      "Requirement already satisfied: nsepy in c:\\users\\manis\\anaconda3\\lib\\site-packages (0.8)\n",
      "Requirement already satisfied: beautifulsoup4 in c:\\users\\manis\\anaconda3\\lib\\site-packages (from nsepy) (4.11.1)\n",
      "Requirement already satisfied: lxml in c:\\users\\manis\\anaconda3\\lib\\site-packages (from nsepy) (4.9.1)\n",
      "Requirement already satisfied: click in c:\\users\\manis\\anaconda3\\lib\\site-packages (from nsepy) (8.0.4)\n",
      "Requirement already satisfied: pandas in c:\\users\\manis\\anaconda3\\lib\\site-packages (from nsepy) (1.4.4)\n",
      "Requirement already satisfied: numpy in c:\\users\\manis\\anaconda3\\lib\\site-packages (from nsepy) (1.21.5)\n",
      "Requirement already satisfied: six in c:\\users\\manis\\anaconda3\\lib\\site-packages (from nsepy) (1.16.0)\n",
      "Requirement already satisfied: requests in c:\\users\\manis\\anaconda3\\lib\\site-packages (from nsepy) (2.28.1)\n",
      "Requirement already satisfied: soupsieve>1.2 in c:\\users\\manis\\anaconda3\\lib\\site-packages (from beautifulsoup4->nsepy) (2.3.1)\n",
      "Requirement already satisfied: colorama in c:\\users\\manis\\anaconda3\\lib\\site-packages (from click->nsepy) (0.4.6)\n",
      "Requirement already satisfied: python-dateutil>=2.8.1 in c:\\users\\manis\\anaconda3\\lib\\site-packages (from pandas->nsepy) (2.8.2)\n",
      "Requirement already satisfied: pytz>=2020.1 in c:\\users\\manis\\anaconda3\\lib\\site-packages (from pandas->nsepy) (2022.1)\n",
      "Requirement already satisfied: charset-normalizer<3,>=2 in c:\\users\\manis\\anaconda3\\lib\\site-packages (from requests->nsepy) (2.0.4)\n",
      "Requirement already satisfied: certifi>=2017.4.17 in c:\\users\\manis\\anaconda3\\lib\\site-packages (from requests->nsepy) (2022.9.14)\n",
      "Requirement already satisfied: urllib3<1.27,>=1.21.1 in c:\\users\\manis\\anaconda3\\lib\\site-packages (from requests->nsepy) (1.26.11)\n",
      "Requirement already satisfied: idna<4,>=2.5 in c:\\users\\manis\\anaconda3\\lib\\site-packages (from requests->nsepy) (3.3)\n",
      "Note: you may need to restart the kernel to use updated packages.\n"
     ]
    }
   ],
   "source": [
    "pip install nsepy"
   ]
  },
  {
   "cell_type": "markdown",
   "id": "48397741",
   "metadata": {},
   "source": [
    "### 2. `quantstats`"
   ]
  },
  {
   "cell_type": "markdown",
   "id": "dd34977b",
   "metadata": {},
   "source": [
    "Quantstats is a game-changing Python library that is transforming the way traders and investors analyze financial data. With its wide range of tools for quantitative financial analysis including technical and fundamental analysis, portfolio optimization and backtesting of investment strategies, Quantstats has quickly become one of the most popular libraries in the financial industry. Its simple and easy-to-use interface makes it accessible to both seasoned traders and newcomers to quantitative finance. By providing a comprehensive suite of tools for analyzing financial data, Quantstats empowers traders and investors to make more informed decisions, optimize their portfolios and gain an edge in the market. Whether you are a professional trader or just starting out in the world of finance, Quantstats is an essential tool for anyone looking to succeed in the complex and ever-changing world of financial markets."
   ]
  },
  {
   "cell_type": "markdown",
   "id": "ba031e67",
   "metadata": {},
   "source": [
    "This is how you can install `quantstats` in your Python environment:"
   ]
  },
  {
   "cell_type": "code",
   "execution_count": 3,
   "id": "4d42a17d",
   "metadata": {},
   "outputs": [
    {
     "name": "stdout",
     "output_type": "stream",
     "text": [
      "Collecting quantstats\n",
      "  Downloading QuantStats-0.0.59-py2.py3-none-any.whl (41 kB)\n",
      "     -------------------------------------- 41.3/41.3 kB 153.2 kB/s eta 0:00:00\n",
      "Requirement already satisfied: seaborn>=0.9.0 in c:\\users\\manis\\anaconda3\\lib\\site-packages (from quantstats) (0.11.2)\n",
      "Requirement already satisfied: python-dateutil>=2.0 in c:\\users\\manis\\anaconda3\\lib\\site-packages (from quantstats) (2.8.2)\n",
      "Requirement already satisfied: scipy>=1.2.0 in c:\\users\\manis\\anaconda3\\lib\\site-packages (from quantstats) (1.9.1)\n",
      "Requirement already satisfied: matplotlib>=3.0.0 in c:\\users\\manis\\anaconda3\\lib\\site-packages (from quantstats) (3.5.2)\n",
      "Collecting yfinance>=0.1.70\n",
      "  Downloading yfinance-0.2.14-py2.py3-none-any.whl (59 kB)\n",
      "     -------------------------------------- 59.7/59.7 kB 353.3 kB/s eta 0:00:00\n",
      "Requirement already satisfied: pandas>=0.24.0 in c:\\users\\manis\\anaconda3\\lib\\site-packages (from quantstats) (1.4.4)\n",
      "Requirement already satisfied: tabulate>=0.8.0 in c:\\users\\manis\\anaconda3\\lib\\site-packages (from quantstats) (0.8.10)\n",
      "Requirement already satisfied: numpy>=1.16.5 in c:\\users\\manis\\anaconda3\\lib\\site-packages (from quantstats) (1.21.5)\n",
      "Requirement already satisfied: fonttools>=4.22.0 in c:\\users\\manis\\anaconda3\\lib\\site-packages (from matplotlib>=3.0.0->quantstats) (4.25.0)\n",
      "Requirement already satisfied: pillow>=6.2.0 in c:\\users\\manis\\anaconda3\\lib\\site-packages (from matplotlib>=3.0.0->quantstats) (9.2.0)\n",
      "Requirement already satisfied: pyparsing>=2.2.1 in c:\\users\\manis\\anaconda3\\lib\\site-packages (from matplotlib>=3.0.0->quantstats) (3.0.9)\n",
      "Requirement already satisfied: cycler>=0.10 in c:\\users\\manis\\anaconda3\\lib\\site-packages (from matplotlib>=3.0.0->quantstats) (0.11.0)\n",
      "Requirement already satisfied: kiwisolver>=1.0.1 in c:\\users\\manis\\anaconda3\\lib\\site-packages (from matplotlib>=3.0.0->quantstats) (1.4.2)\n",
      "Requirement already satisfied: packaging>=20.0 in c:\\users\\manis\\anaconda3\\lib\\site-packages (from matplotlib>=3.0.0->quantstats) (21.3)\n",
      "Requirement already satisfied: pytz>=2020.1 in c:\\users\\manis\\anaconda3\\lib\\site-packages (from pandas>=0.24.0->quantstats) (2022.1)\n",
      "Requirement already satisfied: six>=1.5 in c:\\users\\manis\\anaconda3\\lib\\site-packages (from python-dateutil>=2.0->quantstats) (1.16.0)\n",
      "Collecting pytz>=2020.1\n",
      "  Downloading pytz-2023.3-py2.py3-none-any.whl (502 kB)\n",
      "     ------------------------------------ 502.3/502.3 kB 384.2 kB/s eta 0:00:00\n",
      "Collecting frozendict>=2.3.4\n",
      "  Downloading frozendict-2.3.6-cp39-cp39-win_amd64.whl (35 kB)\n",
      "Requirement already satisfied: lxml>=4.9.1 in c:\\users\\manis\\anaconda3\\lib\\site-packages (from yfinance>=0.1.70->quantstats) (4.9.1)\n",
      "Requirement already satisfied: appdirs>=1.4.4 in c:\\users\\manis\\anaconda3\\lib\\site-packages (from yfinance>=0.1.70->quantstats) (1.4.4)\n",
      "Requirement already satisfied: requests>=2.26 in c:\\users\\manis\\anaconda3\\lib\\site-packages (from yfinance>=0.1.70->quantstats) (2.28.1)\n",
      "Collecting multitasking>=0.0.7\n",
      "  Downloading multitasking-0.0.11-py3-none-any.whl (8.5 kB)\n",
      "Requirement already satisfied: beautifulsoup4>=4.11.1 in c:\\users\\manis\\anaconda3\\lib\\site-packages (from yfinance>=0.1.70->quantstats) (4.11.1)\n",
      "Requirement already satisfied: cryptography>=3.3.2 in c:\\users\\manis\\anaconda3\\lib\\site-packages (from yfinance>=0.1.70->quantstats) (37.0.1)\n",
      "Collecting html5lib>=1.1\n",
      "  Downloading html5lib-1.1-py2.py3-none-any.whl (112 kB)\n",
      "     ------------------------------------ 112.2/112.2 kB 935.2 kB/s eta 0:00:00\n",
      "Requirement already satisfied: soupsieve>1.2 in c:\\users\\manis\\anaconda3\\lib\\site-packages (from beautifulsoup4>=4.11.1->yfinance>=0.1.70->quantstats) (2.3.1)\n",
      "Requirement already satisfied: cffi>=1.12 in c:\\users\\manis\\anaconda3\\lib\\site-packages (from cryptography>=3.3.2->yfinance>=0.1.70->quantstats) (1.15.1)\n",
      "Requirement already satisfied: webencodings in c:\\users\\manis\\anaconda3\\lib\\site-packages (from html5lib>=1.1->yfinance>=0.1.70->quantstats) (0.5.1)\n",
      "Requirement already satisfied: charset-normalizer<3,>=2 in c:\\users\\manis\\anaconda3\\lib\\site-packages (from requests>=2.26->yfinance>=0.1.70->quantstats) (2.0.4)\n",
      "Requirement already satisfied: idna<4,>=2.5 in c:\\users\\manis\\anaconda3\\lib\\site-packages (from requests>=2.26->yfinance>=0.1.70->quantstats) (3.3)\n",
      "Requirement already satisfied: certifi>=2017.4.17 in c:\\users\\manis\\anaconda3\\lib\\site-packages (from requests>=2.26->yfinance>=0.1.70->quantstats) (2022.9.14)\n",
      "Requirement already satisfied: urllib3<1.27,>=1.21.1 in c:\\users\\manis\\anaconda3\\lib\\site-packages (from requests>=2.26->yfinance>=0.1.70->quantstats) (1.26.11)\n",
      "Requirement already satisfied: pycparser in c:\\users\\manis\\anaconda3\\lib\\site-packages (from cffi>=1.12->cryptography>=3.3.2->yfinance>=0.1.70->quantstats) (2.21)\n",
      "Installing collected packages: pytz, multitasking, html5lib, frozendict, yfinance, quantstats\n",
      "  Attempting uninstall: pytz\n",
      "    Found existing installation: pytz 2022.1\n",
      "    Uninstalling pytz-2022.1:\n",
      "      Successfully uninstalled pytz-2022.1\n",
      "Successfully installed frozendict-2.3.6 html5lib-1.1 multitasking-0.0.11 pytz-2023.3 quantstats-0.0.59 yfinance-0.2.14\n",
      "Note: you may need to restart the kernel to use updated packages.\n"
     ]
    },
    {
     "name": "stderr",
     "output_type": "stream",
     "text": [
      "ERROR: pip's dependency resolver does not currently take into account all the packages that are installed. This behaviour is the source of the following dependency conflicts.\n",
      "conda-repo-cli 1.0.20 requires clyent==1.2.1, but you have clyent 1.2.2 which is incompatible.\n",
      "conda-repo-cli 1.0.20 requires nbformat==5.4.0, but you have nbformat 5.5.0 which is incompatible.\n"
     ]
    }
   ],
   "source": [
    "pip install quantstats"
   ]
  },
  {
   "cell_type": "markdown",
   "id": "18430720",
   "metadata": {},
   "source": [
    "### 3. `pyportfolioopt`"
   ]
  },
  {
   "cell_type": "markdown",
   "id": "c6b16367",
   "metadata": {},
   "source": [
    "If you are looking to create an optimized investment portfolio that aligns with your specific objectives, constraints and risk preferences, `pyportfolioopt` is an exceptional Python library to consider. With its diverse range of optimization algorithms including the Black-Litterman allocation model and mean-variance optimization model, `pyportfolioopt` empowers investors to construct and optimize portfolios that maximize their returns while minimizing risk. Its user-friendly interface and flexible optimization capabilities make it an incredibly useful tool for both novice and experienced investors alike. Whether you are looking to build a balanced investment portfolio or construct a custom portfolio with specific risk and return objectives, `pyportfolioopt` can help you achieve your goals with ease."
   ]
  },
  {
   "cell_type": "markdown",
   "id": "10b3e535",
   "metadata": {},
   "source": [
    "This is how you can install `pyportfolioopt` in your Python environment:"
   ]
  },
  {
   "cell_type": "code",
   "execution_count": 8,
   "id": "9e425fbd",
   "metadata": {},
   "outputs": [
    {
     "name": "stdout",
     "output_type": "stream",
     "text": [
      "Collecting pyportfolioopt\n",
      "  Using cached pyportfolioopt-1.5.4-py3-none-any.whl (61 kB)\n",
      "Collecting cvxpy<2.0.0,>=1.1.10\n",
      "  Using cached cvxpy-1.3.1-cp39-cp39-win_amd64.whl (889 kB)\n",
      "Requirement already satisfied: numpy<2.0.0,>=1.22.4 in c:\\users\\manis\\anaconda3\\lib\\site-packages (from pyportfolioopt) (1.24.2)\n",
      "Requirement already satisfied: pandas>=0.19 in c:\\users\\manis\\anaconda3\\lib\\site-packages (from pyportfolioopt) (1.4.4)\n",
      "Requirement already satisfied: scipy<2.0,>=1.3 in c:\\users\\manis\\anaconda3\\lib\\site-packages (from pyportfolioopt) (1.9.1)\n",
      "Collecting scs>=1.1.6\n",
      "  Using cached scs-3.2.2-cp39-cp39-win_amd64.whl (8.2 MB)\n",
      "Collecting osqp>=0.4.1\n",
      "  Using cached osqp-0.6.2.post8-cp39-cp39-win_amd64.whl (292 kB)\n",
      "Collecting ecos>=2\n",
      "  Using cached ecos-2.0.12-cp39-cp39-win_amd64.whl (72 kB)\n",
      "Requirement already satisfied: setuptools>65.5.1 in c:\\users\\manis\\anaconda3\\lib\\site-packages (from cvxpy<2.0.0,>=1.1.10->pyportfolioopt) (67.6.1)\n",
      "Requirement already satisfied: pytz>=2020.1 in c:\\users\\manis\\anaconda3\\lib\\site-packages (from pandas>=0.19->pyportfolioopt) (2023.3)\n",
      "Requirement already satisfied: python-dateutil>=2.8.1 in c:\\users\\manis\\anaconda3\\lib\\site-packages (from pandas>=0.19->pyportfolioopt) (2.8.2)\n",
      "Collecting qdldl\n",
      "  Using cached qdldl-0.1.5.post3-cp39-cp39-win_amd64.whl (83 kB)\n",
      "Requirement already satisfied: six>=1.5 in c:\\users\\manis\\anaconda3\\lib\\site-packages (from python-dateutil>=2.8.1->pandas>=0.19->pyportfolioopt) (1.16.0)\n",
      "Installing collected packages: scs, qdldl, ecos, osqp, cvxpy, pyportfolioopt\n",
      "Successfully installed cvxpy-1.3.1 ecos-2.0.12 osqp-0.6.2.post8 pyportfolioopt-1.5.4 qdldl-0.1.5.post3 scs-3.2.2\n",
      "Note: you may need to restart the kernel to use updated packages.\n"
     ]
    }
   ],
   "source": [
    "pip install pyportfolioopt"
   ]
  },
  {
   "cell_type": "markdown",
   "id": "b19bf2c0",
   "metadata": {},
   "source": [
    "### 4. `ta`"
   ]
  },
  {
   "cell_type": "markdown",
   "id": "3e60006a",
   "metadata": {},
   "source": [
    "If you are looking to conduct technical analysis using Python, the `ta` (Technical Analysis) library is an invaluable resource. It offers a comprehensive range of technical indicators such as moving averages, Bollinger bands, MACD and the Relative Strength Index that can be used to analyze market trends and make informed trading decisions. Whether you are a seasoned trader or a novice, the `ta` library is easy to use and customize, allowing you to tailor your analysis to your specific needs. By providing insights into market momentum, volatility and trends, this library can help you gain a deeper understanding of market behavior and make better-informed investment decisions. Whether you are looking to trade in stocks, cryptocurrencies or other financial instruments, the `ta` library is a must-have tool for any technical analyst."
   ]
  },
  {
   "cell_type": "markdown",
   "id": "0cc19b7d",
   "metadata": {},
   "source": [
    "This is how you can install `ta` in your Python environment:"
   ]
  },
  {
   "cell_type": "code",
   "execution_count": 11,
   "id": "78d98090",
   "metadata": {},
   "outputs": [
    {
     "name": "stdout",
     "output_type": "stream",
     "text": [
      "Collecting taNote: you may need to restart the kernel to use updated packages.\n",
      "\n",
      "  Downloading ta-0.10.2.tar.gz (25 kB)\n",
      "  Preparing metadata (setup.py): started\n",
      "  Preparing metadata (setup.py): finished with status 'done'\n",
      "Requirement already satisfied: numpy in c:\\users\\manis\\anaconda3\\lib\\site-packages (from ta) (1.24.2)\n",
      "Requirement already satisfied: pandas in c:\\users\\manis\\anaconda3\\lib\\site-packages (from ta) (1.4.4)\n",
      "Requirement already satisfied: pytz>=2020.1 in c:\\users\\manis\\anaconda3\\lib\\site-packages (from pandas->ta) (2023.3)\n",
      "Requirement already satisfied: python-dateutil>=2.8.1 in c:\\users\\manis\\anaconda3\\lib\\site-packages (from pandas->ta) (2.8.2)\n",
      "Requirement already satisfied: six>=1.5 in c:\\users\\manis\\anaconda3\\lib\\site-packages (from python-dateutil>=2.8.1->pandas->ta) (1.16.0)\n",
      "Building wheels for collected packages: ta\n",
      "  Building wheel for ta (setup.py): started\n",
      "  Building wheel for ta (setup.py): finished with status 'done'\n",
      "  Created wheel for ta: filename=ta-0.10.2-py3-none-any.whl size=29088 sha256=ecc6457bf333c9c83dd35a3f52ee9d565d4d85f4a2da80aa61ce708f0a55abb1\n",
      "  Stored in directory: c:\\users\\manis\\appdata\\local\\pip\\cache\\wheels\\6a\\76\\03\\7f785aaa50b9c6ec7e3fd105a62c1b2c45a034512d51e024a9\n",
      "Successfully built ta\n",
      "Installing collected packages: ta\n",
      "Successfully installed ta-0.10.2\n"
     ]
    }
   ],
   "source": [
    "pip install ta"
   ]
  },
  {
   "cell_type": "markdown",
   "id": "8cc30ee7",
   "metadata": {},
   "source": [
    "Now get ready to deep dive into the world of finance with essential libraries ! With this knowledge, we can move on to importing all specific libraries needed to make meaningful analyses and gain valuable insights into financial markets. The right tools can make all the difference when it comes to making informed investment decisions, so let's get started on this exciting journey."
   ]
  },
  {
   "cell_type": "code",
   "execution_count": 1,
   "id": "54b02fd7",
   "metadata": {},
   "outputs": [
    {
     "data": {
      "text/html": [
       "        <script type=\"text/javascript\">\n",
       "        window.PlotlyConfig = {MathJaxConfig: 'local'};\n",
       "        if (window.MathJax && window.MathJax.Hub && window.MathJax.Hub.Config) {window.MathJax.Hub.Config({SVG: {font: \"STIX-Web\"}});}\n",
       "        if (typeof require !== 'undefined') {\n",
       "        require.undef(\"plotly\");\n",
       "        requirejs.config({\n",
       "            paths: {\n",
       "                'plotly': ['https://cdn.plot.ly/plotly-2.12.1.min']\n",
       "            }\n",
       "        });\n",
       "        require(['plotly'], function(Plotly) {\n",
       "            window._Plotly = Plotly;\n",
       "        });\n",
       "        }\n",
       "        </script>\n",
       "        "
      ]
     },
     "metadata": {},
     "output_type": "display_data"
    }
   ],
   "source": [
    "# Importing Libraries\n",
    "\n",
    "# Data handling and statistical analysis \n",
    "import pandas as pd\n",
    "from pandas_datareader import data\n",
    "import numpy as np\n",
    "from scipy import stats\n",
    "\n",
    "# Data visualization \n",
    "import matplotlib.pyplot as plt\n",
    "import seaborn as sns\n",
    "import plotly.express as px\n",
    "import plotly.graph_objects as go\n",
    "from plotly.subplots import make_subplots\n",
    "\n",
    "# Optimization and allocation\n",
    "from pypfopt.efficient_frontier import EfficientFrontier\n",
    "from pypfopt import risk_models\n",
    "from pypfopt import expected_returns\n",
    "from pypfopt import black_litterman, BlackLittermanModel\n",
    "\n",
    "# Financial data \n",
    "import quantstats as qs\n",
    "import ta\n",
    "import yfinance as yf\n",
    "\n",
    "# Linear Regression Model\n",
    "from sklearn.linear_model import LinearRegression\n",
    "\n",
    "# Enabling Plotly offline\n",
    "from plotly.offline import init_notebook_mode\n",
    "init_notebook_mode(connected=True)\n",
    "\n",
    "# Datetime and hiding warnings \n",
    "import datetime as dt\n",
    "from datetime import date\n",
    "import warnings\n",
    "warnings.filterwarnings(\"ignore\")"
   ]
  },
  {
   "cell_type": "markdown",
   "id": "cb906337",
   "metadata": {},
   "source": [
    "## Statistical Measures and Analysis Techniques\n",
    "\n",
    "---"
   ]
  },
  {
   "cell_type": "markdown",
   "id": "c6728d99",
   "metadata": {},
   "source": [
    "### 1. Daily Returns"
   ]
  },
  {
   "cell_type": "markdown",
   "id": "e7e949fd",
   "metadata": {},
   "source": [
    "Our initial focus will be on analyzing the daily returns of a stock. The daily return is the percentage change in the price of a stock over a single day. The calculation involves subtracting the closing price of a stock on a particular day from its closing price on the previous day, dividing the result by the closing price on the previous day and then multiplying by 100. This calculation helps us understand how a stock's value changes on a day-to-day basis."
   ]
  },
  {
   "cell_type": "markdown",
   "id": "879395d9",
   "metadata": {},
   "source": [
    "Let's say a stock closes at Rs. 100 on Monday and on Tuesday it closes at Rs. 102, its daily return can be calculated as:\n",
    "\n",
    "`((102-100)÷100)×100 = 2%`\n",
    "\n",
    "This means that the stock's value has **`increased by 2%`** in just one day. On the other hand, if the stock had closed at Rs. 98 on Tuesday, the daily return would be calculated as:\n",
    "\n",
    "`((98-100)÷100)×100= -2%`\n",
    "\n",
    "This indicates that the stock's value has **`decreased by 2%`** over the course of one day."
   ]
  },
  {
   "cell_type": "markdown",
   "id": "ef558b00",
   "metadata": {},
   "source": [
    "Daily returns play a crucial role for investors as they offer a convenient means to evaluate a stock's performance over a brief period. And Quantstats facilitates the generation of daily returns charts which depict the daily percentage shifts in stocks in a graphical format enabling investors to observe the stock's daily performance highs and lows over time. These charts aid in the interpretation of the stock's return volatility and consistency providing investors with valuable insights into its behaviour."
   ]
  },
  {
   "cell_type": "markdown",
   "id": "05691245",
   "metadata": {},
   "source": [
    "In order to start our analysis, we are going to use `yf.Ticker().history()` method to download the daily historical data for NIFTY50 Index and different stocks over the same period of time i.e. **15 years (Jan 2008 - Mar 2023)** for a fair comparison and analysis between them."
   ]
  },
  {
   "cell_type": "code",
   "execution_count": 2,
   "id": "5f946ada",
   "metadata": {},
   "outputs": [
    {
     "name": "stdout",
     "output_type": "stream",
     "text": [
      "Time range for Analysis : 2008-01-01 to 2023-04-01\n"
     ]
    }
   ],
   "source": [
    "# Defining time range for analysis\n",
    "\n",
    "end_date = date.today()\n",
    "start_date = date(2008,1,1)\n",
    "print(f\"Time range for Analysis : {start_date} to {end_date}\")"
   ]
  },
  {
   "cell_type": "code",
   "execution_count": 3,
   "id": "2f4bf5bb",
   "metadata": {},
   "outputs": [],
   "source": [
    "# Downloading daily data for NIFTY50 and four different stocks\n",
    "\n",
    "nifty50 = yf.Ticker(\"^NSEI\").history(start=start_date, end= end_date)"
   ]
  },
  {
   "cell_type": "code",
   "execution_count": 4,
   "id": "2868a5b0",
   "metadata": {},
   "outputs": [
    {
     "data": {
      "text/html": [
       "<div>\n",
       "<style scoped>\n",
       "    .dataframe tbody tr th:only-of-type {\n",
       "        vertical-align: middle;\n",
       "    }\n",
       "\n",
       "    .dataframe tbody tr th {\n",
       "        vertical-align: top;\n",
       "    }\n",
       "\n",
       "    .dataframe thead th {\n",
       "        text-align: right;\n",
       "    }\n",
       "</style>\n",
       "<table border=\"1\" class=\"dataframe\">\n",
       "  <thead>\n",
       "    <tr style=\"text-align: right;\">\n",
       "      <th></th>\n",
       "      <th>Open</th>\n",
       "      <th>High</th>\n",
       "      <th>Low</th>\n",
       "      <th>Close</th>\n",
       "      <th>Volume</th>\n",
       "      <th>Dividends</th>\n",
       "      <th>Stock Splits</th>\n",
       "    </tr>\n",
       "    <tr>\n",
       "      <th>Date</th>\n",
       "      <th></th>\n",
       "      <th></th>\n",
       "      <th></th>\n",
       "      <th></th>\n",
       "      <th></th>\n",
       "      <th></th>\n",
       "      <th></th>\n",
       "    </tr>\n",
       "  </thead>\n",
       "  <tbody>\n",
       "    <tr>\n",
       "      <th>2008-01-01 00:00:00+05:30</th>\n",
       "      <td>6136.750000</td>\n",
       "      <td>6165.350098</td>\n",
       "      <td>6109.850098</td>\n",
       "      <td>6144.350098</td>\n",
       "      <td>0</td>\n",
       "      <td>0.0</td>\n",
       "      <td>0.0</td>\n",
       "    </tr>\n",
       "    <tr>\n",
       "      <th>2008-01-02 00:00:00+05:30</th>\n",
       "      <td>6144.700195</td>\n",
       "      <td>6197.000000</td>\n",
       "      <td>6060.850098</td>\n",
       "      <td>6179.399902</td>\n",
       "      <td>0</td>\n",
       "      <td>0.0</td>\n",
       "      <td>0.0</td>\n",
       "    </tr>\n",
       "    <tr>\n",
       "      <th>2008-01-03 00:00:00+05:30</th>\n",
       "      <td>6184.250000</td>\n",
       "      <td>6230.149902</td>\n",
       "      <td>6126.399902</td>\n",
       "      <td>6178.549805</td>\n",
       "      <td>0</td>\n",
       "      <td>0.0</td>\n",
       "      <td>0.0</td>\n",
       "    </tr>\n",
       "    <tr>\n",
       "      <th>2008-01-04 00:00:00+05:30</th>\n",
       "      <td>6179.100098</td>\n",
       "      <td>6300.049805</td>\n",
       "      <td>6179.100098</td>\n",
       "      <td>6274.299805</td>\n",
       "      <td>0</td>\n",
       "      <td>0.0</td>\n",
       "      <td>0.0</td>\n",
       "    </tr>\n",
       "    <tr>\n",
       "      <th>2008-01-07 00:00:00+05:30</th>\n",
       "      <td>6271.000000</td>\n",
       "      <td>6289.799805</td>\n",
       "      <td>6193.350098</td>\n",
       "      <td>6279.100098</td>\n",
       "      <td>0</td>\n",
       "      <td>0.0</td>\n",
       "      <td>0.0</td>\n",
       "    </tr>\n",
       "    <tr>\n",
       "      <th>...</th>\n",
       "      <td>...</td>\n",
       "      <td>...</td>\n",
       "      <td>...</td>\n",
       "      <td>...</td>\n",
       "      <td>...</td>\n",
       "      <td>...</td>\n",
       "      <td>...</td>\n",
       "    </tr>\n",
       "    <tr>\n",
       "      <th>2023-03-24 00:00:00+05:30</th>\n",
       "      <td>17076.199219</td>\n",
       "      <td>17109.449219</td>\n",
       "      <td>16917.349609</td>\n",
       "      <td>16945.050781</td>\n",
       "      <td>228000</td>\n",
       "      <td>0.0</td>\n",
       "      <td>0.0</td>\n",
       "    </tr>\n",
       "    <tr>\n",
       "      <th>2023-03-27 00:00:00+05:30</th>\n",
       "      <td>16984.300781</td>\n",
       "      <td>17091.000000</td>\n",
       "      <td>16918.550781</td>\n",
       "      <td>16985.699219</td>\n",
       "      <td>218400</td>\n",
       "      <td>0.0</td>\n",
       "      <td>0.0</td>\n",
       "    </tr>\n",
       "    <tr>\n",
       "      <th>2023-03-28 00:00:00+05:30</th>\n",
       "      <td>17031.750000</td>\n",
       "      <td>17061.750000</td>\n",
       "      <td>16913.750000</td>\n",
       "      <td>16951.699219</td>\n",
       "      <td>238800</td>\n",
       "      <td>0.0</td>\n",
       "      <td>0.0</td>\n",
       "    </tr>\n",
       "    <tr>\n",
       "      <th>2023-03-29 00:00:00+05:30</th>\n",
       "      <td>16977.300781</td>\n",
       "      <td>17126.150391</td>\n",
       "      <td>16940.599609</td>\n",
       "      <td>17080.699219</td>\n",
       "      <td>345900</td>\n",
       "      <td>0.0</td>\n",
       "      <td>0.0</td>\n",
       "    </tr>\n",
       "    <tr>\n",
       "      <th>2023-03-31 00:00:00+05:30</th>\n",
       "      <td>17210.349609</td>\n",
       "      <td>17381.599609</td>\n",
       "      <td>17204.650391</td>\n",
       "      <td>17359.750000</td>\n",
       "      <td>263900</td>\n",
       "      <td>0.0</td>\n",
       "      <td>0.0</td>\n",
       "    </tr>\n",
       "  </tbody>\n",
       "</table>\n",
       "<p>3737 rows × 7 columns</p>\n",
       "</div>"
      ],
      "text/plain": [
       "                                   Open          High           Low  \\\n",
       "Date                                                                  \n",
       "2008-01-01 00:00:00+05:30   6136.750000   6165.350098   6109.850098   \n",
       "2008-01-02 00:00:00+05:30   6144.700195   6197.000000   6060.850098   \n",
       "2008-01-03 00:00:00+05:30   6184.250000   6230.149902   6126.399902   \n",
       "2008-01-04 00:00:00+05:30   6179.100098   6300.049805   6179.100098   \n",
       "2008-01-07 00:00:00+05:30   6271.000000   6289.799805   6193.350098   \n",
       "...                                 ...           ...           ...   \n",
       "2023-03-24 00:00:00+05:30  17076.199219  17109.449219  16917.349609   \n",
       "2023-03-27 00:00:00+05:30  16984.300781  17091.000000  16918.550781   \n",
       "2023-03-28 00:00:00+05:30  17031.750000  17061.750000  16913.750000   \n",
       "2023-03-29 00:00:00+05:30  16977.300781  17126.150391  16940.599609   \n",
       "2023-03-31 00:00:00+05:30  17210.349609  17381.599609  17204.650391   \n",
       "\n",
       "                                  Close  Volume  Dividends  Stock Splits  \n",
       "Date                                                                      \n",
       "2008-01-01 00:00:00+05:30   6144.350098       0        0.0           0.0  \n",
       "2008-01-02 00:00:00+05:30   6179.399902       0        0.0           0.0  \n",
       "2008-01-03 00:00:00+05:30   6178.549805       0        0.0           0.0  \n",
       "2008-01-04 00:00:00+05:30   6274.299805       0        0.0           0.0  \n",
       "2008-01-07 00:00:00+05:30   6279.100098       0        0.0           0.0  \n",
       "...                                 ...     ...        ...           ...  \n",
       "2023-03-24 00:00:00+05:30  16945.050781  228000        0.0           0.0  \n",
       "2023-03-27 00:00:00+05:30  16985.699219  218400        0.0           0.0  \n",
       "2023-03-28 00:00:00+05:30  16951.699219  238800        0.0           0.0  \n",
       "2023-03-29 00:00:00+05:30  17080.699219  345900        0.0           0.0  \n",
       "2023-03-31 00:00:00+05:30  17359.750000  263900        0.0           0.0  \n",
       "\n",
       "[3737 rows x 7 columns]"
      ]
     },
     "execution_count": 4,
     "metadata": {},
     "output_type": "execute_result"
    }
   ],
   "source": [
    "nifty50"
   ]
  },
  {
   "cell_type": "code",
   "execution_count": 5,
   "id": "99f1258a",
   "metadata": {},
   "outputs": [],
   "source": [
    "tata_motors = yf.Ticker(\"TATAMOTORS.NS\").history(start=start_date, end= end_date)"
   ]
  },
  {
   "cell_type": "code",
   "execution_count": 6,
   "id": "d9f7e419",
   "metadata": {},
   "outputs": [
    {
     "data": {
      "text/html": [
       "<div>\n",
       "<style scoped>\n",
       "    .dataframe tbody tr th:only-of-type {\n",
       "        vertical-align: middle;\n",
       "    }\n",
       "\n",
       "    .dataframe tbody tr th {\n",
       "        vertical-align: top;\n",
       "    }\n",
       "\n",
       "    .dataframe thead th {\n",
       "        text-align: right;\n",
       "    }\n",
       "</style>\n",
       "<table border=\"1\" class=\"dataframe\">\n",
       "  <thead>\n",
       "    <tr style=\"text-align: right;\">\n",
       "      <th></th>\n",
       "      <th>Open</th>\n",
       "      <th>High</th>\n",
       "      <th>Low</th>\n",
       "      <th>Close</th>\n",
       "      <th>Volume</th>\n",
       "      <th>Dividends</th>\n",
       "      <th>Stock Splits</th>\n",
       "    </tr>\n",
       "    <tr>\n",
       "      <th>Date</th>\n",
       "      <th></th>\n",
       "      <th></th>\n",
       "      <th></th>\n",
       "      <th></th>\n",
       "      <th></th>\n",
       "      <th></th>\n",
       "      <th></th>\n",
       "    </tr>\n",
       "  </thead>\n",
       "  <tbody>\n",
       "    <tr>\n",
       "      <th>2008-01-01 00:00:00+05:30</th>\n",
       "      <td>127.442010</td>\n",
       "      <td>131.649997</td>\n",
       "      <td>126.583230</td>\n",
       "      <td>130.937210</td>\n",
       "      <td>6914777</td>\n",
       "      <td>0.0</td>\n",
       "      <td>0.0</td>\n",
       "    </tr>\n",
       "    <tr>\n",
       "      <th>2008-01-02 00:00:00+05:30</th>\n",
       "      <td>131.710085</td>\n",
       "      <td>136.888491</td>\n",
       "      <td>129.331283</td>\n",
       "      <td>136.295944</td>\n",
       "      <td>10611582</td>\n",
       "      <td>0.0</td>\n",
       "      <td>0.0</td>\n",
       "    </tr>\n",
       "    <tr>\n",
       "      <th>2008-01-03 00:00:00+05:30</th>\n",
       "      <td>137.403736</td>\n",
       "      <td>140.151822</td>\n",
       "      <td>133.977232</td>\n",
       "      <td>135.960999</td>\n",
       "      <td>10581493</td>\n",
       "      <td>0.0</td>\n",
       "      <td>0.0</td>\n",
       "    </tr>\n",
       "    <tr>\n",
       "      <th>2008-01-04 00:00:00+05:30</th>\n",
       "      <td>137.403756</td>\n",
       "      <td>141.543048</td>\n",
       "      <td>132.448641</td>\n",
       "      <td>134.252060</td>\n",
       "      <td>9271718</td>\n",
       "      <td>0.0</td>\n",
       "      <td>0.0</td>\n",
       "    </tr>\n",
       "    <tr>\n",
       "      <th>2008-01-07 00:00:00+05:30</th>\n",
       "      <td>134.483921</td>\n",
       "      <td>138.743439</td>\n",
       "      <td>131.048828</td>\n",
       "      <td>134.896133</td>\n",
       "      <td>7606509</td>\n",
       "      <td>0.0</td>\n",
       "      <td>0.0</td>\n",
       "    </tr>\n",
       "    <tr>\n",
       "      <th>...</th>\n",
       "      <td>...</td>\n",
       "      <td>...</td>\n",
       "      <td>...</td>\n",
       "      <td>...</td>\n",
       "      <td>...</td>\n",
       "      <td>...</td>\n",
       "      <td>...</td>\n",
       "    </tr>\n",
       "    <tr>\n",
       "      <th>2023-03-24 00:00:00+05:30</th>\n",
       "      <td>419.000000</td>\n",
       "      <td>420.549988</td>\n",
       "      <td>414.799988</td>\n",
       "      <td>416.500000</td>\n",
       "      <td>6877960</td>\n",
       "      <td>0.0</td>\n",
       "      <td>0.0</td>\n",
       "    </tr>\n",
       "    <tr>\n",
       "      <th>2023-03-27 00:00:00+05:30</th>\n",
       "      <td>416.000000</td>\n",
       "      <td>418.500000</td>\n",
       "      <td>410.250000</td>\n",
       "      <td>412.049988</td>\n",
       "      <td>7433933</td>\n",
       "      <td>0.0</td>\n",
       "      <td>0.0</td>\n",
       "    </tr>\n",
       "    <tr>\n",
       "      <th>2023-03-28 00:00:00+05:30</th>\n",
       "      <td>414.149994</td>\n",
       "      <td>414.500000</td>\n",
       "      <td>400.450012</td>\n",
       "      <td>401.600006</td>\n",
       "      <td>9553659</td>\n",
       "      <td>0.0</td>\n",
       "      <td>0.0</td>\n",
       "    </tr>\n",
       "    <tr>\n",
       "      <th>2023-03-29 00:00:00+05:30</th>\n",
       "      <td>401.600006</td>\n",
       "      <td>410.600006</td>\n",
       "      <td>401.600006</td>\n",
       "      <td>409.200012</td>\n",
       "      <td>10478506</td>\n",
       "      <td>0.0</td>\n",
       "      <td>0.0</td>\n",
       "    </tr>\n",
       "    <tr>\n",
       "      <th>2023-03-31 00:00:00+05:30</th>\n",
       "      <td>411.350006</td>\n",
       "      <td>421.750000</td>\n",
       "      <td>411.000000</td>\n",
       "      <td>420.799988</td>\n",
       "      <td>11037881</td>\n",
       "      <td>0.0</td>\n",
       "      <td>0.0</td>\n",
       "    </tr>\n",
       "  </tbody>\n",
       "</table>\n",
       "<p>3760 rows × 7 columns</p>\n",
       "</div>"
      ],
      "text/plain": [
       "                                 Open        High         Low       Close  \\\n",
       "Date                                                                        \n",
       "2008-01-01 00:00:00+05:30  127.442010  131.649997  126.583230  130.937210   \n",
       "2008-01-02 00:00:00+05:30  131.710085  136.888491  129.331283  136.295944   \n",
       "2008-01-03 00:00:00+05:30  137.403736  140.151822  133.977232  135.960999   \n",
       "2008-01-04 00:00:00+05:30  137.403756  141.543048  132.448641  134.252060   \n",
       "2008-01-07 00:00:00+05:30  134.483921  138.743439  131.048828  134.896133   \n",
       "...                               ...         ...         ...         ...   \n",
       "2023-03-24 00:00:00+05:30  419.000000  420.549988  414.799988  416.500000   \n",
       "2023-03-27 00:00:00+05:30  416.000000  418.500000  410.250000  412.049988   \n",
       "2023-03-28 00:00:00+05:30  414.149994  414.500000  400.450012  401.600006   \n",
       "2023-03-29 00:00:00+05:30  401.600006  410.600006  401.600006  409.200012   \n",
       "2023-03-31 00:00:00+05:30  411.350006  421.750000  411.000000  420.799988   \n",
       "\n",
       "                             Volume  Dividends  Stock Splits  \n",
       "Date                                                          \n",
       "2008-01-01 00:00:00+05:30   6914777        0.0           0.0  \n",
       "2008-01-02 00:00:00+05:30  10611582        0.0           0.0  \n",
       "2008-01-03 00:00:00+05:30  10581493        0.0           0.0  \n",
       "2008-01-04 00:00:00+05:30   9271718        0.0           0.0  \n",
       "2008-01-07 00:00:00+05:30   7606509        0.0           0.0  \n",
       "...                             ...        ...           ...  \n",
       "2023-03-24 00:00:00+05:30   6877960        0.0           0.0  \n",
       "2023-03-27 00:00:00+05:30   7433933        0.0           0.0  \n",
       "2023-03-28 00:00:00+05:30   9553659        0.0           0.0  \n",
       "2023-03-29 00:00:00+05:30  10478506        0.0           0.0  \n",
       "2023-03-31 00:00:00+05:30  11037881        0.0           0.0  \n",
       "\n",
       "[3760 rows x 7 columns]"
      ]
     },
     "execution_count": 6,
     "metadata": {},
     "output_type": "execute_result"
    }
   ],
   "source": [
    "tata_motors"
   ]
  },
  {
   "cell_type": "code",
   "execution_count": 7,
   "id": "d46e55d5",
   "metadata": {},
   "outputs": [],
   "source": [
    "havells = yf.Ticker(\"HAVELLS.NS\").history(start=start_date, end= end_date)"
   ]
  },
  {
   "cell_type": "code",
   "execution_count": 8,
   "id": "ee37f5c3",
   "metadata": {},
   "outputs": [
    {
     "data": {
      "text/html": [
       "<div>\n",
       "<style scoped>\n",
       "    .dataframe tbody tr th:only-of-type {\n",
       "        vertical-align: middle;\n",
       "    }\n",
       "\n",
       "    .dataframe tbody tr th {\n",
       "        vertical-align: top;\n",
       "    }\n",
       "\n",
       "    .dataframe thead th {\n",
       "        text-align: right;\n",
       "    }\n",
       "</style>\n",
       "<table border=\"1\" class=\"dataframe\">\n",
       "  <thead>\n",
       "    <tr style=\"text-align: right;\">\n",
       "      <th></th>\n",
       "      <th>Open</th>\n",
       "      <th>High</th>\n",
       "      <th>Low</th>\n",
       "      <th>Close</th>\n",
       "      <th>Volume</th>\n",
       "      <th>Dividends</th>\n",
       "      <th>Stock Splits</th>\n",
       "    </tr>\n",
       "    <tr>\n",
       "      <th>Date</th>\n",
       "      <th></th>\n",
       "      <th></th>\n",
       "      <th></th>\n",
       "      <th></th>\n",
       "      <th></th>\n",
       "      <th></th>\n",
       "      <th></th>\n",
       "    </tr>\n",
       "  </thead>\n",
       "  <tbody>\n",
       "    <tr>\n",
       "      <th>2008-01-01 00:00:00+05:30</th>\n",
       "      <td>61.073263</td>\n",
       "      <td>61.749062</td>\n",
       "      <td>60.098552</td>\n",
       "      <td>60.475445</td>\n",
       "      <td>1177450</td>\n",
       "      <td>0.0</td>\n",
       "      <td>0.0</td>\n",
       "    </tr>\n",
       "    <tr>\n",
       "      <th>2008-01-02 00:00:00+05:30</th>\n",
       "      <td>60.640074</td>\n",
       "      <td>61.168585</td>\n",
       "      <td>59.353453</td>\n",
       "      <td>60.345497</td>\n",
       "      <td>1454130</td>\n",
       "      <td>0.0</td>\n",
       "      <td>0.0</td>\n",
       "    </tr>\n",
       "    <tr>\n",
       "      <th>2008-01-03 00:00:00+05:30</th>\n",
       "      <td>59.782301</td>\n",
       "      <td>61.558445</td>\n",
       "      <td>59.613352</td>\n",
       "      <td>60.813332</td>\n",
       "      <td>1477600</td>\n",
       "      <td>0.0</td>\n",
       "      <td>0.0</td>\n",
       "    </tr>\n",
       "    <tr>\n",
       "      <th>2008-01-04 00:00:00+05:30</th>\n",
       "      <td>61.905015</td>\n",
       "      <td>62.294904</td>\n",
       "      <td>59.609033</td>\n",
       "      <td>60.341145</td>\n",
       "      <td>1320740</td>\n",
       "      <td>0.0</td>\n",
       "      <td>0.0</td>\n",
       "    </tr>\n",
       "    <tr>\n",
       "      <th>2008-01-07 00:00:00+05:30</th>\n",
       "      <td>60.302162</td>\n",
       "      <td>61.601778</td>\n",
       "      <td>59.349112</td>\n",
       "      <td>60.297832</td>\n",
       "      <td>778180</td>\n",
       "      <td>0.0</td>\n",
       "      <td>0.0</td>\n",
       "    </tr>\n",
       "    <tr>\n",
       "      <th>...</th>\n",
       "      <td>...</td>\n",
       "      <td>...</td>\n",
       "      <td>...</td>\n",
       "      <td>...</td>\n",
       "      <td>...</td>\n",
       "      <td>...</td>\n",
       "      <td>...</td>\n",
       "    </tr>\n",
       "    <tr>\n",
       "      <th>2023-03-24 00:00:00+05:30</th>\n",
       "      <td>1191.400024</td>\n",
       "      <td>1197.650024</td>\n",
       "      <td>1174.000000</td>\n",
       "      <td>1181.449951</td>\n",
       "      <td>253493</td>\n",
       "      <td>0.0</td>\n",
       "      <td>0.0</td>\n",
       "    </tr>\n",
       "    <tr>\n",
       "      <th>2023-03-27 00:00:00+05:30</th>\n",
       "      <td>1181.050049</td>\n",
       "      <td>1189.349976</td>\n",
       "      <td>1162.300049</td>\n",
       "      <td>1167.900024</td>\n",
       "      <td>269418</td>\n",
       "      <td>0.0</td>\n",
       "      <td>0.0</td>\n",
       "    </tr>\n",
       "    <tr>\n",
       "      <th>2023-03-28 00:00:00+05:30</th>\n",
       "      <td>1170.000000</td>\n",
       "      <td>1172.449951</td>\n",
       "      <td>1131.800049</td>\n",
       "      <td>1144.000000</td>\n",
       "      <td>943699</td>\n",
       "      <td>0.0</td>\n",
       "      <td>0.0</td>\n",
       "    </tr>\n",
       "    <tr>\n",
       "      <th>2023-03-29 00:00:00+05:30</th>\n",
       "      <td>1138.000000</td>\n",
       "      <td>1183.550049</td>\n",
       "      <td>1136.050049</td>\n",
       "      <td>1179.599976</td>\n",
       "      <td>607826</td>\n",
       "      <td>0.0</td>\n",
       "      <td>0.0</td>\n",
       "    </tr>\n",
       "    <tr>\n",
       "      <th>2023-03-31 00:00:00+05:30</th>\n",
       "      <td>1185.599976</td>\n",
       "      <td>1194.400024</td>\n",
       "      <td>1177.800049</td>\n",
       "      <td>1188.500000</td>\n",
       "      <td>492712</td>\n",
       "      <td>0.0</td>\n",
       "      <td>0.0</td>\n",
       "    </tr>\n",
       "  </tbody>\n",
       "</table>\n",
       "<p>3760 rows × 7 columns</p>\n",
       "</div>"
      ],
      "text/plain": [
       "                                  Open         High          Low        Close  \\\n",
       "Date                                                                            \n",
       "2008-01-01 00:00:00+05:30    61.073263    61.749062    60.098552    60.475445   \n",
       "2008-01-02 00:00:00+05:30    60.640074    61.168585    59.353453    60.345497   \n",
       "2008-01-03 00:00:00+05:30    59.782301    61.558445    59.613352    60.813332   \n",
       "2008-01-04 00:00:00+05:30    61.905015    62.294904    59.609033    60.341145   \n",
       "2008-01-07 00:00:00+05:30    60.302162    61.601778    59.349112    60.297832   \n",
       "...                                ...          ...          ...          ...   \n",
       "2023-03-24 00:00:00+05:30  1191.400024  1197.650024  1174.000000  1181.449951   \n",
       "2023-03-27 00:00:00+05:30  1181.050049  1189.349976  1162.300049  1167.900024   \n",
       "2023-03-28 00:00:00+05:30  1170.000000  1172.449951  1131.800049  1144.000000   \n",
       "2023-03-29 00:00:00+05:30  1138.000000  1183.550049  1136.050049  1179.599976   \n",
       "2023-03-31 00:00:00+05:30  1185.599976  1194.400024  1177.800049  1188.500000   \n",
       "\n",
       "                            Volume  Dividends  Stock Splits  \n",
       "Date                                                         \n",
       "2008-01-01 00:00:00+05:30  1177450        0.0           0.0  \n",
       "2008-01-02 00:00:00+05:30  1454130        0.0           0.0  \n",
       "2008-01-03 00:00:00+05:30  1477600        0.0           0.0  \n",
       "2008-01-04 00:00:00+05:30  1320740        0.0           0.0  \n",
       "2008-01-07 00:00:00+05:30   778180        0.0           0.0  \n",
       "...                            ...        ...           ...  \n",
       "2023-03-24 00:00:00+05:30   253493        0.0           0.0  \n",
       "2023-03-27 00:00:00+05:30   269418        0.0           0.0  \n",
       "2023-03-28 00:00:00+05:30   943699        0.0           0.0  \n",
       "2023-03-29 00:00:00+05:30   607826        0.0           0.0  \n",
       "2023-03-31 00:00:00+05:30   492712        0.0           0.0  \n",
       "\n",
       "[3760 rows x 7 columns]"
      ]
     },
     "execution_count": 8,
     "metadata": {},
     "output_type": "execute_result"
    }
   ],
   "source": [
    "havells"
   ]
  },
  {
   "cell_type": "code",
   "execution_count": 9,
   "id": "55a3941a",
   "metadata": {},
   "outputs": [],
   "source": [
    "itc = yf.Ticker(\"ITC.NS\").history(start=start_date, end= end_date)"
   ]
  },
  {
   "cell_type": "code",
   "execution_count": 10,
   "id": "512db340",
   "metadata": {},
   "outputs": [
    {
     "data": {
      "text/html": [
       "<div>\n",
       "<style scoped>\n",
       "    .dataframe tbody tr th:only-of-type {\n",
       "        vertical-align: middle;\n",
       "    }\n",
       "\n",
       "    .dataframe tbody tr th {\n",
       "        vertical-align: top;\n",
       "    }\n",
       "\n",
       "    .dataframe thead th {\n",
       "        text-align: right;\n",
       "    }\n",
       "</style>\n",
       "<table border=\"1\" class=\"dataframe\">\n",
       "  <thead>\n",
       "    <tr style=\"text-align: right;\">\n",
       "      <th></th>\n",
       "      <th>Open</th>\n",
       "      <th>High</th>\n",
       "      <th>Low</th>\n",
       "      <th>Close</th>\n",
       "      <th>Volume</th>\n",
       "      <th>Dividends</th>\n",
       "      <th>Stock Splits</th>\n",
       "    </tr>\n",
       "    <tr>\n",
       "      <th>Date</th>\n",
       "      <th></th>\n",
       "      <th></th>\n",
       "      <th></th>\n",
       "      <th></th>\n",
       "      <th></th>\n",
       "      <th></th>\n",
       "      <th></th>\n",
       "    </tr>\n",
       "  </thead>\n",
       "  <tbody>\n",
       "    <tr>\n",
       "      <th>2008-01-01 00:00:00+05:30</th>\n",
       "      <td>49.287690</td>\n",
       "      <td>51.345222</td>\n",
       "      <td>48.845962</td>\n",
       "      <td>50.589630</td>\n",
       "      <td>34574097</td>\n",
       "      <td>0.0</td>\n",
       "      <td>0.0</td>\n",
       "    </tr>\n",
       "    <tr>\n",
       "      <th>2008-01-02 00:00:00+05:30</th>\n",
       "      <td>51.124364</td>\n",
       "      <td>52.868033</td>\n",
       "      <td>49.822424</td>\n",
       "      <td>51.403347</td>\n",
       "      <td>54451458</td>\n",
       "      <td>0.0</td>\n",
       "      <td>0.0</td>\n",
       "    </tr>\n",
       "    <tr>\n",
       "      <th>2008-01-03 00:00:00+05:30</th>\n",
       "      <td>51.147607</td>\n",
       "      <td>51.380093</td>\n",
       "      <td>49.299318</td>\n",
       "      <td>49.857288</td>\n",
       "      <td>43376439</td>\n",
       "      <td>0.0</td>\n",
       "      <td>0.0</td>\n",
       "    </tr>\n",
       "    <tr>\n",
       "      <th>2008-01-04 00:00:00+05:30</th>\n",
       "      <td>49.985152</td>\n",
       "      <td>51.194098</td>\n",
       "      <td>49.555051</td>\n",
       "      <td>50.996483</td>\n",
       "      <td>35674392</td>\n",
       "      <td>0.0</td>\n",
       "      <td>0.0</td>\n",
       "    </tr>\n",
       "    <tr>\n",
       "      <th>2008-01-07 00:00:00+05:30</th>\n",
       "      <td>49.217937</td>\n",
       "      <td>54.634935</td>\n",
       "      <td>49.217937</td>\n",
       "      <td>53.774723</td>\n",
       "      <td>50391894</td>\n",
       "      <td>0.0</td>\n",
       "      <td>0.0</td>\n",
       "    </tr>\n",
       "    <tr>\n",
       "      <th>...</th>\n",
       "      <td>...</td>\n",
       "      <td>...</td>\n",
       "      <td>...</td>\n",
       "      <td>...</td>\n",
       "      <td>...</td>\n",
       "      <td>...</td>\n",
       "      <td>...</td>\n",
       "    </tr>\n",
       "    <tr>\n",
       "      <th>2023-03-24 00:00:00+05:30</th>\n",
       "      <td>381.500000</td>\n",
       "      <td>383.000000</td>\n",
       "      <td>378.000000</td>\n",
       "      <td>378.700012</td>\n",
       "      <td>9934501</td>\n",
       "      <td>0.0</td>\n",
       "      <td>0.0</td>\n",
       "    </tr>\n",
       "    <tr>\n",
       "      <th>2023-03-27 00:00:00+05:30</th>\n",
       "      <td>377.950012</td>\n",
       "      <td>384.399994</td>\n",
       "      <td>376.350006</td>\n",
       "      <td>380.200012</td>\n",
       "      <td>10816352</td>\n",
       "      <td>0.0</td>\n",
       "      <td>0.0</td>\n",
       "    </tr>\n",
       "    <tr>\n",
       "      <th>2023-03-28 00:00:00+05:30</th>\n",
       "      <td>380.200012</td>\n",
       "      <td>382.350006</td>\n",
       "      <td>378.149994</td>\n",
       "      <td>379.750000</td>\n",
       "      <td>9170535</td>\n",
       "      <td>0.0</td>\n",
       "      <td>0.0</td>\n",
       "    </tr>\n",
       "    <tr>\n",
       "      <th>2023-03-29 00:00:00+05:30</th>\n",
       "      <td>380.200012</td>\n",
       "      <td>384.000000</td>\n",
       "      <td>377.149994</td>\n",
       "      <td>382.750000</td>\n",
       "      <td>10160322</td>\n",
       "      <td>0.0</td>\n",
       "      <td>0.0</td>\n",
       "    </tr>\n",
       "    <tr>\n",
       "      <th>2023-03-31 00:00:00+05:30</th>\n",
       "      <td>382.000000</td>\n",
       "      <td>384.500000</td>\n",
       "      <td>380.000000</td>\n",
       "      <td>383.500000</td>\n",
       "      <td>9511189</td>\n",
       "      <td>0.0</td>\n",
       "      <td>0.0</td>\n",
       "    </tr>\n",
       "  </tbody>\n",
       "</table>\n",
       "<p>3760 rows × 7 columns</p>\n",
       "</div>"
      ],
      "text/plain": [
       "                                 Open        High         Low       Close  \\\n",
       "Date                                                                        \n",
       "2008-01-01 00:00:00+05:30   49.287690   51.345222   48.845962   50.589630   \n",
       "2008-01-02 00:00:00+05:30   51.124364   52.868033   49.822424   51.403347   \n",
       "2008-01-03 00:00:00+05:30   51.147607   51.380093   49.299318   49.857288   \n",
       "2008-01-04 00:00:00+05:30   49.985152   51.194098   49.555051   50.996483   \n",
       "2008-01-07 00:00:00+05:30   49.217937   54.634935   49.217937   53.774723   \n",
       "...                               ...         ...         ...         ...   \n",
       "2023-03-24 00:00:00+05:30  381.500000  383.000000  378.000000  378.700012   \n",
       "2023-03-27 00:00:00+05:30  377.950012  384.399994  376.350006  380.200012   \n",
       "2023-03-28 00:00:00+05:30  380.200012  382.350006  378.149994  379.750000   \n",
       "2023-03-29 00:00:00+05:30  380.200012  384.000000  377.149994  382.750000   \n",
       "2023-03-31 00:00:00+05:30  382.000000  384.500000  380.000000  383.500000   \n",
       "\n",
       "                             Volume  Dividends  Stock Splits  \n",
       "Date                                                          \n",
       "2008-01-01 00:00:00+05:30  34574097        0.0           0.0  \n",
       "2008-01-02 00:00:00+05:30  54451458        0.0           0.0  \n",
       "2008-01-03 00:00:00+05:30  43376439        0.0           0.0  \n",
       "2008-01-04 00:00:00+05:30  35674392        0.0           0.0  \n",
       "2008-01-07 00:00:00+05:30  50391894        0.0           0.0  \n",
       "...                             ...        ...           ...  \n",
       "2023-03-24 00:00:00+05:30   9934501        0.0           0.0  \n",
       "2023-03-27 00:00:00+05:30  10816352        0.0           0.0  \n",
       "2023-03-28 00:00:00+05:30   9170535        0.0           0.0  \n",
       "2023-03-29 00:00:00+05:30  10160322        0.0           0.0  \n",
       "2023-03-31 00:00:00+05:30   9511189        0.0           0.0  \n",
       "\n",
       "[3760 rows x 7 columns]"
      ]
     },
     "execution_count": 10,
     "metadata": {},
     "output_type": "execute_result"
    }
   ],
   "source": [
    "itc"
   ]
  },
  {
   "cell_type": "code",
   "execution_count": 11,
   "id": "6ea19827",
   "metadata": {},
   "outputs": [],
   "source": [
    "infosys = yf.Ticker(\"INFY.NS\").history(start=start_date, end= end_date)"
   ]
  },
  {
   "cell_type": "code",
   "execution_count": 12,
   "id": "7883e4fe",
   "metadata": {},
   "outputs": [
    {
     "data": {
      "text/html": [
       "<div>\n",
       "<style scoped>\n",
       "    .dataframe tbody tr th:only-of-type {\n",
       "        vertical-align: middle;\n",
       "    }\n",
       "\n",
       "    .dataframe tbody tr th {\n",
       "        vertical-align: top;\n",
       "    }\n",
       "\n",
       "    .dataframe thead th {\n",
       "        text-align: right;\n",
       "    }\n",
       "</style>\n",
       "<table border=\"1\" class=\"dataframe\">\n",
       "  <thead>\n",
       "    <tr style=\"text-align: right;\">\n",
       "      <th></th>\n",
       "      <th>Open</th>\n",
       "      <th>High</th>\n",
       "      <th>Low</th>\n",
       "      <th>Close</th>\n",
       "      <th>Volume</th>\n",
       "      <th>Dividends</th>\n",
       "      <th>Stock Splits</th>\n",
       "    </tr>\n",
       "    <tr>\n",
       "      <th>Date</th>\n",
       "      <th></th>\n",
       "      <th></th>\n",
       "      <th></th>\n",
       "      <th></th>\n",
       "      <th></th>\n",
       "      <th></th>\n",
       "      <th></th>\n",
       "    </tr>\n",
       "  </thead>\n",
       "  <tbody>\n",
       "    <tr>\n",
       "      <th>2008-01-01 00:00:00+05:30</th>\n",
       "      <td>161.224633</td>\n",
       "      <td>162.319785</td>\n",
       "      <td>159.002389</td>\n",
       "      <td>159.422195</td>\n",
       "      <td>2001624</td>\n",
       "      <td>0.0</td>\n",
       "      <td>0.0</td>\n",
       "    </tr>\n",
       "    <tr>\n",
       "      <th>2008-01-02 00:00:00+05:30</th>\n",
       "      <td>159.709708</td>\n",
       "      <td>160.563011</td>\n",
       "      <td>156.278233</td>\n",
       "      <td>159.554565</td>\n",
       "      <td>6155056</td>\n",
       "      <td>0.0</td>\n",
       "      <td>0.0</td>\n",
       "    </tr>\n",
       "    <tr>\n",
       "      <th>2008-01-03 00:00:00+05:30</th>\n",
       "      <td>163.999005</td>\n",
       "      <td>163.999005</td>\n",
       "      <td>154.233900</td>\n",
       "      <td>155.972458</td>\n",
       "      <td>12425960</td>\n",
       "      <td>0.0</td>\n",
       "      <td>0.0</td>\n",
       "    </tr>\n",
       "    <tr>\n",
       "      <th>2008-01-04 00:00:00+05:30</th>\n",
       "      <td>159.472365</td>\n",
       "      <td>159.472365</td>\n",
       "      <td>153.321260</td>\n",
       "      <td>154.681076</td>\n",
       "      <td>6166320</td>\n",
       "      <td>0.0</td>\n",
       "      <td>0.0</td>\n",
       "    </tr>\n",
       "    <tr>\n",
       "      <th>2008-01-07 00:00:00+05:30</th>\n",
       "      <td>152.408707</td>\n",
       "      <td>154.233961</td>\n",
       "      <td>148.119360</td>\n",
       "      <td>149.383347</td>\n",
       "      <td>13254200</td>\n",
       "      <td>0.0</td>\n",
       "      <td>0.0</td>\n",
       "    </tr>\n",
       "    <tr>\n",
       "      <th>...</th>\n",
       "      <td>...</td>\n",
       "      <td>...</td>\n",
       "      <td>...</td>\n",
       "      <td>...</td>\n",
       "      <td>...</td>\n",
       "      <td>...</td>\n",
       "      <td>...</td>\n",
       "    </tr>\n",
       "    <tr>\n",
       "      <th>2023-03-24 00:00:00+05:30</th>\n",
       "      <td>1388.000000</td>\n",
       "      <td>1398.949951</td>\n",
       "      <td>1377.500000</td>\n",
       "      <td>1380.650024</td>\n",
       "      <td>7559127</td>\n",
       "      <td>0.0</td>\n",
       "      <td>0.0</td>\n",
       "    </tr>\n",
       "    <tr>\n",
       "      <th>2023-03-27 00:00:00+05:30</th>\n",
       "      <td>1386.250000</td>\n",
       "      <td>1395.750000</td>\n",
       "      <td>1374.099976</td>\n",
       "      <td>1388.949951</td>\n",
       "      <td>4170193</td>\n",
       "      <td>0.0</td>\n",
       "      <td>0.0</td>\n",
       "    </tr>\n",
       "    <tr>\n",
       "      <th>2023-03-28 00:00:00+05:30</th>\n",
       "      <td>1392.099976</td>\n",
       "      <td>1398.000000</td>\n",
       "      <td>1375.849976</td>\n",
       "      <td>1377.599976</td>\n",
       "      <td>6633366</td>\n",
       "      <td>0.0</td>\n",
       "      <td>0.0</td>\n",
       "    </tr>\n",
       "    <tr>\n",
       "      <th>2023-03-29 00:00:00+05:30</th>\n",
       "      <td>1379.000000</td>\n",
       "      <td>1389.900024</td>\n",
       "      <td>1364.550049</td>\n",
       "      <td>1383.550049</td>\n",
       "      <td>8813966</td>\n",
       "      <td>0.0</td>\n",
       "      <td>0.0</td>\n",
       "    </tr>\n",
       "    <tr>\n",
       "      <th>2023-03-31 00:00:00+05:30</th>\n",
       "      <td>1404.000000</td>\n",
       "      <td>1429.949951</td>\n",
       "      <td>1393.900024</td>\n",
       "      <td>1427.949951</td>\n",
       "      <td>8711975</td>\n",
       "      <td>0.0</td>\n",
       "      <td>0.0</td>\n",
       "    </tr>\n",
       "  </tbody>\n",
       "</table>\n",
       "<p>3760 rows × 7 columns</p>\n",
       "</div>"
      ],
      "text/plain": [
       "                                  Open         High          Low        Close  \\\n",
       "Date                                                                            \n",
       "2008-01-01 00:00:00+05:30   161.224633   162.319785   159.002389   159.422195   \n",
       "2008-01-02 00:00:00+05:30   159.709708   160.563011   156.278233   159.554565   \n",
       "2008-01-03 00:00:00+05:30   163.999005   163.999005   154.233900   155.972458   \n",
       "2008-01-04 00:00:00+05:30   159.472365   159.472365   153.321260   154.681076   \n",
       "2008-01-07 00:00:00+05:30   152.408707   154.233961   148.119360   149.383347   \n",
       "...                                ...          ...          ...          ...   \n",
       "2023-03-24 00:00:00+05:30  1388.000000  1398.949951  1377.500000  1380.650024   \n",
       "2023-03-27 00:00:00+05:30  1386.250000  1395.750000  1374.099976  1388.949951   \n",
       "2023-03-28 00:00:00+05:30  1392.099976  1398.000000  1375.849976  1377.599976   \n",
       "2023-03-29 00:00:00+05:30  1379.000000  1389.900024  1364.550049  1383.550049   \n",
       "2023-03-31 00:00:00+05:30  1404.000000  1429.949951  1393.900024  1427.949951   \n",
       "\n",
       "                             Volume  Dividends  Stock Splits  \n",
       "Date                                                          \n",
       "2008-01-01 00:00:00+05:30   2001624        0.0           0.0  \n",
       "2008-01-02 00:00:00+05:30   6155056        0.0           0.0  \n",
       "2008-01-03 00:00:00+05:30  12425960        0.0           0.0  \n",
       "2008-01-04 00:00:00+05:30   6166320        0.0           0.0  \n",
       "2008-01-07 00:00:00+05:30  13254200        0.0           0.0  \n",
       "...                             ...        ...           ...  \n",
       "2023-03-24 00:00:00+05:30   7559127        0.0           0.0  \n",
       "2023-03-27 00:00:00+05:30   4170193        0.0           0.0  \n",
       "2023-03-28 00:00:00+05:30   6633366        0.0           0.0  \n",
       "2023-03-29 00:00:00+05:30   8813966        0.0           0.0  \n",
       "2023-03-31 00:00:00+05:30   8711975        0.0           0.0  \n",
       "\n",
       "[3760 rows x 7 columns]"
      ]
     },
     "execution_count": 12,
     "metadata": {},
     "output_type": "execute_result"
    }
   ],
   "source": [
    "infosys"
   ]
  },
  {
   "cell_type": "code",
   "execution_count": 13,
   "id": "fe77be72",
   "metadata": {},
   "outputs": [],
   "source": [
    "# exporting data to.csv"
   ]
  },
  {
   "cell_type": "code",
   "execution_count": 14,
   "id": "14e21acd",
   "metadata": {},
   "outputs": [],
   "source": [
    "nifty50.to_csv('C:/Users/manis/OneDrive/Desktop/FinMkt/nifty50.csv')\n",
    "tata_motors.to_csv('C:/Users/manis/OneDrive/Desktop/FinMkt/tata_motors.csv')\n",
    "havells.to_csv('C:/Users/manis/OneDrive/Desktop/FinMkt/havells.csv')\n",
    "itc.to_csv('C:/Users/manis/OneDrive/Desktop/FinMkt/itc.csv')\n",
    "infosys.to_csv('C:/Users/manis/OneDrive/Desktop/FinMkt/infosys.csv')"
   ]
  },
  {
   "cell_type": "code",
   "execution_count": 15,
   "id": "5b18b476",
   "metadata": {},
   "outputs": [],
   "source": [
    "# Data Eyeballing"
   ]
  },
  {
   "cell_type": "code",
   "execution_count": 16,
   "id": "49df3af2",
   "metadata": {},
   "outputs": [
    {
     "name": "stdout",
     "output_type": "stream",
     "text": [
      "Index(['Date', 'Open', 'High', 'Low', 'Close', 'Volume', 'Dividends',\n",
      "       'Stock Splits'],\n",
      "      dtype='object')\n"
     ]
    }
   ],
   "source": [
    "nifty50 = pd.read_csv('nifty50.csv')\n",
    "print(nifty50.columns)"
   ]
  },
  {
   "cell_type": "code",
   "execution_count": 17,
   "id": "6aa60681",
   "metadata": {},
   "outputs": [
    {
     "name": "stdout",
     "output_type": "stream",
     "text": [
      "Index(['Date', 'Open', 'High', 'Low', 'Close', 'Volume', 'Dividends',\n",
      "       'Stock Splits'],\n",
      "      dtype='object')\n"
     ]
    }
   ],
   "source": [
    "tata_motors = pd.read_csv('tata_motors.csv')\n",
    "print(tata_motors.columns)"
   ]
  },
  {
   "cell_type": "code",
   "execution_count": 18,
   "id": "a688b89e",
   "metadata": {},
   "outputs": [
    {
     "name": "stdout",
     "output_type": "stream",
     "text": [
      "Index(['Date', 'Open', 'High', 'Low', 'Close', 'Volume', 'Dividends',\n",
      "       'Stock Splits'],\n",
      "      dtype='object')\n"
     ]
    }
   ],
   "source": [
    "havells = pd.read_csv('havells.csv')\n",
    "print(havells.columns)"
   ]
  },
  {
   "cell_type": "code",
   "execution_count": 19,
   "id": "d2cfb47b",
   "metadata": {},
   "outputs": [
    {
     "name": "stdout",
     "output_type": "stream",
     "text": [
      "Index(['Date', 'Open', 'High', 'Low', 'Close', 'Volume', 'Dividends',\n",
      "       'Stock Splits'],\n",
      "      dtype='object')\n"
     ]
    }
   ],
   "source": [
    "itc = pd.read_csv('itc.csv')\n",
    "print(itc.columns)"
   ]
  },
  {
   "cell_type": "code",
   "execution_count": 20,
   "id": "afdc79d0",
   "metadata": {},
   "outputs": [
    {
     "name": "stdout",
     "output_type": "stream",
     "text": [
      "Index(['Date', 'Open', 'High', 'Low', 'Close', 'Volume', 'Dividends',\n",
      "       'Stock Splits'],\n",
      "      dtype='object')\n"
     ]
    }
   ],
   "source": [
    "infosys = pd.read_csv('infosys.csv')\n",
    "print(infosys.columns)"
   ]
  },
  {
   "cell_type": "code",
   "execution_count": null,
   "id": "2b7ee06f",
   "metadata": {},
   "outputs": [],
   "source": [
    "# calculating daily returns"
   ]
  },
  {
   "cell_type": "code",
   "execution_count": 21,
   "id": "c5a0a130",
   "metadata": {},
   "outputs": [
    {
     "data": {
      "text/plain": [
       "0            NaN\n",
       "1       0.567204\n",
       "2      -0.013759\n",
       "3       1.526067\n",
       "4       0.076449\n",
       "          ...   \n",
       "3732   -0.778101\n",
       "3733    0.239310\n",
       "3734   -0.200570\n",
       "3735    0.755238\n",
       "3736    1.607459\n",
       "Name: Close, Length: 3737, dtype: float64"
      ]
     },
     "execution_count": 21,
     "metadata": {},
     "output_type": "execute_result"
    }
   ],
   "source": [
    "nifty50_returns = (nifty50['Close'].diff()/nifty50['Close'])*100\n",
    "\n",
    "nifty50_returns"
   ]
  },
  {
   "cell_type": "code",
   "execution_count": 22,
   "id": "22a95c5a",
   "metadata": {},
   "outputs": [
    {
     "data": {
      "text/plain": [
       "0            NaN\n",
       "1       3.931702\n",
       "2      -0.246354\n",
       "3      -1.272922\n",
       "4       0.477459\n",
       "          ...   \n",
       "3755   -0.636253\n",
       "3756   -1.079969\n",
       "3757   -2.602087\n",
       "3758    1.857284\n",
       "3759    2.756648\n",
       "Name: Close, Length: 3760, dtype: float64"
      ]
     },
     "execution_count": 22,
     "metadata": {},
     "output_type": "execute_result"
    }
   ],
   "source": [
    "tata_motors_returns = (tata_motors['Close'].diff()/tata_motors['Close'])*100\n",
    "\n",
    "tata_motors_returns"
   ]
  },
  {
   "cell_type": "code",
   "execution_count": 23,
   "id": "d774d678",
   "metadata": {},
   "outputs": [
    {
     "data": {
      "text/plain": [
       "0            NaN\n",
       "1      -0.215371\n",
       "2       0.769321\n",
       "3      -0.782535\n",
       "4      -0.071849\n",
       "          ...   \n",
       "3755   -0.799871\n",
       "3756   -1.160196\n",
       "3757   -2.089163\n",
       "3758    3.017970\n",
       "3759    0.748845\n",
       "Name: Close, Length: 3760, dtype: float64"
      ]
     },
     "execution_count": 23,
     "metadata": {},
     "output_type": "execute_result"
    }
   ],
   "source": [
    "havells_returns = (havells['Close'].diff()/havells['Close'])*100\n",
    "\n",
    "havells_returns"
   ]
  },
  {
   "cell_type": "code",
   "execution_count": 24,
   "id": "6225411a",
   "metadata": {},
   "outputs": [
    {
     "data": {
      "text/plain": [
       "0            NaN\n",
       "1      -0.215371\n",
       "2       0.769321\n",
       "3      -0.782535\n",
       "4      -0.071849\n",
       "          ...   \n",
       "3755   -0.799871\n",
       "3756   -1.160196\n",
       "3757   -2.089163\n",
       "3758    3.017970\n",
       "3759    0.748845\n",
       "Name: Close, Length: 3760, dtype: float64"
      ]
     },
     "execution_count": 24,
     "metadata": {},
     "output_type": "execute_result"
    }
   ],
   "source": [
    "itc_returns = (havells['Close'].diff()/havells['Close'])*100\n",
    "\n",
    "itc_returns"
   ]
  },
  {
   "cell_type": "code",
   "execution_count": 25,
   "id": "61ddec9d",
   "metadata": {},
   "outputs": [
    {
     "data": {
      "text/plain": [
       "0            NaN\n",
       "1       0.082934\n",
       "2      -2.296579\n",
       "3      -0.834867\n",
       "4      -3.546441\n",
       "          ...   \n",
       "3755    0.441819\n",
       "3756    0.597568\n",
       "3757   -0.823895\n",
       "3758    0.430058\n",
       "3759    3.109346\n",
       "Name: Close, Length: 3760, dtype: float64"
      ]
     },
     "execution_count": 25,
     "metadata": {},
     "output_type": "execute_result"
    }
   ],
   "source": [
    "infosys_returns = (infosys['Close'].diff()/infosys['Close'])*100\n",
    "\n",
    "infosys_returns"
   ]
  },
  {
   "cell_type": "markdown",
   "id": "16994d63",
   "metadata": {},
   "source": [
    "With the daily returns data for NIFTY50 and the four selected stocks in hand, we can proceed to the next phase of our analysis that is plotting the daily returns chart for each of them using `quantstats`. To use `quantstats` for plotting, it is necessary to have a Datetime index. Therefore, let's make all returns pandas series index to DateTime index."
   ]
  },
  {
   "cell_type": "code",
   "execution_count": 63,
   "id": "1bf38835",
   "metadata": {},
   "outputs": [
    {
     "data": {
      "text/plain": [
       "Date\n",
       "2008-01-01 00:00:00+05:30         NaN\n",
       "2008-01-02 00:00:00+05:30    0.567204\n",
       "2008-01-03 00:00:00+05:30   -0.013759\n",
       "2008-01-04 00:00:00+05:30    1.526067\n",
       "2008-01-07 00:00:00+05:30    0.076449\n",
       "                               ...   \n",
       "2023-03-24 00:00:00+05:30   -0.778101\n",
       "2023-03-27 00:00:00+05:30    0.239310\n",
       "2023-03-28 00:00:00+05:30   -0.200570\n",
       "2023-03-29 00:00:00+05:30    0.755238\n",
       "2023-03-31 00:00:00+05:30    1.607459\n",
       "Name: Close, Length: 3737, dtype: float64"
      ]
     },
     "execution_count": 63,
     "metadata": {},
     "output_type": "execute_result"
    }
   ],
   "source": [
    "nifty50_returns.index = pd.to_datetime(nifty50['Date'])\n",
    "nifty50_returns"
   ]
  },
  {
   "cell_type": "code",
   "execution_count": 64,
   "id": "ab1e3ed1",
   "metadata": {},
   "outputs": [
    {
     "data": {
      "text/plain": [
       "Date\n",
       "2008-01-01 00:00:00+05:30         NaN\n",
       "2008-01-02 00:00:00+05:30    3.931702\n",
       "2008-01-03 00:00:00+05:30   -0.246354\n",
       "2008-01-04 00:00:00+05:30   -1.272922\n",
       "2008-01-07 00:00:00+05:30    0.477459\n",
       "                               ...   \n",
       "2023-03-24 00:00:00+05:30   -0.636253\n",
       "2023-03-27 00:00:00+05:30   -1.079969\n",
       "2023-03-28 00:00:00+05:30   -2.602087\n",
       "2023-03-29 00:00:00+05:30    1.857284\n",
       "2023-03-31 00:00:00+05:30    2.756648\n",
       "Name: Close, Length: 3760, dtype: float64"
      ]
     },
     "execution_count": 64,
     "metadata": {},
     "output_type": "execute_result"
    }
   ],
   "source": [
    "tata_motors_returns.index = pd.to_datetime(tata_motors['Date'])\n",
    "tata_motors_returns"
   ]
  },
  {
   "cell_type": "code",
   "execution_count": 65,
   "id": "388695a1",
   "metadata": {},
   "outputs": [
    {
     "data": {
      "text/plain": [
       "Date\n",
       "2008-01-01 00:00:00+05:30         NaN\n",
       "2008-01-02 00:00:00+05:30   -0.215371\n",
       "2008-01-03 00:00:00+05:30    0.769321\n",
       "2008-01-04 00:00:00+05:30   -0.782535\n",
       "2008-01-07 00:00:00+05:30   -0.071849\n",
       "                               ...   \n",
       "2023-03-24 00:00:00+05:30   -0.799871\n",
       "2023-03-27 00:00:00+05:30   -1.160196\n",
       "2023-03-28 00:00:00+05:30   -2.089163\n",
       "2023-03-29 00:00:00+05:30    3.017970\n",
       "2023-03-31 00:00:00+05:30    0.748845\n",
       "Name: Close, Length: 3760, dtype: float64"
      ]
     },
     "execution_count": 65,
     "metadata": {},
     "output_type": "execute_result"
    }
   ],
   "source": [
    "havells_returns.index = pd.to_datetime(havells['Date'])\n",
    "havells_returns"
   ]
  },
  {
   "cell_type": "code",
   "execution_count": 66,
   "id": "40bc403f",
   "metadata": {},
   "outputs": [
    {
     "data": {
      "text/plain": [
       "Date\n",
       "2008-01-01 00:00:00+05:30         NaN\n",
       "2008-01-02 00:00:00+05:30   -0.215371\n",
       "2008-01-03 00:00:00+05:30    0.769321\n",
       "2008-01-04 00:00:00+05:30   -0.782535\n",
       "2008-01-07 00:00:00+05:30   -0.071849\n",
       "                               ...   \n",
       "2023-03-24 00:00:00+05:30   -0.799871\n",
       "2023-03-27 00:00:00+05:30   -1.160196\n",
       "2023-03-28 00:00:00+05:30   -2.089163\n",
       "2023-03-29 00:00:00+05:30    3.017970\n",
       "2023-03-31 00:00:00+05:30    0.748845\n",
       "Name: Close, Length: 3760, dtype: float64"
      ]
     },
     "execution_count": 66,
     "metadata": {},
     "output_type": "execute_result"
    }
   ],
   "source": [
    "itc_returns.index = pd.to_datetime(itc['Date'])\n",
    "itc_returns"
   ]
  },
  {
   "cell_type": "code",
   "execution_count": 67,
   "id": "0bfc70f0",
   "metadata": {},
   "outputs": [
    {
     "data": {
      "text/plain": [
       "Date\n",
       "2008-01-01 00:00:00+05:30         NaN\n",
       "2008-01-02 00:00:00+05:30    0.082934\n",
       "2008-01-03 00:00:00+05:30   -2.296579\n",
       "2008-01-04 00:00:00+05:30   -0.834867\n",
       "2008-01-07 00:00:00+05:30   -3.546441\n",
       "                               ...   \n",
       "2023-03-24 00:00:00+05:30    0.441819\n",
       "2023-03-27 00:00:00+05:30    0.597568\n",
       "2023-03-28 00:00:00+05:30   -0.823895\n",
       "2023-03-29 00:00:00+05:30    0.430058\n",
       "2023-03-31 00:00:00+05:30    3.109346\n",
       "Name: Close, Length: 3760, dtype: float64"
      ]
     },
     "execution_count": 67,
     "metadata": {},
     "output_type": "execute_result"
    }
   ],
   "source": [
    "infosys_returns.index = pd.to_datetime(infosys['Date'])\n",
    "infosys_returns"
   ]
  },
  {
   "cell_type": "code",
   "execution_count": 68,
   "id": "eba92769",
   "metadata": {
    "scrolled": false
   },
   "outputs": [
    {
     "name": "stdout",
     "output_type": "stream",
     "text": [
      "\n",
      "\n",
      "\n",
      "NIFTY50 Daily Returns Plot:\n",
      "\n"
     ]
    },
    {
     "data": {
      "image/png": "[encoded data removed]",
      "text/plain": [
       "<Figure size 1000x400 with 1 Axes>"
      ]
     },
     "metadata": {},
     "output_type": "display_data"
    },
    {
     "name": "stdout",
     "output_type": "stream",
     "text": [
      "\n",
      "\n",
      "\n",
      "\n",
      "\n",
      "Tata Motors. Daily Returns Plot:\n",
      "\n"
     ]
    },
    {
     "data": {
      "image/png": "[encoded data removed]",
      "text/plain": [
       "<Figure size 1000x400 with 1 Axes>"
      ]
     },
     "metadata": {},
     "output_type": "display_data"
    },
    {
     "name": "stdout",
     "output_type": "stream",
     "text": [
      "\n",
      "\n",
      "\n",
      "\n",
      "\n",
      "Havells Daily Returns Plot:\n",
      "\n"
     ]
    },
    {
     "data": {
      "image/png": "[encoded data removed]",
      "text/plain": [
       "<Figure size 1000x400 with 1 Axes>"
      ]
     },
     "metadata": {},
     "output_type": "display_data"
    },
    {
     "name": "stdout",
     "output_type": "stream",
     "text": [
      "\n",
      "\n",
      "\n",
      "\n",
      "\n",
      "ITC Daily Returns Plot:\n",
      "\n"
     ]
    },
    {
     "data": {
      "image/png": "[encoded data removed]",
      "text/plain": [
       "<Figure size 1000x400 with 1 Axes>"
      ]
     },
     "metadata": {},
     "output_type": "display_data"
    },
    {
     "name": "stdout",
     "output_type": "stream",
     "text": [
      "\n",
      "\n",
      "\n",
      "\n",
      "\n",
      "Infosys Daily Returns Plot:\n",
      "\n"
     ]
    },
    {
     "data": {
      "image/png": "[encoded data removed]",
      "text/plain": [
       "<Figure size 1000x400 with 1 Axes>"
      ]
     },
     "metadata": {},
     "output_type": "display_data"
    }
   ],
   "source": [
    "# Plotting Daily Returns for NIFTY50 and each stock\n",
    "print('\\n')\n",
    "print('\\nNIFTY50 Daily Returns Plot:\\n')\n",
    "qs.plots.daily_returns(nifty50_returns)\n",
    "print('\\n')\n",
    "print('\\n')\n",
    "print('\\nTata Motors. Daily Returns Plot:\\n')\n",
    "qs.plots.daily_returns(tata_motors_returns)\n",
    "print('\\n')\n",
    "print('\\n')\n",
    "print('\\nHavells Daily Returns Plot:\\n')\n",
    "qs.plots.daily_returns(havells_returns)\n",
    "print('\\n')\n",
    "print('\\n')\n",
    "print('\\nITC Daily Returns Plot:\\n')\n",
    "qs.plots.daily_returns(itc_returns)\n",
    "print('\\n')\n",
    "print('\\n')\n",
    "print('\\nInfosys Daily Returns Plot:\\n')\n",
    "qs.plots.daily_returns(infosys_returns)"
   ]
  },
  {
   "cell_type": "code",
   "execution_count": null,
   "id": "cca957eb",
   "metadata": {},
   "outputs": [],
   "source": []
  }
 ],
 "metadata": {
  "kernelspec": {
   "display_name": "Python 3 (ipykernel)",
   "language": "python",
   "name": "python3"
  },
  "language_info": {
   "codemirror_mode": {
    "name": "ipython",
    "version": 3
   },
   "file_extension": ".py",
   "mimetype": "text/x-python",
   "name": "python",
   "nbconvert_exporter": "python",
   "pygments_lexer": "ipython3",
   "version": "3.9.13"
  }
 },
 "nbformat": 4,
 "nbformat_minor": 5
}

{
 "cells": [
  {
   "cell_type": "code",
   "execution_count": null,
   "id": "e690f533",
   "metadata": {},
   "outputs": [],
   "source": []
  },
  {
   "cell_type": "markdown",
   "id": "4c5ab255",
   "metadata": {},
   "source": [
    "# Data Science for Data Science"
   ]
  },
  {
   "cell_type": "markdown",
   "id": "4c083474",
   "metadata": {},
   "source": [
    "### Content"
   ]
  },
  {
   "cell_type": "markdown",
   "id": "25a18423",
   "metadata": {},
   "source": [
    "## Introduction\n",
    "\n",
    "---"
   ]
  },
  {
   "cell_type": "markdown",
   "id": "87d56ba8",
   "metadata": {},
   "source": [
    "In recent years, we have seen an explosion in the amount of data being generated and collected. From social media activity to financial transactions, the amount of data being generated on a daily basis is staggering. With this influx of data comes an urgent need for professionals who can extract insights and knowledge from it.\n",
    "\n",
    "Data Science, a rapidly growing field that combines statistical and computational techniques to transform data into actionable information. It brings together multiple disciplines such as mathematics, statistics, computer science and domain-specific knowledge to create a multi-faceted approach to understanding complex data patterns. The goal of Data Science is to provide a complete picture of data and transform it into actionable information that can inform business decisions, scientific breakthroughs and even public policy. It has become an increasingly vital part of our data-driven world.\n",
    "\n",
    "When it comes to financial markets, the need for accurate and timely data analysis has never been more critical. Financial institutions need to make decisions based on a variety of factors including market trends, customer behavior and risk management. Data Science can help financial institutions analyze and make sense of this data providing insights that can help them stay ahead of the competition.\n",
    "\n",
    "#### Application of Data Science for Financial Markets\n",
    "\n",
    "- **1. Predictive Modeling :** One of the primary applications of Data Science in finance is predictive modeling. Data Science professionals can use historical data to create models that can identify trends and make predictions about future market conditions. These models can be used to inform investment decisions, identify potential risks and even create new financial products.\n",
    "\n",
    "- **2. Algorithmic Trading :** Another application of Data Science in finance is algorithmic trading. This involves using algorithms that execute buy and sell orders autonomously based on mathematical models through the analysis of price, volume and volatility among many others. Algorithmic trading has become increasingly popular in recent years as it allows financial institutions to make trades quickly and efficiently without human intervention.\n",
    "\n",
    "- **3. Portfolio Optimization :** Data Science can also be used to optimize portfolios aiming for maximization of returns and risk minimization. Algorithms and other mathematical models can be used to create optimized portfolios that take into account a variety of factors including risk tolerance, diversification and investment goals.\n",
    "\n",
    "- **4. Fraud Detection :** Fraud detection is another important application of Data Science in finance. Financial institutions are constantly at risk of fraudulent activities and Data Science can be used to identify and prevent these activities. Machine learning algorithms can be used to analyze financial transactions, identifying patterns and anomalies that may indicate fraudulent activity.\n",
    "\n",
    "- **5. Risk Management :** Risk management is also a critical application of Data Science in finance. Data science can be used to quantify and manage various types of financial risks including market risk, credit risk and operational risk. By analyzing historical data and identifying potential risks, financial institutions can make informed decisions that mitigate these risks and protect their investments.\n",
    "\n",
    "- **6. Customer Analysis :** Data Science can also be used to analyze customer data and gain insights into customer behavior and preferences. Financial institutions can use this data to improve customer engagement and retention creating targeted marketing campaigns and personalized investment strategies.\n",
    "\n",
    "\n",
    "By leveraging Data Science and Python, we can develop more effective investment strategies and make informed decisions that can help us achieve our financial goals. In this notebook, we will explore how Data Science and Python can be utilized to extract crucial insights from financial markets. We will dive into the applications of these tools such as building and optimizing portfolios, developing effective trading strategies and performing detailed stock analysis. By showcasing the versatility and usefulness of these techniques, we aim to provide a valuable resource for those interested in making informed investment decisions. With Data Science and Python at our disposal, we have the ability to unlock a wealth of knowledge and transform the way we approach financial markets."
   ]
  },
  {
   "cell_type": "markdown",
   "id": "02861653",
   "metadata": {},
   "source": [
    "## Essential Libraries\n",
    "\n",
    "---"
   ]
  },
  {
   "cell_type": "markdown",
   "id": "a67de4af",
   "metadata": {},
   "source": [
    "### 1. `nsepy`"
   ]
  },
  {
   "cell_type": "markdown",
   "id": "032b4c17",
   "metadata": {},
   "source": [
    "If you are looking to obtain historical market data for Indian stocks, `nsepy` is a reliable and efficient Python library to consider. `nsepy` provides easy access to historical stock price data from the National Stock Exchange of India (NSE) through a simple and user-friendly API. You can easily obtain data for any publicly traded company listed on the NSE including stocks, indices and futures."
   ]
  },
  {
   "cell_type": "markdown",
   "id": "f9987455",
   "metadata": {},
   "source": [
    "This is how you can install `nsepy` in your Python environment:"
   ]
  },
  {
   "cell_type": "code",
   "execution_count": 2,
   "id": "2bce7c8c",
   "metadata": {},
   "outputs": [
    {
     "name": "stdout",
     "output_type": "stream",
     "text": [
      "Requirement already satisfied: nsepy in c:\\users\\manis\\anaconda3\\lib\\site-packages (0.8)\n",
      "Requirement already satisfied: beautifulsoup4 in c:\\users\\manis\\anaconda3\\lib\\site-packages (from nsepy) (4.11.1)\n",
      "Requirement already satisfied: lxml in c:\\users\\manis\\anaconda3\\lib\\site-packages (from nsepy) (4.9.1)\n",
      "Requirement already satisfied: click in c:\\users\\manis\\anaconda3\\lib\\site-packages (from nsepy) (8.0.4)\n",
      "Requirement already satisfied: pandas in c:\\users\\manis\\anaconda3\\lib\\site-packages (from nsepy) (1.4.4)\n",
      "Requirement already satisfied: numpy in c:\\users\\manis\\anaconda3\\lib\\site-packages (from nsepy) (1.21.5)\n",
      "Requirement already satisfied: six in c:\\users\\manis\\anaconda3\\lib\\site-packages (from nsepy) (1.16.0)\n",
      "Requirement already satisfied: requests in c:\\users\\manis\\anaconda3\\lib\\site-packages (from nsepy) (2.28.1)\n",
      "Requirement already satisfied: soupsieve>1.2 in c:\\users\\manis\\anaconda3\\lib\\site-packages (from beautifulsoup4->nsepy) (2.3.1)\n",
      "Requirement already satisfied: colorama in c:\\users\\manis\\anaconda3\\lib\\site-packages (from click->nsepy) (0.4.6)\n",
      "Requirement already satisfied: python-dateutil>=2.8.1 in c:\\users\\manis\\anaconda3\\lib\\site-packages (from pandas->nsepy) (2.8.2)\n",
      "Requirement already satisfied: pytz>=2020.1 in c:\\users\\manis\\anaconda3\\lib\\site-packages (from pandas->nsepy) (2022.1)\n",
      "Requirement already satisfied: charset-normalizer<3,>=2 in c:\\users\\manis\\anaconda3\\lib\\site-packages (from requests->nsepy) (2.0.4)\n",
      "Requirement already satisfied: certifi>=2017.4.17 in c:\\users\\manis\\anaconda3\\lib\\site-packages (from requests->nsepy) (2022.9.14)\n",
      "Requirement already satisfied: urllib3<1.27,>=1.21.1 in c:\\users\\manis\\anaconda3\\lib\\site-packages (from requests->nsepy) (1.26.11)\n",
      "Requirement already satisfied: idna<4,>=2.5 in c:\\users\\manis\\anaconda3\\lib\\site-packages (from requests->nsepy) (3.3)\n",
      "Note: you may need to restart the kernel to use updated packages.\n"
     ]
    }
   ],
   "source": [
    "pip install nsepy"
   ]
  },
  {
   "cell_type": "markdown",
   "id": "48397741",
   "metadata": {},
   "source": [
    "### 2. `quantstats`"
   ]
  },
  {
   "cell_type": "markdown",
   "id": "dd34977b",
   "metadata": {},
   "source": [
    "Quantstats is a game-changing Python library that is transforming the way traders and investors analyze financial data. With its wide range of tools for quantitative financial analysis including technical and fundamental analysis, portfolio optimization and backtesting of investment strategies, Quantstats has quickly become one of the most popular libraries in the financial industry. Its simple and easy-to-use interface makes it accessible to both seasoned traders and newcomers to quantitative finance. By providing a comprehensive suite of tools for analyzing financial data, Quantstats empowers traders and investors to make more informed decisions, optimize their portfolios and gain an edge in the market. Whether you are a professional trader or just starting out in the world of finance, Quantstats is an essential tool for anyone looking to succeed in the complex and ever-changing world of financial markets."
   ]
  },
  {
   "cell_type": "markdown",
   "id": "ba031e67",
   "metadata": {},
   "source": [
    "This is how you can install `quantstats` in your Python environment:"
   ]
  },
  {
   "cell_type": "code",
   "execution_count": 3,
   "id": "4d42a17d",
   "metadata": {},
   "outputs": [
    {
     "name": "stdout",
     "output_type": "stream",
     "text": [
      "Collecting quantstats\n",
      "  Downloading QuantStats-0.0.59-py2.py3-none-any.whl (41 kB)\n",
      "     -------------------------------------- 41.3/41.3 kB 153.2 kB/s eta 0:00:00\n",
      "Requirement already satisfied: seaborn>=0.9.0 in c:\\users\\manis\\anaconda3\\lib\\site-packages (from quantstats) (0.11.2)\n",
      "Requirement already satisfied: python-dateutil>=2.0 in c:\\users\\manis\\anaconda3\\lib\\site-packages (from quantstats) (2.8.2)\n",
      "Requirement already satisfied: scipy>=1.2.0 in c:\\users\\manis\\anaconda3\\lib\\site-packages (from quantstats) (1.9.1)\n",
      "Requirement already satisfied: matplotlib>=3.0.0 in c:\\users\\manis\\anaconda3\\lib\\site-packages (from quantstats) (3.5.2)\n",
      "Collecting yfinance>=0.1.70\n",
      "  Downloading yfinance-0.2.14-py2.py3-none-any.whl (59 kB)\n",
      "     -------------------------------------- 59.7/59.7 kB 353.3 kB/s eta 0:00:00\n",
      "Requirement already satisfied: pandas>=0.24.0 in c:\\users\\manis\\anaconda3\\lib\\site-packages (from quantstats) (1.4.4)\n",
      "Requirement already satisfied: tabulate>=0.8.0 in c:\\users\\manis\\anaconda3\\lib\\site-packages (from quantstats) (0.8.10)\n",
      "Requirement already satisfied: numpy>=1.16.5 in c:\\users\\manis\\anaconda3\\lib\\site-packages (from quantstats) (1.21.5)\n",
      "Requirement already satisfied: fonttools>=4.22.0 in c:\\users\\manis\\anaconda3\\lib\\site-packages (from matplotlib>=3.0.0->quantstats) (4.25.0)\n",
      "Requirement already satisfied: pillow>=6.2.0 in c:\\users\\manis\\anaconda3\\lib\\site-packages (from matplotlib>=3.0.0->quantstats) (9.2.0)\n",
      "Requirement already satisfied: pyparsing>=2.2.1 in c:\\users\\manis\\anaconda3\\lib\\site-packages (from matplotlib>=3.0.0->quantstats) (3.0.9)\n",
      "Requirement already satisfied: cycler>=0.10 in c:\\users\\manis\\anaconda3\\lib\\site-packages (from matplotlib>=3.0.0->quantstats) (0.11.0)\n",
      "Requirement already satisfied: kiwisolver>=1.0.1 in c:\\users\\manis\\anaconda3\\lib\\site-packages (from matplotlib>=3.0.0->quantstats) (1.4.2)\n",
      "Requirement already satisfied: packaging>=20.0 in c:\\users\\manis\\anaconda3\\lib\\site-packages (from matplotlib>=3.0.0->quantstats) (21.3)\n",
      "Requirement already satisfied: pytz>=2020.1 in c:\\users\\manis\\anaconda3\\lib\\site-packages (from pandas>=0.24.0->quantstats) (2022.1)\n",
      "Requirement already satisfied: six>=1.5 in c:\\users\\manis\\anaconda3\\lib\\site-packages (from python-dateutil>=2.0->quantstats) (1.16.0)\n",
      "Collecting pytz>=2020.1\n",
      "  Downloading pytz-2023.3-py2.py3-none-any.whl (502 kB)\n",
      "     ------------------------------------ 502.3/502.3 kB 384.2 kB/s eta 0:00:00\n",
      "Collecting frozendict>=2.3.4\n",
      "  Downloading frozendict-2.3.6-cp39-cp39-win_amd64.whl (35 kB)\n",
      "Requirement already satisfied: lxml>=4.9.1 in c:\\users\\manis\\anaconda3\\lib\\site-packages (from yfinance>=0.1.70->quantstats) (4.9.1)\n",
      "Requirement already satisfied: appdirs>=1.4.4 in c:\\users\\manis\\anaconda3\\lib\\site-packages (from yfinance>=0.1.70->quantstats) (1.4.4)\n",
      "Requirement already satisfied: requests>=2.26 in c:\\users\\manis\\anaconda3\\lib\\site-packages (from yfinance>=0.1.70->quantstats) (2.28.1)\n",
      "Collecting multitasking>=0.0.7\n",
      "  Downloading multitasking-0.0.11-py3-none-any.whl (8.5 kB)\n",
      "Requirement already satisfied: beautifulsoup4>=4.11.1 in c:\\users\\manis\\anaconda3\\lib\\site-packages (from yfinance>=0.1.70->quantstats) (4.11.1)\n",
      "Requirement already satisfied: cryptography>=3.3.2 in c:\\users\\manis\\anaconda3\\lib\\site-packages (from yfinance>=0.1.70->quantstats) (37.0.1)\n",
      "Collecting html5lib>=1.1\n",
      "  Downloading html5lib-1.1-py2.py3-none-any.whl (112 kB)\n",
      "     ------------------------------------ 112.2/112.2 kB 935.2 kB/s eta 0:00:00\n",
      "Requirement already satisfied: soupsieve>1.2 in c:\\users\\manis\\anaconda3\\lib\\site-packages (from beautifulsoup4>=4.11.1->yfinance>=0.1.70->quantstats) (2.3.1)\n",
      "Requirement already satisfied: cffi>=1.12 in c:\\users\\manis\\anaconda3\\lib\\site-packages (from cryptography>=3.3.2->yfinance>=0.1.70->quantstats) (1.15.1)\n",
      "Requirement already satisfied: webencodings in c:\\users\\manis\\anaconda3\\lib\\site-packages (from html5lib>=1.1->yfinance>=0.1.70->quantstats) (0.5.1)\n",
      "Requirement already satisfied: charset-normalizer<3,>=2 in c:\\users\\manis\\anaconda3\\lib\\site-packages (from requests>=2.26->yfinance>=0.1.70->quantstats) (2.0.4)\n",
      "Requirement already satisfied: idna<4,>=2.5 in c:\\users\\manis\\anaconda3\\lib\\site-packages (from requests>=2.26->yfinance>=0.1.70->quantstats) (3.3)\n",
      "Requirement already satisfied: certifi>=2017.4.17 in c:\\users\\manis\\anaconda3\\lib\\site-packages (from requests>=2.26->yfinance>=0.1.70->quantstats) (2022.9.14)\n",
      "Requirement already satisfied: urllib3<1.27,>=1.21.1 in c:\\users\\manis\\anaconda3\\lib\\site-packages (from requests>=2.26->yfinance>=0.1.70->quantstats) (1.26.11)\n",
      "Requirement already satisfied: pycparser in c:\\users\\manis\\anaconda3\\lib\\site-packages (from cffi>=1.12->cryptography>=3.3.2->yfinance>=0.1.70->quantstats) (2.21)\n",
      "Installing collected packages: pytz, multitasking, html5lib, frozendict, yfinance, quantstats\n",
      "  Attempting uninstall: pytz\n",
      "    Found existing installation: pytz 2022.1\n",
      "    Uninstalling pytz-2022.1:\n",
      "      Successfully uninstalled pytz-2022.1\n",
      "Successfully installed frozendict-2.3.6 html5lib-1.1 multitasking-0.0.11 pytz-2023.3 quantstats-0.0.59 yfinance-0.2.14\n",
      "Note: you may need to restart the kernel to use updated packages.\n"
     ]
    },
    {
     "name": "stderr",
     "output_type": "stream",
     "text": [
      "ERROR: pip's dependency resolver does not currently take into account all the packages that are installed. This behaviour is the source of the following dependency conflicts.\n",
      "conda-repo-cli 1.0.20 requires clyent==1.2.1, but you have clyent 1.2.2 which is incompatible.\n",
      "conda-repo-cli 1.0.20 requires nbformat==5.4.0, but you have nbformat 5.5.0 which is incompatible.\n"
     ]
    }
   ],
   "source": [
    "pip install quantstats"
   ]
  },
  {
   "cell_type": "markdown",
   "id": "18430720",
   "metadata": {},
   "source": [
    "### 3. `pyportfolioopt`"
   ]
  },
  {
   "cell_type": "markdown",
   "id": "c6b16367",
   "metadata": {},
   "source": [
    "If you are looking to create an optimized investment portfolio that aligns with your specific objectives, constraints and risk preferences, `pyportfolioopt` is an exceptional Python library to consider. With its diverse range of optimization algorithms including the Black-Litterman allocation model and mean-variance optimization model, `pyportfolioopt` empowers investors to construct and optimize portfolios that maximize their returns while minimizing risk. Its user-friendly interface and flexible optimization capabilities make it an incredibly useful tool for both novice and experienced investors alike. Whether you are looking to build a balanced investment portfolio or construct a custom portfolio with specific risk and return objectives, `pyportfolioopt` can help you achieve your goals with ease."
   ]
  },
  {
   "cell_type": "markdown",
   "id": "10b3e535",
   "metadata": {},
   "source": [
    "This is how you can install `pyportfolioopt` in your Python environment:"
   ]
  },
  {
   "cell_type": "code",
   "execution_count": 8,
   "id": "9e425fbd",
   "metadata": {},
   "outputs": [
    {
     "name": "stdout",
     "output_type": "stream",
     "text": [
      "Collecting pyportfolioopt\n",
      "  Using cached pyportfolioopt-1.5.4-py3-none-any.whl (61 kB)\n",
      "Collecting cvxpy<2.0.0,>=1.1.10\n",
      "  Using cached cvxpy-1.3.1-cp39-cp39-win_amd64.whl (889 kB)\n",
      "Requirement already satisfied: numpy<2.0.0,>=1.22.4 in c:\\users\\manis\\anaconda3\\lib\\site-packages (from pyportfolioopt) (1.24.2)\n",
      "Requirement already satisfied: pandas>=0.19 in c:\\users\\manis\\anaconda3\\lib\\site-packages (from pyportfolioopt) (1.4.4)\n",
      "Requirement already satisfied: scipy<2.0,>=1.3 in c:\\users\\manis\\anaconda3\\lib\\site-packages (from pyportfolioopt) (1.9.1)\n",
      "Collecting scs>=1.1.6\n",
      "  Using cached scs-3.2.2-cp39-cp39-win_amd64.whl (8.2 MB)\n",
      "Collecting osqp>=0.4.1\n",
      "  Using cached osqp-0.6.2.post8-cp39-cp39-win_amd64.whl (292 kB)\n",
      "Collecting ecos>=2\n",
      "  Using cached ecos-2.0.12-cp39-cp39-win_amd64.whl (72 kB)\n",
      "Requirement already satisfied: setuptools>65.5.1 in c:\\users\\manis\\anaconda3\\lib\\site-packages (from cvxpy<2.0.0,>=1.1.10->pyportfolioopt) (67.6.1)\n",
      "Requirement already satisfied: pytz>=2020.1 in c:\\users\\manis\\anaconda3\\lib\\site-packages (from pandas>=0.19->pyportfolioopt) (2023.3)\n",
      "Requirement already satisfied: python-dateutil>=2.8.1 in c:\\users\\manis\\anaconda3\\lib\\site-packages (from pandas>=0.19->pyportfolioopt) (2.8.2)\n",
      "Collecting qdldl\n",
      "  Using cached qdldl-0.1.5.post3-cp39-cp39-win_amd64.whl (83 kB)\n",
      "Requirement already satisfied: six>=1.5 in c:\\users\\manis\\anaconda3\\lib\\site-packages (from python-dateutil>=2.8.1->pandas>=0.19->pyportfolioopt) (1.16.0)\n",
      "Installing collected packages: scs, qdldl, ecos, osqp, cvxpy, pyportfolioopt\n",
      "Successfully installed cvxpy-1.3.1 ecos-2.0.12 osqp-0.6.2.post8 pyportfolioopt-1.5.4 qdldl-0.1.5.post3 scs-3.2.2\n",
      "Note: you may need to restart the kernel to use updated packages.\n"
     ]
    }
   ],
   "source": [
    "pip install pyportfolioopt"
   ]
  },
  {
   "cell_type": "markdown",
   "id": "b19bf2c0",
   "metadata": {},
   "source": [
    "### 4. `ta`"
   ]
  },
  {
   "cell_type": "markdown",
   "id": "3e60006a",
   "metadata": {},
   "source": [
    "If you are looking to conduct technical analysis using Python, the `ta` (Technical Analysis) library is an invaluable resource. It offers a comprehensive range of technical indicators such as moving averages, Bollinger bands, MACD and the Relative Strength Index that can be used to analyze market trends and make informed trading decisions. Whether you are a seasoned trader or a novice, the `ta` library is easy to use and customize, allowing you to tailor your analysis to your specific needs. By providing insights into market momentum, volatility and trends, this library can help you gain a deeper understanding of market behavior and make better-informed investment decisions. Whether you are looking to trade in stocks, cryptocurrencies or other financial instruments, the `ta` library is a must-have tool for any technical analyst."
   ]
  },
  {
   "cell_type": "markdown",
   "id": "0cc19b7d",
   "metadata": {},
   "source": [
    "This is how you can install `ta` in your Python environment:"
   ]
  },
  {
   "cell_type": "code",
   "execution_count": 11,
   "id": "78d98090",
   "metadata": {},
   "outputs": [
    {
     "name": "stdout",
     "output_type": "stream",
     "text": [
      "Collecting taNote: you may need to restart the kernel to use updated packages.\n",
      "\n",
      "  Downloading ta-0.10.2.tar.gz (25 kB)\n",
      "  Preparing metadata (setup.py): started\n",
      "  Preparing metadata (setup.py): finished with status 'done'\n",
      "Requirement already satisfied: numpy in c:\\users\\manis\\anaconda3\\lib\\site-packages (from ta) (1.24.2)\n",
      "Requirement already satisfied: pandas in c:\\users\\manis\\anaconda3\\lib\\site-packages (from ta) (1.4.4)\n",
      "Requirement already satisfied: pytz>=2020.1 in c:\\users\\manis\\anaconda3\\lib\\site-packages (from pandas->ta) (2023.3)\n",
      "Requirement already satisfied: python-dateutil>=2.8.1 in c:\\users\\manis\\anaconda3\\lib\\site-packages (from pandas->ta) (2.8.2)\n",
      "Requirement already satisfied: six>=1.5 in c:\\users\\manis\\anaconda3\\lib\\site-packages (from python-dateutil>=2.8.1->pandas->ta) (1.16.0)\n",
      "Building wheels for collected packages: ta\n",
      "  Building wheel for ta (setup.py): started\n",
      "  Building wheel for ta (setup.py): finished with status 'done'\n",
      "  Created wheel for ta: filename=ta-0.10.2-py3-none-any.whl size=29088 sha256=ecc6457bf333c9c83dd35a3f52ee9d565d4d85f4a2da80aa61ce708f0a55abb1\n",
      "  Stored in directory: c:\\users\\manis\\appdata\\local\\pip\\cache\\wheels\\6a\\76\\03\\7f785aaa50b9c6ec7e3fd105a62c1b2c45a034512d51e024a9\n",
      "Successfully built ta\n",
      "Installing collected packages: ta\n",
      "Successfully installed ta-0.10.2\n"
     ]
    }
   ],
   "source": [
    "pip install ta"
   ]
  },
  {
   "cell_type": "markdown",
   "id": "8cc30ee7",
   "metadata": {},
   "source": [
    "Now get ready to deep dive into the world of finance with essential libraries ! With this knowledge, we can move on to importing all specific libraries needed to make meaningful analyses and gain valuable insights into financial markets. The right tools can make all the difference when it comes to making informed investment decisions, so let's get started on this exciting journey."
   ]
  },
  {
   "cell_type": "code",
   "execution_count": 1,
   "id": "54b02fd7",
   "metadata": {},
   "outputs": [
    {
     "data": {
      "text/html": [
       "        <script type=\"text/javascript\">\n",
       "        window.PlotlyConfig = {MathJaxConfig: 'local'};\n",
       "        if (window.MathJax && window.MathJax.Hub && window.MathJax.Hub.Config) {window.MathJax.Hub.Config({SVG: {font: \"STIX-Web\"}});}\n",
       "        if (typeof require !== 'undefined') {\n",
       "        require.undef(\"plotly\");\n",
       "        requirejs.config({\n",
       "            paths: {\n",
       "                'plotly': ['https://cdn.plot.ly/plotly-2.12.1.min']\n",
       "            }\n",
       "        });\n",
       "        require(['plotly'], function(Plotly) {\n",
       "            window._Plotly = Plotly;\n",
       "        });\n",
       "        }\n",
       "        </script>\n",
       "        "
      ]
     },
     "metadata": {},
     "output_type": "display_data"
    }
   ],
   "source": [
    "# Importing Libraries\n",
    "\n",
    "# Data handling and statistical analysis \n",
    "import pandas as pd\n",
    "from pandas_datareader import data\n",
    "import numpy as np\n",
    "from scipy import stats\n",
    "\n",
    "# Data visualization \n",
    "import matplotlib.pyplot as plt\n",
    "import seaborn as sns\n",
    "import plotly.express as px\n",
    "import plotly.graph_objects as go\n",
    "from plotly.subplots import make_subplots\n",
    "\n",
    "# Optimization and allocation\n",
    "from pypfopt.efficient_frontier import EfficientFrontier\n",
    "from pypfopt import risk_models\n",
    "from pypfopt import expected_returns\n",
    "from pypfopt import black_litterman, BlackLittermanModel\n",
    "\n",
    "# Financial data \n",
    "import quantstats as qs\n",
    "import ta\n",
    "import nsepy as nsepy\n",
    "\n",
    "# Linear Regression Model\n",
    "from sklearn.linear_model import LinearRegression\n",
    "\n",
    "# Enabling Plotly offline\n",
    "from plotly.offline import init_notebook_mode\n",
    "init_notebook_mode(connected=True)\n",
    "\n",
    "# Datetime and hiding warnings \n",
    "import datetime as dt\n",
    "from datetime import date\n",
    "import warnings\n",
    "warnings.filterwarnings(\"ignore\")"
   ]
  },
  {
   "cell_type": "markdown",
   "id": "cb906337",
   "metadata": {},
   "source": [
    "## Statistical Measures and Analysis Techniques\n",
    "\n",
    "---"
   ]
  },
  {
   "cell_type": "markdown",
   "id": "c6728d99",
   "metadata": {},
   "source": [
    "### 1. Daily Returns"
   ]
  },
  {
   "cell_type": "markdown",
   "id": "e7e949fd",
   "metadata": {},
   "source": [
    "Our initial focus will be on analyzing the daily returns of a stock. The daily return is the percentage change in the price of a stock over a single day. The calculation involves subtracting the closing price of a stock on a particular day from its closing price on the previous day, dividing the result by the closing price on the previous day and then multiplying by 100. This calculation helps us understand how a stock's value changes on a day-to-day basis."
   ]
  },
  {
   "cell_type": "markdown",
   "id": "879395d9",
   "metadata": {},
   "source": [
    "Let's say a stock closes at Rs. 100 on Monday and on Tuesday it closes at Rs. 102, its daily return can be calculated as:\n",
    "\n",
    "`((102-100)÷100)×100 = 2%`\n",
    "\n",
    "This means that the stock's value has **`increased by 2%`** in just one day. On the other hand, if the stock had closed at Rs. 98 on Tuesday, the daily return would be calculated as:\n",
    "\n",
    "`((98-100)÷100)×100= -2%`\n",
    "\n",
    "This indicates that the stock's value has **`decreased by 2%`** over the course of one day."
   ]
  },
  {
   "cell_type": "markdown",
   "id": "ef558b00",
   "metadata": {},
   "source": [
    "Daily returns play a crucial role for investors as they offer a convenient means to evaluate a stock's performance over a brief period. And Quantstats facilitates the generation of daily returns charts which depict the daily percentage shifts in stocks in a graphical format enabling investors to observe the stock's daily performance highs and lows over time. These charts aid in the interpretation of the stock's return volatility and consistency providing investors with valuable insights into its behaviour."
   ]
  },
  {
   "cell_type": "markdown",
   "id": "e66c9573",
   "metadata": {},
   "source": [
    "In order to start our analysis, we are going to use `nsepy.get_history()` method to download the daily historical data for NIFTY50 Index and different stocks over the same period of time i.e. **15 years (Jan 2008 - Mar 2023)** for a fair comparison and analysis between them."
   ]
  },
  {
   "cell_type": "code",
   "execution_count": 2,
   "id": "6fdfd99a",
   "metadata": {},
   "outputs": [
    {
     "name": "stdout",
     "output_type": "stream",
     "text": [
      "Time range for Analysis : 2008-01-01 to 2023-04-01\n"
     ]
    }
   ],
   "source": [
    "# Defining time range for analysis\n",
    "\n",
    "end_date = date.today()\n",
    "start_date = date(2008,1,1)\n",
    "print(f\"Time range for Analysis : {start_date} to {end_date}\")"
   ]
  },
  {
   "cell_type": "code",
   "execution_count": 3,
   "id": "0e558d2d",
   "metadata": {},
   "outputs": [],
   "source": [
    "# Downloading daily data for NIFTY50 and four different stocks\n",
    "\n",
    "nifty50 = nsepy.get_history('NIFTY 50', start=start_date, end=end_date, index=True)"
   ]
  },
  {
   "cell_type": "code",
   "execution_count": 4,
   "id": "8beb8765",
   "metadata": {},
   "outputs": [
    {
     "data": {
      "text/html": [
       "<div>\n",
       "<style scoped>\n",
       "    .dataframe tbody tr th:only-of-type {\n",
       "        vertical-align: middle;\n",
       "    }\n",
       "\n",
       "    .dataframe tbody tr th {\n",
       "        vertical-align: top;\n",
       "    }\n",
       "\n",
       "    .dataframe thead th {\n",
       "        text-align: right;\n",
       "    }\n",
       "</style>\n",
       "<table border=\"1\" class=\"dataframe\">\n",
       "  <thead>\n",
       "    <tr style=\"text-align: right;\">\n",
       "      <th></th>\n",
       "      <th>Open</th>\n",
       "      <th>High</th>\n",
       "      <th>Low</th>\n",
       "      <th>Close</th>\n",
       "      <th>Volume</th>\n",
       "      <th>Turnover</th>\n",
       "    </tr>\n",
       "    <tr>\n",
       "      <th>Date</th>\n",
       "      <th></th>\n",
       "      <th></th>\n",
       "      <th></th>\n",
       "      <th></th>\n",
       "      <th></th>\n",
       "      <th></th>\n",
       "    </tr>\n",
       "  </thead>\n",
       "  <tbody>\n",
       "    <tr>\n",
       "      <th>2008-01-01</th>\n",
       "      <td>6136.75</td>\n",
       "      <td>6165.35</td>\n",
       "      <td>6109.85</td>\n",
       "      <td>6144.35</td>\n",
       "      <td>81305366</td>\n",
       "      <td>4.410970e+10</td>\n",
       "    </tr>\n",
       "    <tr>\n",
       "      <th>2008-01-02</th>\n",
       "      <td>6144.70</td>\n",
       "      <td>6197.00</td>\n",
       "      <td>6060.85</td>\n",
       "      <td>6179.40</td>\n",
       "      <td>110353305</td>\n",
       "      <td>7.184350e+10</td>\n",
       "    </tr>\n",
       "    <tr>\n",
       "      <th>2008-01-03</th>\n",
       "      <td>6184.25</td>\n",
       "      <td>6230.15</td>\n",
       "      <td>6126.40</td>\n",
       "      <td>6178.55</td>\n",
       "      <td>156427760</td>\n",
       "      <td>9.475370e+10</td>\n",
       "    </tr>\n",
       "    <tr>\n",
       "      <th>2008-01-04</th>\n",
       "      <td>6179.10</td>\n",
       "      <td>6300.05</td>\n",
       "      <td>6179.10</td>\n",
       "      <td>6274.30</td>\n",
       "      <td>147642063</td>\n",
       "      <td>8.779230e+10</td>\n",
       "    </tr>\n",
       "    <tr>\n",
       "      <th>2008-01-07</th>\n",
       "      <td>6271.00</td>\n",
       "      <td>6289.80</td>\n",
       "      <td>6193.35</td>\n",
       "      <td>6279.10</td>\n",
       "      <td>139778977</td>\n",
       "      <td>8.873370e+10</td>\n",
       "    </tr>\n",
       "    <tr>\n",
       "      <th>...</th>\n",
       "      <td>...</td>\n",
       "      <td>...</td>\n",
       "      <td>...</td>\n",
       "      <td>...</td>\n",
       "      <td>...</td>\n",
       "      <td>...</td>\n",
       "    </tr>\n",
       "    <tr>\n",
       "      <th>2023-03-24</th>\n",
       "      <td>17076.20</td>\n",
       "      <td>17109.45</td>\n",
       "      <td>16917.35</td>\n",
       "      <td>16945.05</td>\n",
       "      <td>228038299</td>\n",
       "      <td>1.901988e+11</td>\n",
       "    </tr>\n",
       "    <tr>\n",
       "      <th>2023-03-27</th>\n",
       "      <td>16984.30</td>\n",
       "      <td>17091.00</td>\n",
       "      <td>16918.55</td>\n",
       "      <td>16985.70</td>\n",
       "      <td>218418670</td>\n",
       "      <td>1.846656e+11</td>\n",
       "    </tr>\n",
       "    <tr>\n",
       "      <th>2023-03-28</th>\n",
       "      <td>17031.75</td>\n",
       "      <td>17061.75</td>\n",
       "      <td>16913.75</td>\n",
       "      <td>16951.70</td>\n",
       "      <td>238840919</td>\n",
       "      <td>2.094250e+11</td>\n",
       "    </tr>\n",
       "    <tr>\n",
       "      <th>2023-03-29</th>\n",
       "      <td>16977.30</td>\n",
       "      <td>17126.15</td>\n",
       "      <td>16940.60</td>\n",
       "      <td>17080.70</td>\n",
       "      <td>345911087</td>\n",
       "      <td>2.726174e+11</td>\n",
       "    </tr>\n",
       "    <tr>\n",
       "      <th>2023-03-31</th>\n",
       "      <td>17210.35</td>\n",
       "      <td>17381.60</td>\n",
       "      <td>17204.65</td>\n",
       "      <td>17359.75</td>\n",
       "      <td>263889033</td>\n",
       "      <td>2.497098e+11</td>\n",
       "    </tr>\n",
       "  </tbody>\n",
       "</table>\n",
       "<p>3777 rows × 6 columns</p>\n",
       "</div>"
      ],
      "text/plain": [
       "                Open      High       Low     Close     Volume      Turnover\n",
       "Date                                                                       \n",
       "2008-01-01   6136.75   6165.35   6109.85   6144.35   81305366  4.410970e+10\n",
       "2008-01-02   6144.70   6197.00   6060.85   6179.40  110353305  7.184350e+10\n",
       "2008-01-03   6184.25   6230.15   6126.40   6178.55  156427760  9.475370e+10\n",
       "2008-01-04   6179.10   6300.05   6179.10   6274.30  147642063  8.779230e+10\n",
       "2008-01-07   6271.00   6289.80   6193.35   6279.10  139778977  8.873370e+10\n",
       "...              ...       ...       ...       ...        ...           ...\n",
       "2023-03-24  17076.20  17109.45  16917.35  16945.05  228038299  1.901988e+11\n",
       "2023-03-27  16984.30  17091.00  16918.55  16985.70  218418670  1.846656e+11\n",
       "2023-03-28  17031.75  17061.75  16913.75  16951.70  238840919  2.094250e+11\n",
       "2023-03-29  16977.30  17126.15  16940.60  17080.70  345911087  2.726174e+11\n",
       "2023-03-31  17210.35  17381.60  17204.65  17359.75  263889033  2.497098e+11\n",
       "\n",
       "[3777 rows x 6 columns]"
      ]
     },
     "execution_count": 4,
     "metadata": {},
     "output_type": "execute_result"
    }
   ],
   "source": [
    "nifty50"
   ]
  },
  {
   "cell_type": "code",
   "execution_count": 5,
   "id": "9791143b",
   "metadata": {},
   "outputs": [],
   "source": [
    "tata_motors = nsepy.get_history(symbol='TATAMOTORS', start=start_date, end=end_date)"
   ]
  },
  {
   "cell_type": "code",
   "execution_count": 6,
   "id": "74b3768f",
   "metadata": {},
   "outputs": [
    {
     "data": {
      "text/html": [
       "<div>\n",
       "<style scoped>\n",
       "    .dataframe tbody tr th:only-of-type {\n",
       "        vertical-align: middle;\n",
       "    }\n",
       "\n",
       "    .dataframe tbody tr th {\n",
       "        vertical-align: top;\n",
       "    }\n",
       "\n",
       "    .dataframe thead th {\n",
       "        text-align: right;\n",
       "    }\n",
       "</style>\n",
       "<table border=\"1\" class=\"dataframe\">\n",
       "  <thead>\n",
       "    <tr style=\"text-align: right;\">\n",
       "      <th></th>\n",
       "      <th>Symbol</th>\n",
       "      <th>Series</th>\n",
       "      <th>Prev Close</th>\n",
       "      <th>Open</th>\n",
       "      <th>High</th>\n",
       "      <th>Low</th>\n",
       "      <th>Last</th>\n",
       "      <th>Close</th>\n",
       "      <th>VWAP</th>\n",
       "      <th>Volume</th>\n",
       "      <th>Turnover</th>\n",
       "      <th>Trades</th>\n",
       "      <th>Deliverable Volume</th>\n",
       "      <th>%Deliverble</th>\n",
       "    </tr>\n",
       "    <tr>\n",
       "      <th>Date</th>\n",
       "      <th></th>\n",
       "      <th></th>\n",
       "      <th></th>\n",
       "      <th></th>\n",
       "      <th></th>\n",
       "      <th></th>\n",
       "      <th></th>\n",
       "      <th></th>\n",
       "      <th></th>\n",
       "      <th></th>\n",
       "      <th></th>\n",
       "      <th></th>\n",
       "      <th></th>\n",
       "      <th></th>\n",
       "    </tr>\n",
       "  </thead>\n",
       "  <tbody>\n",
       "    <tr>\n",
       "      <th>2008-01-01</th>\n",
       "      <td>TATAMOTORS</td>\n",
       "      <td>EQ</td>\n",
       "      <td>741.90</td>\n",
       "      <td>742.00</td>\n",
       "      <td>766.50</td>\n",
       "      <td>737.00</td>\n",
       "      <td>763.00</td>\n",
       "      <td>762.35</td>\n",
       "      <td>755.29</td>\n",
       "      <td>1325083</td>\n",
       "      <td>1.000828e+14</td>\n",
       "      <td>NaN</td>\n",
       "      <td>880563.0</td>\n",
       "      <td>0.6645</td>\n",
       "    </tr>\n",
       "    <tr>\n",
       "      <th>2008-01-02</th>\n",
       "      <td>TATAMOTORS</td>\n",
       "      <td>EQ</td>\n",
       "      <td>762.35</td>\n",
       "      <td>766.85</td>\n",
       "      <td>797.00</td>\n",
       "      <td>753.00</td>\n",
       "      <td>793.50</td>\n",
       "      <td>793.55</td>\n",
       "      <td>777.17</td>\n",
       "      <td>2033504</td>\n",
       "      <td>1.580372e+14</td>\n",
       "      <td>NaN</td>\n",
       "      <td>1228029.0</td>\n",
       "      <td>0.6039</td>\n",
       "    </tr>\n",
       "    <tr>\n",
       "      <th>2008-01-03</th>\n",
       "      <td>TATAMOTORS</td>\n",
       "      <td>EQ</td>\n",
       "      <td>793.55</td>\n",
       "      <td>800.00</td>\n",
       "      <td>816.00</td>\n",
       "      <td>780.05</td>\n",
       "      <td>793.00</td>\n",
       "      <td>791.60</td>\n",
       "      <td>797.06</td>\n",
       "      <td>2027738</td>\n",
       "      <td>1.616234e+14</td>\n",
       "      <td>NaN</td>\n",
       "      <td>927963.0</td>\n",
       "      <td>0.4576</td>\n",
       "    </tr>\n",
       "    <tr>\n",
       "      <th>2008-01-04</th>\n",
       "      <td>TATAMOTORS</td>\n",
       "      <td>EQ</td>\n",
       "      <td>791.60</td>\n",
       "      <td>800.00</td>\n",
       "      <td>824.10</td>\n",
       "      <td>771.15</td>\n",
       "      <td>784.25</td>\n",
       "      <td>781.65</td>\n",
       "      <td>796.73</td>\n",
       "      <td>1776745</td>\n",
       "      <td>1.415587e+14</td>\n",
       "      <td>NaN</td>\n",
       "      <td>904759.0</td>\n",
       "      <td>0.5092</td>\n",
       "    </tr>\n",
       "    <tr>\n",
       "      <th>2008-01-07</th>\n",
       "      <td>TATAMOTORS</td>\n",
       "      <td>EQ</td>\n",
       "      <td>781.65</td>\n",
       "      <td>783.00</td>\n",
       "      <td>807.80</td>\n",
       "      <td>763.00</td>\n",
       "      <td>785.90</td>\n",
       "      <td>785.40</td>\n",
       "      <td>790.25</td>\n",
       "      <td>1457640</td>\n",
       "      <td>1.151900e+14</td>\n",
       "      <td>NaN</td>\n",
       "      <td>728767.0</td>\n",
       "      <td>0.5000</td>\n",
       "    </tr>\n",
       "    <tr>\n",
       "      <th>...</th>\n",
       "      <td>...</td>\n",
       "      <td>...</td>\n",
       "      <td>...</td>\n",
       "      <td>...</td>\n",
       "      <td>...</td>\n",
       "      <td>...</td>\n",
       "      <td>...</td>\n",
       "      <td>...</td>\n",
       "      <td>...</td>\n",
       "      <td>...</td>\n",
       "      <td>...</td>\n",
       "      <td>...</td>\n",
       "      <td>...</td>\n",
       "      <td>...</td>\n",
       "    </tr>\n",
       "    <tr>\n",
       "      <th>2023-03-24</th>\n",
       "      <td>TATAMOTORS</td>\n",
       "      <td>EQ</td>\n",
       "      <td>419.15</td>\n",
       "      <td>419.00</td>\n",
       "      <td>420.55</td>\n",
       "      <td>414.80</td>\n",
       "      <td>416.50</td>\n",
       "      <td>416.50</td>\n",
       "      <td>417.52</td>\n",
       "      <td>6877960</td>\n",
       "      <td>2.871699e+14</td>\n",
       "      <td>97104.0</td>\n",
       "      <td>2955611.0</td>\n",
       "      <td>0.4297</td>\n",
       "    </tr>\n",
       "    <tr>\n",
       "      <th>2023-03-27</th>\n",
       "      <td>TATAMOTORS</td>\n",
       "      <td>EQ</td>\n",
       "      <td>416.50</td>\n",
       "      <td>416.00</td>\n",
       "      <td>418.50</td>\n",
       "      <td>410.25</td>\n",
       "      <td>412.50</td>\n",
       "      <td>412.05</td>\n",
       "      <td>413.40</td>\n",
       "      <td>7433933</td>\n",
       "      <td>3.073212e+14</td>\n",
       "      <td>152524.0</td>\n",
       "      <td>3303791.0</td>\n",
       "      <td>0.4444</td>\n",
       "    </tr>\n",
       "    <tr>\n",
       "      <th>2023-03-28</th>\n",
       "      <td>TATAMOTORS</td>\n",
       "      <td>EQ</td>\n",
       "      <td>412.05</td>\n",
       "      <td>414.15</td>\n",
       "      <td>414.50</td>\n",
       "      <td>400.45</td>\n",
       "      <td>402.45</td>\n",
       "      <td>401.60</td>\n",
       "      <td>405.25</td>\n",
       "      <td>9553659</td>\n",
       "      <td>3.871607e+14</td>\n",
       "      <td>157234.0</td>\n",
       "      <td>4178207.0</td>\n",
       "      <td>0.4373</td>\n",
       "    </tr>\n",
       "    <tr>\n",
       "      <th>2023-03-29</th>\n",
       "      <td>TATAMOTORS</td>\n",
       "      <td>EQ</td>\n",
       "      <td>401.60</td>\n",
       "      <td>401.60</td>\n",
       "      <td>410.60</td>\n",
       "      <td>401.60</td>\n",
       "      <td>409.95</td>\n",
       "      <td>409.20</td>\n",
       "      <td>406.81</td>\n",
       "      <td>10478506</td>\n",
       "      <td>4.262802e+14</td>\n",
       "      <td>115284.0</td>\n",
       "      <td>5126597.0</td>\n",
       "      <td>0.4892</td>\n",
       "    </tr>\n",
       "    <tr>\n",
       "      <th>2023-03-31</th>\n",
       "      <td>TATAMOTORS</td>\n",
       "      <td>EQ</td>\n",
       "      <td>409.20</td>\n",
       "      <td>411.35</td>\n",
       "      <td>421.75</td>\n",
       "      <td>411.00</td>\n",
       "      <td>421.00</td>\n",
       "      <td>420.80</td>\n",
       "      <td>417.42</td>\n",
       "      <td>11037881</td>\n",
       "      <td>4.607468e+14</td>\n",
       "      <td>141513.0</td>\n",
       "      <td>4640874.0</td>\n",
       "      <td>0.4204</td>\n",
       "    </tr>\n",
       "  </tbody>\n",
       "</table>\n",
       "<p>3780 rows × 14 columns</p>\n",
       "</div>"
      ],
      "text/plain": [
       "                Symbol Series  Prev Close    Open    High     Low    Last  \\\n",
       "Date                                                                        \n",
       "2008-01-01  TATAMOTORS     EQ      741.90  742.00  766.50  737.00  763.00   \n",
       "2008-01-02  TATAMOTORS     EQ      762.35  766.85  797.00  753.00  793.50   \n",
       "2008-01-03  TATAMOTORS     EQ      793.55  800.00  816.00  780.05  793.00   \n",
       "2008-01-04  TATAMOTORS     EQ      791.60  800.00  824.10  771.15  784.25   \n",
       "2008-01-07  TATAMOTORS     EQ      781.65  783.00  807.80  763.00  785.90   \n",
       "...                ...    ...         ...     ...     ...     ...     ...   \n",
       "2023-03-24  TATAMOTORS     EQ      419.15  419.00  420.55  414.80  416.50   \n",
       "2023-03-27  TATAMOTORS     EQ      416.50  416.00  418.50  410.25  412.50   \n",
       "2023-03-28  TATAMOTORS     EQ      412.05  414.15  414.50  400.45  402.45   \n",
       "2023-03-29  TATAMOTORS     EQ      401.60  401.60  410.60  401.60  409.95   \n",
       "2023-03-31  TATAMOTORS     EQ      409.20  411.35  421.75  411.00  421.00   \n",
       "\n",
       "             Close    VWAP    Volume      Turnover    Trades  \\\n",
       "Date                                                           \n",
       "2008-01-01  762.35  755.29   1325083  1.000828e+14       NaN   \n",
       "2008-01-02  793.55  777.17   2033504  1.580372e+14       NaN   \n",
       "2008-01-03  791.60  797.06   2027738  1.616234e+14       NaN   \n",
       "2008-01-04  781.65  796.73   1776745  1.415587e+14       NaN   \n",
       "2008-01-07  785.40  790.25   1457640  1.151900e+14       NaN   \n",
       "...            ...     ...       ...           ...       ...   \n",
       "2023-03-24  416.50  417.52   6877960  2.871699e+14   97104.0   \n",
       "2023-03-27  412.05  413.40   7433933  3.073212e+14  152524.0   \n",
       "2023-03-28  401.60  405.25   9553659  3.871607e+14  157234.0   \n",
       "2023-03-29  409.20  406.81  10478506  4.262802e+14  115284.0   \n",
       "2023-03-31  420.80  417.42  11037881  4.607468e+14  141513.0   \n",
       "\n",
       "            Deliverable Volume  %Deliverble  \n",
       "Date                                         \n",
       "2008-01-01            880563.0       0.6645  \n",
       "2008-01-02           1228029.0       0.6039  \n",
       "2008-01-03            927963.0       0.4576  \n",
       "2008-01-04            904759.0       0.5092  \n",
       "2008-01-07            728767.0       0.5000  \n",
       "...                        ...          ...  \n",
       "2023-03-24           2955611.0       0.4297  \n",
       "2023-03-27           3303791.0       0.4444  \n",
       "2023-03-28           4178207.0       0.4373  \n",
       "2023-03-29           5126597.0       0.4892  \n",
       "2023-03-31           4640874.0       0.4204  \n",
       "\n",
       "[3780 rows x 14 columns]"
      ]
     },
     "execution_count": 6,
     "metadata": {},
     "output_type": "execute_result"
    }
   ],
   "source": [
    "tata_motors"
   ]
  },
  {
   "cell_type": "code",
   "execution_count": 7,
   "id": "ac87c230",
   "metadata": {},
   "outputs": [],
   "source": [
    "havells = nsepy.get_history(symbol='HAVELLS', start=start_date, end=end_date)"
   ]
  },
  {
   "cell_type": "code",
   "execution_count": 8,
   "id": "33ca6a8a",
   "metadata": {},
   "outputs": [
    {
     "data": {
      "text/html": [
       "<div>\n",
       "<style scoped>\n",
       "    .dataframe tbody tr th:only-of-type {\n",
       "        vertical-align: middle;\n",
       "    }\n",
       "\n",
       "    .dataframe tbody tr th {\n",
       "        vertical-align: top;\n",
       "    }\n",
       "\n",
       "    .dataframe thead th {\n",
       "        text-align: right;\n",
       "    }\n",
       "</style>\n",
       "<table border=\"1\" class=\"dataframe\">\n",
       "  <thead>\n",
       "    <tr style=\"text-align: right;\">\n",
       "      <th></th>\n",
       "      <th>Symbol</th>\n",
       "      <th>Series</th>\n",
       "      <th>Prev Close</th>\n",
       "      <th>Open</th>\n",
       "      <th>High</th>\n",
       "      <th>Low</th>\n",
       "      <th>Last</th>\n",
       "      <th>Close</th>\n",
       "      <th>VWAP</th>\n",
       "      <th>Volume</th>\n",
       "      <th>Turnover</th>\n",
       "      <th>Trades</th>\n",
       "      <th>Deliverable Volume</th>\n",
       "      <th>%Deliverble</th>\n",
       "    </tr>\n",
       "    <tr>\n",
       "      <th>Date</th>\n",
       "      <th></th>\n",
       "      <th></th>\n",
       "      <th></th>\n",
       "      <th></th>\n",
       "      <th></th>\n",
       "      <th></th>\n",
       "      <th></th>\n",
       "      <th></th>\n",
       "      <th></th>\n",
       "      <th></th>\n",
       "      <th></th>\n",
       "      <th></th>\n",
       "      <th></th>\n",
       "      <th></th>\n",
       "    </tr>\n",
       "  </thead>\n",
       "  <tbody>\n",
       "    <tr>\n",
       "      <th>2008-01-01</th>\n",
       "      <td>HAVELLS</td>\n",
       "      <td>EQ</td>\n",
       "      <td>698.10</td>\n",
       "      <td>704.90</td>\n",
       "      <td>712.70</td>\n",
       "      <td>693.65</td>\n",
       "      <td>695.00</td>\n",
       "      <td>698.00</td>\n",
       "      <td>702.08</td>\n",
       "      <td>117745</td>\n",
       "      <td>8.266672e+12</td>\n",
       "      <td>NaN</td>\n",
       "      <td>50262</td>\n",
       "      <td>0.4269</td>\n",
       "    </tr>\n",
       "    <tr>\n",
       "      <th>2008-01-02</th>\n",
       "      <td>HAVELLS</td>\n",
       "      <td>EQ</td>\n",
       "      <td>698.00</td>\n",
       "      <td>699.90</td>\n",
       "      <td>706.00</td>\n",
       "      <td>685.05</td>\n",
       "      <td>699.00</td>\n",
       "      <td>696.50</td>\n",
       "      <td>697.43</td>\n",
       "      <td>145413</td>\n",
       "      <td>1.014157e+13</td>\n",
       "      <td>NaN</td>\n",
       "      <td>90306</td>\n",
       "      <td>0.6210</td>\n",
       "    </tr>\n",
       "    <tr>\n",
       "      <th>2008-01-03</th>\n",
       "      <td>HAVELLS</td>\n",
       "      <td>EQ</td>\n",
       "      <td>696.50</td>\n",
       "      <td>690.00</td>\n",
       "      <td>710.50</td>\n",
       "      <td>688.05</td>\n",
       "      <td>700.55</td>\n",
       "      <td>701.90</td>\n",
       "      <td>702.84</td>\n",
       "      <td>147760</td>\n",
       "      <td>1.038510e+13</td>\n",
       "      <td>NaN</td>\n",
       "      <td>82726</td>\n",
       "      <td>0.5599</td>\n",
       "    </tr>\n",
       "    <tr>\n",
       "      <th>2008-01-04</th>\n",
       "      <td>HAVELLS</td>\n",
       "      <td>EQ</td>\n",
       "      <td>701.90</td>\n",
       "      <td>714.50</td>\n",
       "      <td>719.00</td>\n",
       "      <td>688.00</td>\n",
       "      <td>700.00</td>\n",
       "      <td>696.45</td>\n",
       "      <td>708.89</td>\n",
       "      <td>132074</td>\n",
       "      <td>9.362618e+12</td>\n",
       "      <td>NaN</td>\n",
       "      <td>47014</td>\n",
       "      <td>0.3560</td>\n",
       "    </tr>\n",
       "    <tr>\n",
       "      <th>2008-01-07</th>\n",
       "      <td>HAVELLS</td>\n",
       "      <td>EQ</td>\n",
       "      <td>696.45</td>\n",
       "      <td>696.00</td>\n",
       "      <td>711.00</td>\n",
       "      <td>685.00</td>\n",
       "      <td>695.10</td>\n",
       "      <td>695.95</td>\n",
       "      <td>701.56</td>\n",
       "      <td>77818</td>\n",
       "      <td>5.459369e+12</td>\n",
       "      <td>NaN</td>\n",
       "      <td>33500</td>\n",
       "      <td>0.4305</td>\n",
       "    </tr>\n",
       "    <tr>\n",
       "      <th>...</th>\n",
       "      <td>...</td>\n",
       "      <td>...</td>\n",
       "      <td>...</td>\n",
       "      <td>...</td>\n",
       "      <td>...</td>\n",
       "      <td>...</td>\n",
       "      <td>...</td>\n",
       "      <td>...</td>\n",
       "      <td>...</td>\n",
       "      <td>...</td>\n",
       "      <td>...</td>\n",
       "      <td>...</td>\n",
       "      <td>...</td>\n",
       "      <td>...</td>\n",
       "    </tr>\n",
       "    <tr>\n",
       "      <th>2023-03-24</th>\n",
       "      <td>HAVELLS</td>\n",
       "      <td>EQ</td>\n",
       "      <td>1190.90</td>\n",
       "      <td>1191.40</td>\n",
       "      <td>1197.65</td>\n",
       "      <td>1174.00</td>\n",
       "      <td>1176.00</td>\n",
       "      <td>1181.45</td>\n",
       "      <td>1187.21</td>\n",
       "      <td>253493</td>\n",
       "      <td>3.009483e+13</td>\n",
       "      <td>17490.0</td>\n",
       "      <td>132920</td>\n",
       "      <td>0.5244</td>\n",
       "    </tr>\n",
       "    <tr>\n",
       "      <th>2023-03-27</th>\n",
       "      <td>HAVELLS</td>\n",
       "      <td>EQ</td>\n",
       "      <td>1181.45</td>\n",
       "      <td>1181.05</td>\n",
       "      <td>1189.35</td>\n",
       "      <td>1162.30</td>\n",
       "      <td>1165.00</td>\n",
       "      <td>1167.90</td>\n",
       "      <td>1176.58</td>\n",
       "      <td>269418</td>\n",
       "      <td>3.169929e+13</td>\n",
       "      <td>13682.0</td>\n",
       "      <td>114503</td>\n",
       "      <td>0.4250</td>\n",
       "    </tr>\n",
       "    <tr>\n",
       "      <th>2023-03-28</th>\n",
       "      <td>HAVELLS</td>\n",
       "      <td>EQ</td>\n",
       "      <td>1167.90</td>\n",
       "      <td>1170.00</td>\n",
       "      <td>1172.45</td>\n",
       "      <td>1131.80</td>\n",
       "      <td>1144.40</td>\n",
       "      <td>1144.00</td>\n",
       "      <td>1147.83</td>\n",
       "      <td>943699</td>\n",
       "      <td>1.083207e+14</td>\n",
       "      <td>51887.0</td>\n",
       "      <td>349272</td>\n",
       "      <td>0.3701</td>\n",
       "    </tr>\n",
       "    <tr>\n",
       "      <th>2023-03-29</th>\n",
       "      <td>HAVELLS</td>\n",
       "      <td>EQ</td>\n",
       "      <td>1144.00</td>\n",
       "      <td>1138.00</td>\n",
       "      <td>1183.55</td>\n",
       "      <td>1136.05</td>\n",
       "      <td>1182.05</td>\n",
       "      <td>1179.60</td>\n",
       "      <td>1170.43</td>\n",
       "      <td>607826</td>\n",
       "      <td>7.114184e+13</td>\n",
       "      <td>32077.0</td>\n",
       "      <td>191082</td>\n",
       "      <td>0.3144</td>\n",
       "    </tr>\n",
       "    <tr>\n",
       "      <th>2023-03-31</th>\n",
       "      <td>HAVELLS</td>\n",
       "      <td>EQ</td>\n",
       "      <td>1179.60</td>\n",
       "      <td>1185.60</td>\n",
       "      <td>1194.40</td>\n",
       "      <td>1177.80</td>\n",
       "      <td>1190.80</td>\n",
       "      <td>1188.50</td>\n",
       "      <td>1187.57</td>\n",
       "      <td>492712</td>\n",
       "      <td>5.851276e+13</td>\n",
       "      <td>28112.0</td>\n",
       "      <td>214851</td>\n",
       "      <td>0.4361</td>\n",
       "    </tr>\n",
       "  </tbody>\n",
       "</table>\n",
       "<p>3780 rows × 14 columns</p>\n",
       "</div>"
      ],
      "text/plain": [
       "             Symbol Series  Prev Close     Open     High      Low     Last  \\\n",
       "Date                                                                         \n",
       "2008-01-01  HAVELLS     EQ      698.10   704.90   712.70   693.65   695.00   \n",
       "2008-01-02  HAVELLS     EQ      698.00   699.90   706.00   685.05   699.00   \n",
       "2008-01-03  HAVELLS     EQ      696.50   690.00   710.50   688.05   700.55   \n",
       "2008-01-04  HAVELLS     EQ      701.90   714.50   719.00   688.00   700.00   \n",
       "2008-01-07  HAVELLS     EQ      696.45   696.00   711.00   685.00   695.10   \n",
       "...             ...    ...         ...      ...      ...      ...      ...   \n",
       "2023-03-24  HAVELLS     EQ     1190.90  1191.40  1197.65  1174.00  1176.00   \n",
       "2023-03-27  HAVELLS     EQ     1181.45  1181.05  1189.35  1162.30  1165.00   \n",
       "2023-03-28  HAVELLS     EQ     1167.90  1170.00  1172.45  1131.80  1144.40   \n",
       "2023-03-29  HAVELLS     EQ     1144.00  1138.00  1183.55  1136.05  1182.05   \n",
       "2023-03-31  HAVELLS     EQ     1179.60  1185.60  1194.40  1177.80  1190.80   \n",
       "\n",
       "              Close     VWAP  Volume      Turnover   Trades  \\\n",
       "Date                                                          \n",
       "2008-01-01   698.00   702.08  117745  8.266672e+12      NaN   \n",
       "2008-01-02   696.50   697.43  145413  1.014157e+13      NaN   \n",
       "2008-01-03   701.90   702.84  147760  1.038510e+13      NaN   \n",
       "2008-01-04   696.45   708.89  132074  9.362618e+12      NaN   \n",
       "2008-01-07   695.95   701.56   77818  5.459369e+12      NaN   \n",
       "...             ...      ...     ...           ...      ...   \n",
       "2023-03-24  1181.45  1187.21  253493  3.009483e+13  17490.0   \n",
       "2023-03-27  1167.90  1176.58  269418  3.169929e+13  13682.0   \n",
       "2023-03-28  1144.00  1147.83  943699  1.083207e+14  51887.0   \n",
       "2023-03-29  1179.60  1170.43  607826  7.114184e+13  32077.0   \n",
       "2023-03-31  1188.50  1187.57  492712  5.851276e+13  28112.0   \n",
       "\n",
       "            Deliverable Volume  %Deliverble  \n",
       "Date                                         \n",
       "2008-01-01               50262       0.4269  \n",
       "2008-01-02               90306       0.6210  \n",
       "2008-01-03               82726       0.5599  \n",
       "2008-01-04               47014       0.3560  \n",
       "2008-01-07               33500       0.4305  \n",
       "...                        ...          ...  \n",
       "2023-03-24              132920       0.5244  \n",
       "2023-03-27              114503       0.4250  \n",
       "2023-03-28              349272       0.3701  \n",
       "2023-03-29              191082       0.3144  \n",
       "2023-03-31              214851       0.4361  \n",
       "\n",
       "[3780 rows x 14 columns]"
      ]
     },
     "execution_count": 8,
     "metadata": {},
     "output_type": "execute_result"
    }
   ],
   "source": [
    "havells"
   ]
  },
  {
   "cell_type": "code",
   "execution_count": 9,
   "id": "076e191c",
   "metadata": {},
   "outputs": [],
   "source": [
    "itc = nsepy.get_history(symbol='ITC', start=start_date, end=end_date)"
   ]
  },
  {
   "cell_type": "code",
   "execution_count": 10,
   "id": "f8dfb4e1",
   "metadata": {},
   "outputs": [
    {
     "data": {
      "text/html": [
       "<div>\n",
       "<style scoped>\n",
       "    .dataframe tbody tr th:only-of-type {\n",
       "        vertical-align: middle;\n",
       "    }\n",
       "\n",
       "    .dataframe tbody tr th {\n",
       "        vertical-align: top;\n",
       "    }\n",
       "\n",
       "    .dataframe thead th {\n",
       "        text-align: right;\n",
       "    }\n",
       "</style>\n",
       "<table border=\"1\" class=\"dataframe\">\n",
       "  <thead>\n",
       "    <tr style=\"text-align: right;\">\n",
       "      <th></th>\n",
       "      <th>Symbol</th>\n",
       "      <th>Series</th>\n",
       "      <th>Prev Close</th>\n",
       "      <th>Open</th>\n",
       "      <th>High</th>\n",
       "      <th>Low</th>\n",
       "      <th>Last</th>\n",
       "      <th>Close</th>\n",
       "      <th>VWAP</th>\n",
       "      <th>Volume</th>\n",
       "      <th>Turnover</th>\n",
       "      <th>Trades</th>\n",
       "      <th>Deliverable Volume</th>\n",
       "      <th>%Deliverble</th>\n",
       "    </tr>\n",
       "    <tr>\n",
       "      <th>Date</th>\n",
       "      <th></th>\n",
       "      <th></th>\n",
       "      <th></th>\n",
       "      <th></th>\n",
       "      <th></th>\n",
       "      <th></th>\n",
       "      <th></th>\n",
       "      <th></th>\n",
       "      <th></th>\n",
       "      <th></th>\n",
       "      <th></th>\n",
       "      <th></th>\n",
       "      <th></th>\n",
       "      <th></th>\n",
       "    </tr>\n",
       "  </thead>\n",
       "  <tbody>\n",
       "    <tr>\n",
       "      <th>2008-01-01</th>\n",
       "      <td>ITC</td>\n",
       "      <td>EQ</td>\n",
       "      <td>209.45</td>\n",
       "      <td>212.00</td>\n",
       "      <td>220.85</td>\n",
       "      <td>210.10</td>\n",
       "      <td>218.20</td>\n",
       "      <td>217.60</td>\n",
       "      <td>217.90</td>\n",
       "      <td>11524699</td>\n",
       "      <td>2.511231e+14</td>\n",
       "      <td>NaN</td>\n",
       "      <td>5924407</td>\n",
       "      <td>0.5141</td>\n",
       "    </tr>\n",
       "    <tr>\n",
       "      <th>2008-01-02</th>\n",
       "      <td>ITC</td>\n",
       "      <td>EQ</td>\n",
       "      <td>217.60</td>\n",
       "      <td>219.90</td>\n",
       "      <td>227.40</td>\n",
       "      <td>214.30</td>\n",
       "      <td>221.50</td>\n",
       "      <td>221.10</td>\n",
       "      <td>220.16</td>\n",
       "      <td>18150486</td>\n",
       "      <td>3.996071e+14</td>\n",
       "      <td>NaN</td>\n",
       "      <td>8866174</td>\n",
       "      <td>0.4885</td>\n",
       "    </tr>\n",
       "    <tr>\n",
       "      <th>2008-01-03</th>\n",
       "      <td>ITC</td>\n",
       "      <td>EQ</td>\n",
       "      <td>221.10</td>\n",
       "      <td>220.00</td>\n",
       "      <td>221.00</td>\n",
       "      <td>212.05</td>\n",
       "      <td>214.55</td>\n",
       "      <td>214.45</td>\n",
       "      <td>216.34</td>\n",
       "      <td>14458813</td>\n",
       "      <td>3.128074e+14</td>\n",
       "      <td>NaN</td>\n",
       "      <td>8735806</td>\n",
       "      <td>0.6042</td>\n",
       "    </tr>\n",
       "    <tr>\n",
       "      <th>2008-01-04</th>\n",
       "      <td>ITC</td>\n",
       "      <td>EQ</td>\n",
       "      <td>214.45</td>\n",
       "      <td>215.00</td>\n",
       "      <td>220.20</td>\n",
       "      <td>213.15</td>\n",
       "      <td>219.45</td>\n",
       "      <td>219.35</td>\n",
       "      <td>217.21</td>\n",
       "      <td>11891464</td>\n",
       "      <td>2.582999e+14</td>\n",
       "      <td>NaN</td>\n",
       "      <td>8256616</td>\n",
       "      <td>0.6943</td>\n",
       "    </tr>\n",
       "    <tr>\n",
       "      <th>2008-01-07</th>\n",
       "      <td>ITC</td>\n",
       "      <td>EQ</td>\n",
       "      <td>219.35</td>\n",
       "      <td>211.70</td>\n",
       "      <td>235.00</td>\n",
       "      <td>211.70</td>\n",
       "      <td>231.25</td>\n",
       "      <td>231.30</td>\n",
       "      <td>227.18</td>\n",
       "      <td>16797298</td>\n",
       "      <td>3.816009e+14</td>\n",
       "      <td>NaN</td>\n",
       "      <td>8522285</td>\n",
       "      <td>0.5074</td>\n",
       "    </tr>\n",
       "    <tr>\n",
       "      <th>...</th>\n",
       "      <td>...</td>\n",
       "      <td>...</td>\n",
       "      <td>...</td>\n",
       "      <td>...</td>\n",
       "      <td>...</td>\n",
       "      <td>...</td>\n",
       "      <td>...</td>\n",
       "      <td>...</td>\n",
       "      <td>...</td>\n",
       "      <td>...</td>\n",
       "      <td>...</td>\n",
       "      <td>...</td>\n",
       "      <td>...</td>\n",
       "      <td>...</td>\n",
       "    </tr>\n",
       "    <tr>\n",
       "      <th>2023-03-24</th>\n",
       "      <td>ITC</td>\n",
       "      <td>EQ</td>\n",
       "      <td>380.65</td>\n",
       "      <td>381.50</td>\n",
       "      <td>383.00</td>\n",
       "      <td>378.00</td>\n",
       "      <td>378.90</td>\n",
       "      <td>378.70</td>\n",
       "      <td>381.12</td>\n",
       "      <td>9934501</td>\n",
       "      <td>3.786219e+14</td>\n",
       "      <td>81630.0</td>\n",
       "      <td>6876733</td>\n",
       "      <td>0.6922</td>\n",
       "    </tr>\n",
       "    <tr>\n",
       "      <th>2023-03-27</th>\n",
       "      <td>ITC</td>\n",
       "      <td>EQ</td>\n",
       "      <td>378.70</td>\n",
       "      <td>377.95</td>\n",
       "      <td>384.40</td>\n",
       "      <td>376.35</td>\n",
       "      <td>380.00</td>\n",
       "      <td>380.20</td>\n",
       "      <td>381.06</td>\n",
       "      <td>10816352</td>\n",
       "      <td>4.121729e+14</td>\n",
       "      <td>103476.0</td>\n",
       "      <td>6564514</td>\n",
       "      <td>0.6069</td>\n",
       "    </tr>\n",
       "    <tr>\n",
       "      <th>2023-03-28</th>\n",
       "      <td>ITC</td>\n",
       "      <td>EQ</td>\n",
       "      <td>380.20</td>\n",
       "      <td>380.20</td>\n",
       "      <td>382.35</td>\n",
       "      <td>378.15</td>\n",
       "      <td>379.75</td>\n",
       "      <td>379.75</td>\n",
       "      <td>379.78</td>\n",
       "      <td>9170535</td>\n",
       "      <td>3.482750e+14</td>\n",
       "      <td>115524.0</td>\n",
       "      <td>5528670</td>\n",
       "      <td>0.6029</td>\n",
       "    </tr>\n",
       "    <tr>\n",
       "      <th>2023-03-29</th>\n",
       "      <td>ITC</td>\n",
       "      <td>EQ</td>\n",
       "      <td>379.75</td>\n",
       "      <td>380.20</td>\n",
       "      <td>384.00</td>\n",
       "      <td>377.15</td>\n",
       "      <td>383.05</td>\n",
       "      <td>382.75</td>\n",
       "      <td>381.12</td>\n",
       "      <td>10160322</td>\n",
       "      <td>3.872301e+14</td>\n",
       "      <td>120617.0</td>\n",
       "      <td>6231122</td>\n",
       "      <td>0.6133</td>\n",
       "    </tr>\n",
       "    <tr>\n",
       "      <th>2023-03-31</th>\n",
       "      <td>ITC</td>\n",
       "      <td>EQ</td>\n",
       "      <td>382.75</td>\n",
       "      <td>382.00</td>\n",
       "      <td>384.50</td>\n",
       "      <td>380.00</td>\n",
       "      <td>383.20</td>\n",
       "      <td>383.50</td>\n",
       "      <td>382.81</td>\n",
       "      <td>9511189</td>\n",
       "      <td>3.640947e+14</td>\n",
       "      <td>167654.0</td>\n",
       "      <td>6309361</td>\n",
       "      <td>0.6634</td>\n",
       "    </tr>\n",
       "  </tbody>\n",
       "</table>\n",
       "<p>3780 rows × 14 columns</p>\n",
       "</div>"
      ],
      "text/plain": [
       "           Symbol Series  Prev Close    Open    High     Low    Last   Close  \\\n",
       "Date                                                                           \n",
       "2008-01-01    ITC     EQ      209.45  212.00  220.85  210.10  218.20  217.60   \n",
       "2008-01-02    ITC     EQ      217.60  219.90  227.40  214.30  221.50  221.10   \n",
       "2008-01-03    ITC     EQ      221.10  220.00  221.00  212.05  214.55  214.45   \n",
       "2008-01-04    ITC     EQ      214.45  215.00  220.20  213.15  219.45  219.35   \n",
       "2008-01-07    ITC     EQ      219.35  211.70  235.00  211.70  231.25  231.30   \n",
       "...           ...    ...         ...     ...     ...     ...     ...     ...   \n",
       "2023-03-24    ITC     EQ      380.65  381.50  383.00  378.00  378.90  378.70   \n",
       "2023-03-27    ITC     EQ      378.70  377.95  384.40  376.35  380.00  380.20   \n",
       "2023-03-28    ITC     EQ      380.20  380.20  382.35  378.15  379.75  379.75   \n",
       "2023-03-29    ITC     EQ      379.75  380.20  384.00  377.15  383.05  382.75   \n",
       "2023-03-31    ITC     EQ      382.75  382.00  384.50  380.00  383.20  383.50   \n",
       "\n",
       "              VWAP    Volume      Turnover    Trades  Deliverable Volume  \\\n",
       "Date                                                                       \n",
       "2008-01-01  217.90  11524699  2.511231e+14       NaN             5924407   \n",
       "2008-01-02  220.16  18150486  3.996071e+14       NaN             8866174   \n",
       "2008-01-03  216.34  14458813  3.128074e+14       NaN             8735806   \n",
       "2008-01-04  217.21  11891464  2.582999e+14       NaN             8256616   \n",
       "2008-01-07  227.18  16797298  3.816009e+14       NaN             8522285   \n",
       "...            ...       ...           ...       ...                 ...   \n",
       "2023-03-24  381.12   9934501  3.786219e+14   81630.0             6876733   \n",
       "2023-03-27  381.06  10816352  4.121729e+14  103476.0             6564514   \n",
       "2023-03-28  379.78   9170535  3.482750e+14  115524.0             5528670   \n",
       "2023-03-29  381.12  10160322  3.872301e+14  120617.0             6231122   \n",
       "2023-03-31  382.81   9511189  3.640947e+14  167654.0             6309361   \n",
       "\n",
       "            %Deliverble  \n",
       "Date                     \n",
       "2008-01-01       0.5141  \n",
       "2008-01-02       0.4885  \n",
       "2008-01-03       0.6042  \n",
       "2008-01-04       0.6943  \n",
       "2008-01-07       0.5074  \n",
       "...                 ...  \n",
       "2023-03-24       0.6922  \n",
       "2023-03-27       0.6069  \n",
       "2023-03-28       0.6029  \n",
       "2023-03-29       0.6133  \n",
       "2023-03-31       0.6634  \n",
       "\n",
       "[3780 rows x 14 columns]"
      ]
     },
     "execution_count": 10,
     "metadata": {},
     "output_type": "execute_result"
    }
   ],
   "source": [
    "itc"
   ]
  },
  {
   "cell_type": "code",
   "execution_count": 11,
   "id": "f8df6667",
   "metadata": {},
   "outputs": [],
   "source": [
    "infosys = nsepy.get_history(symbol='INFY', start=start_date, end=end_date)"
   ]
  },
  {
   "cell_type": "code",
   "execution_count": 12,
   "id": "4a454691",
   "metadata": {},
   "outputs": [
    {
     "data": {
      "text/html": [
       "<div>\n",
       "<style scoped>\n",
       "    .dataframe tbody tr th:only-of-type {\n",
       "        vertical-align: middle;\n",
       "    }\n",
       "\n",
       "    .dataframe tbody tr th {\n",
       "        vertical-align: top;\n",
       "    }\n",
       "\n",
       "    .dataframe thead th {\n",
       "        text-align: right;\n",
       "    }\n",
       "</style>\n",
       "<table border=\"1\" class=\"dataframe\">\n",
       "  <thead>\n",
       "    <tr style=\"text-align: right;\">\n",
       "      <th></th>\n",
       "      <th>Symbol</th>\n",
       "      <th>Series</th>\n",
       "      <th>Prev Close</th>\n",
       "      <th>Open</th>\n",
       "      <th>High</th>\n",
       "      <th>Low</th>\n",
       "      <th>Last</th>\n",
       "      <th>Close</th>\n",
       "      <th>VWAP</th>\n",
       "      <th>Volume</th>\n",
       "      <th>Turnover</th>\n",
       "      <th>Trades</th>\n",
       "      <th>Deliverable Volume</th>\n",
       "      <th>%Deliverble</th>\n",
       "    </tr>\n",
       "    <tr>\n",
       "      <th>Date</th>\n",
       "      <th></th>\n",
       "      <th></th>\n",
       "      <th></th>\n",
       "      <th></th>\n",
       "      <th></th>\n",
       "      <th></th>\n",
       "      <th></th>\n",
       "      <th></th>\n",
       "      <th></th>\n",
       "      <th></th>\n",
       "      <th></th>\n",
       "      <th></th>\n",
       "      <th></th>\n",
       "      <th></th>\n",
       "    </tr>\n",
       "  </thead>\n",
       "  <tbody>\n",
       "    <tr>\n",
       "      <th>2008-01-01</th>\n",
       "      <td>INFOSYSTCH</td>\n",
       "      <td>EQ</td>\n",
       "      <td>1769.90</td>\n",
       "      <td>1766.60</td>\n",
       "      <td>1778.60</td>\n",
       "      <td>1742.25</td>\n",
       "      <td>1746.00</td>\n",
       "      <td>1746.85</td>\n",
       "      <td>1758.19</td>\n",
       "      <td>250203</td>\n",
       "      <td>4.399049e+13</td>\n",
       "      <td>NaN</td>\n",
       "      <td>122849</td>\n",
       "      <td>0.4910</td>\n",
       "    </tr>\n",
       "    <tr>\n",
       "      <th>2008-01-02</th>\n",
       "      <td>INFOSYSTCH</td>\n",
       "      <td>EQ</td>\n",
       "      <td>1746.85</td>\n",
       "      <td>1750.00</td>\n",
       "      <td>1759.35</td>\n",
       "      <td>1712.40</td>\n",
       "      <td>1755.00</td>\n",
       "      <td>1748.30</td>\n",
       "      <td>1731.50</td>\n",
       "      <td>769382</td>\n",
       "      <td>1.332185e+14</td>\n",
       "      <td>NaN</td>\n",
       "      <td>462777</td>\n",
       "      <td>0.6015</td>\n",
       "    </tr>\n",
       "    <tr>\n",
       "      <th>2008-01-03</th>\n",
       "      <td>INFOSYSTCH</td>\n",
       "      <td>EQ</td>\n",
       "      <td>1748.30</td>\n",
       "      <td>1797.00</td>\n",
       "      <td>1797.00</td>\n",
       "      <td>1690.00</td>\n",
       "      <td>1718.00</td>\n",
       "      <td>1709.05</td>\n",
       "      <td>1716.65</td>\n",
       "      <td>1553245</td>\n",
       "      <td>2.666382e+14</td>\n",
       "      <td>NaN</td>\n",
       "      <td>1068196</td>\n",
       "      <td>0.6877</td>\n",
       "    </tr>\n",
       "    <tr>\n",
       "      <th>2008-01-04</th>\n",
       "      <td>INFOSYSTCH</td>\n",
       "      <td>EQ</td>\n",
       "      <td>1709.05</td>\n",
       "      <td>1747.40</td>\n",
       "      <td>1747.40</td>\n",
       "      <td>1680.00</td>\n",
       "      <td>1695.00</td>\n",
       "      <td>1694.90</td>\n",
       "      <td>1696.44</td>\n",
       "      <td>770790</td>\n",
       "      <td>1.307598e+14</td>\n",
       "      <td>NaN</td>\n",
       "      <td>449885</td>\n",
       "      <td>0.5837</td>\n",
       "    </tr>\n",
       "    <tr>\n",
       "      <th>2008-01-07</th>\n",
       "      <td>INFOSYSTCH</td>\n",
       "      <td>EQ</td>\n",
       "      <td>1694.90</td>\n",
       "      <td>1670.00</td>\n",
       "      <td>1690.00</td>\n",
       "      <td>1623.00</td>\n",
       "      <td>1640.35</td>\n",
       "      <td>1636.85</td>\n",
       "      <td>1639.62</td>\n",
       "      <td>1656775</td>\n",
       "      <td>2.716479e+14</td>\n",
       "      <td>NaN</td>\n",
       "      <td>1160357</td>\n",
       "      <td>0.7004</td>\n",
       "    </tr>\n",
       "    <tr>\n",
       "      <th>...</th>\n",
       "      <td>...</td>\n",
       "      <td>...</td>\n",
       "      <td>...</td>\n",
       "      <td>...</td>\n",
       "      <td>...</td>\n",
       "      <td>...</td>\n",
       "      <td>...</td>\n",
       "      <td>...</td>\n",
       "      <td>...</td>\n",
       "      <td>...</td>\n",
       "      <td>...</td>\n",
       "      <td>...</td>\n",
       "      <td>...</td>\n",
       "      <td>...</td>\n",
       "    </tr>\n",
       "    <tr>\n",
       "      <th>2023-03-24</th>\n",
       "      <td>INFY</td>\n",
       "      <td>EQ</td>\n",
       "      <td>1374.55</td>\n",
       "      <td>1388.00</td>\n",
       "      <td>1398.95</td>\n",
       "      <td>1377.50</td>\n",
       "      <td>1378.95</td>\n",
       "      <td>1380.65</td>\n",
       "      <td>1388.97</td>\n",
       "      <td>7559127</td>\n",
       "      <td>1.049940e+15</td>\n",
       "      <td>204870.0</td>\n",
       "      <td>4757124</td>\n",
       "      <td>0.6293</td>\n",
       "    </tr>\n",
       "    <tr>\n",
       "      <th>2023-03-27</th>\n",
       "      <td>INFY</td>\n",
       "      <td>EQ</td>\n",
       "      <td>1380.65</td>\n",
       "      <td>1386.25</td>\n",
       "      <td>1395.75</td>\n",
       "      <td>1374.10</td>\n",
       "      <td>1388.20</td>\n",
       "      <td>1388.95</td>\n",
       "      <td>1388.84</td>\n",
       "      <td>4170193</td>\n",
       "      <td>5.791748e+14</td>\n",
       "      <td>214904.0</td>\n",
       "      <td>2594183</td>\n",
       "      <td>0.6221</td>\n",
       "    </tr>\n",
       "    <tr>\n",
       "      <th>2023-03-28</th>\n",
       "      <td>INFY</td>\n",
       "      <td>EQ</td>\n",
       "      <td>1388.95</td>\n",
       "      <td>1392.10</td>\n",
       "      <td>1398.00</td>\n",
       "      <td>1375.85</td>\n",
       "      <td>1378.60</td>\n",
       "      <td>1377.60</td>\n",
       "      <td>1382.99</td>\n",
       "      <td>6633366</td>\n",
       "      <td>9.173851e+14</td>\n",
       "      <td>154855.0</td>\n",
       "      <td>4843490</td>\n",
       "      <td>0.7302</td>\n",
       "    </tr>\n",
       "    <tr>\n",
       "      <th>2023-03-29</th>\n",
       "      <td>INFY</td>\n",
       "      <td>EQ</td>\n",
       "      <td>1377.60</td>\n",
       "      <td>1379.00</td>\n",
       "      <td>1389.90</td>\n",
       "      <td>1364.55</td>\n",
       "      <td>1388.60</td>\n",
       "      <td>1383.55</td>\n",
       "      <td>1377.31</td>\n",
       "      <td>8813966</td>\n",
       "      <td>1.213957e+15</td>\n",
       "      <td>235693.0</td>\n",
       "      <td>6348499</td>\n",
       "      <td>0.7203</td>\n",
       "    </tr>\n",
       "    <tr>\n",
       "      <th>2023-03-31</th>\n",
       "      <td>INFY</td>\n",
       "      <td>EQ</td>\n",
       "      <td>1383.55</td>\n",
       "      <td>1404.00</td>\n",
       "      <td>1429.95</td>\n",
       "      <td>1393.90</td>\n",
       "      <td>1425.70</td>\n",
       "      <td>1427.95</td>\n",
       "      <td>1416.85</td>\n",
       "      <td>8711975</td>\n",
       "      <td>1.234356e+15</td>\n",
       "      <td>228023.0</td>\n",
       "      <td>6312000</td>\n",
       "      <td>0.7245</td>\n",
       "    </tr>\n",
       "  </tbody>\n",
       "</table>\n",
       "<p>3780 rows × 14 columns</p>\n",
       "</div>"
      ],
      "text/plain": [
       "                Symbol Series  Prev Close     Open     High      Low     Last  \\\n",
       "Date                                                                            \n",
       "2008-01-01  INFOSYSTCH     EQ     1769.90  1766.60  1778.60  1742.25  1746.00   \n",
       "2008-01-02  INFOSYSTCH     EQ     1746.85  1750.00  1759.35  1712.40  1755.00   \n",
       "2008-01-03  INFOSYSTCH     EQ     1748.30  1797.00  1797.00  1690.00  1718.00   \n",
       "2008-01-04  INFOSYSTCH     EQ     1709.05  1747.40  1747.40  1680.00  1695.00   \n",
       "2008-01-07  INFOSYSTCH     EQ     1694.90  1670.00  1690.00  1623.00  1640.35   \n",
       "...                ...    ...         ...      ...      ...      ...      ...   \n",
       "2023-03-24        INFY     EQ     1374.55  1388.00  1398.95  1377.50  1378.95   \n",
       "2023-03-27        INFY     EQ     1380.65  1386.25  1395.75  1374.10  1388.20   \n",
       "2023-03-28        INFY     EQ     1388.95  1392.10  1398.00  1375.85  1378.60   \n",
       "2023-03-29        INFY     EQ     1377.60  1379.00  1389.90  1364.55  1388.60   \n",
       "2023-03-31        INFY     EQ     1383.55  1404.00  1429.95  1393.90  1425.70   \n",
       "\n",
       "              Close     VWAP   Volume      Turnover    Trades  \\\n",
       "Date                                                            \n",
       "2008-01-01  1746.85  1758.19   250203  4.399049e+13       NaN   \n",
       "2008-01-02  1748.30  1731.50   769382  1.332185e+14       NaN   \n",
       "2008-01-03  1709.05  1716.65  1553245  2.666382e+14       NaN   \n",
       "2008-01-04  1694.90  1696.44   770790  1.307598e+14       NaN   \n",
       "2008-01-07  1636.85  1639.62  1656775  2.716479e+14       NaN   \n",
       "...             ...      ...      ...           ...       ...   \n",
       "2023-03-24  1380.65  1388.97  7559127  1.049940e+15  204870.0   \n",
       "2023-03-27  1388.95  1388.84  4170193  5.791748e+14  214904.0   \n",
       "2023-03-28  1377.60  1382.99  6633366  9.173851e+14  154855.0   \n",
       "2023-03-29  1383.55  1377.31  8813966  1.213957e+15  235693.0   \n",
       "2023-03-31  1427.95  1416.85  8711975  1.234356e+15  228023.0   \n",
       "\n",
       "            Deliverable Volume  %Deliverble  \n",
       "Date                                         \n",
       "2008-01-01              122849       0.4910  \n",
       "2008-01-02              462777       0.6015  \n",
       "2008-01-03             1068196       0.6877  \n",
       "2008-01-04              449885       0.5837  \n",
       "2008-01-07             1160357       0.7004  \n",
       "...                        ...          ...  \n",
       "2023-03-24             4757124       0.6293  \n",
       "2023-03-27             2594183       0.6221  \n",
       "2023-03-28             4843490       0.7302  \n",
       "2023-03-29             6348499       0.7203  \n",
       "2023-03-31             6312000       0.7245  \n",
       "\n",
       "[3780 rows x 14 columns]"
      ]
     },
     "execution_count": 12,
     "metadata": {},
     "output_type": "execute_result"
    }
   ],
   "source": [
    "infosys"
   ]
  },
  {
   "cell_type": "markdown",
   "id": "7139fbda",
   "metadata": {},
   "source": [
    "**`Although we can drop unnecessary columns from the datasets, I am choosing not to do so because these might prove useful in future analysis`**"
   ]
  },
  {
   "cell_type": "code",
   "execution_count": 13,
   "id": "91192a78",
   "metadata": {},
   "outputs": [],
   "source": [
    "# exporting data to.csv"
   ]
  },
  {
   "cell_type": "code",
   "execution_count": 14,
   "id": "8e061662",
   "metadata": {},
   "outputs": [],
   "source": [
    "nifty50.to_csv('C:/Users/manis/OneDrive/Desktop/FinMkt/nifty50.csv')\n",
    "tata_motors.to_csv('C:/Users/manis/OneDrive/Desktop/FinMkt/tata_motors.csv')\n",
    "havells.to_csv('C:/Users/manis/OneDrive/Desktop/FinMkt/havells.csv')\n",
    "itc.to_csv('C:/Users/manis/OneDrive/Desktop/FinMkt/itc.csv')\n",
    "infosys.to_csv('C:/Users/manis/OneDrive/Desktop/FinMkt/infosys.csv')"
   ]
  },
  {
   "cell_type": "code",
   "execution_count": 15,
   "id": "d91a870f",
   "metadata": {},
   "outputs": [],
   "source": [
    "# Data Eyeballing"
   ]
  },
  {
   "cell_type": "code",
   "execution_count": 16,
   "id": "f429db76",
   "metadata": {},
   "outputs": [
    {
     "name": "stdout",
     "output_type": "stream",
     "text": [
      "Index(['Date', 'Open', 'High', 'Low', 'Close', 'Volume', 'Turnover'], dtype='object')\n"
     ]
    }
   ],
   "source": [
    "nifty50 = pd.read_csv('nifty50.csv')\n",
    "print(nifty50.columns)"
   ]
  },
  {
   "cell_type": "code",
   "execution_count": 17,
   "id": "8a72ec4d",
   "metadata": {},
   "outputs": [
    {
     "name": "stdout",
     "output_type": "stream",
     "text": [
      "Index(['Date', 'Symbol', 'Series', 'Prev Close', 'Open', 'High', 'Low', 'Last',\n",
      "       'Close', 'VWAP', 'Volume', 'Turnover', 'Trades', 'Deliverable Volume',\n",
      "       '%Deliverble'],\n",
      "      dtype='object')\n"
     ]
    }
   ],
   "source": [
    "tata_motors = pd.read_csv('tata_motors.csv')\n",
    "print(tata_motors.columns)"
   ]
  },
  {
   "cell_type": "code",
   "execution_count": 18,
   "id": "271c93a4",
   "metadata": {},
   "outputs": [
    {
     "name": "stdout",
     "output_type": "stream",
     "text": [
      "Index(['Date', 'Symbol', 'Series', 'Prev Close', 'Open', 'High', 'Low', 'Last',\n",
      "       'Close', 'VWAP', 'Volume', 'Turnover', 'Trades', 'Deliverable Volume',\n",
      "       '%Deliverble'],\n",
      "      dtype='object')\n"
     ]
    }
   ],
   "source": [
    "havells = pd.read_csv('havells.csv')\n",
    "print(havells.columns)"
   ]
  },
  {
   "cell_type": "code",
   "execution_count": 19,
   "id": "de3d9b53",
   "metadata": {},
   "outputs": [
    {
     "name": "stdout",
     "output_type": "stream",
     "text": [
      "Index(['Date', 'Symbol', 'Series', 'Prev Close', 'Open', 'High', 'Low', 'Last',\n",
      "       'Close', 'VWAP', 'Volume', 'Turnover', 'Trades', 'Deliverable Volume',\n",
      "       '%Deliverble'],\n",
      "      dtype='object')\n"
     ]
    }
   ],
   "source": [
    "itc = pd.read_csv('itc.csv')\n",
    "print(itc.columns)"
   ]
  },
  {
   "cell_type": "code",
   "execution_count": 20,
   "id": "3bc957fa",
   "metadata": {},
   "outputs": [
    {
     "name": "stdout",
     "output_type": "stream",
     "text": [
      "Index(['Date', 'Symbol', 'Series', 'Prev Close', 'Open', 'High', 'Low', 'Last',\n",
      "       'Close', 'VWAP', 'Volume', 'Turnover', 'Trades', 'Deliverable Volume',\n",
      "       '%Deliverble'],\n",
      "      dtype='object')\n"
     ]
    }
   ],
   "source": [
    "infosys = pd.read_csv('infosys.csv')\n",
    "print(infosys.columns)"
   ]
  },
  {
   "cell_type": "code",
   "execution_count": null,
   "id": "ad29c6f2",
   "metadata": {},
   "outputs": [],
   "source": [
    "# Calculating Daily returns"
   ]
  },
  {
   "cell_type": "code",
   "execution_count": 51,
   "id": "8bb02e80",
   "metadata": {},
   "outputs": [
    {
     "data": {
      "text/plain": [
       "0            NaN\n",
       "1       0.567207\n",
       "2      -0.013757\n",
       "3       1.526067\n",
       "4       0.076444\n",
       "          ...   \n",
       "3772   -0.778103\n",
       "3773    0.239319\n",
       "3774   -0.200570\n",
       "3775    0.755238\n",
       "3776    1.607454\n",
       "Name: Close, Length: 3777, dtype: float64"
      ]
     },
     "execution_count": 51,
     "metadata": {},
     "output_type": "execute_result"
    }
   ],
   "source": [
    "nifty50_returns = (nifty50['Close'].diff()/nifty50['Close'])*100\n",
    "\n",
    "nifty50_returns"
   ]
  },
  {
   "cell_type": "code",
   "execution_count": 52,
   "id": "1b271175",
   "metadata": {},
   "outputs": [
    {
     "data": {
      "text/plain": [
       "0            NaN\n",
       "1       3.931699\n",
       "2      -0.246337\n",
       "3      -1.272948\n",
       "4       0.477464\n",
       "          ...   \n",
       "3775   -0.636255\n",
       "3776   -1.079966\n",
       "3777   -2.602092\n",
       "3778    1.857283\n",
       "3779    2.756654\n",
       "Name: Close, Length: 3780, dtype: float64"
      ]
     },
     "execution_count": 52,
     "metadata": {},
     "output_type": "execute_result"
    }
   ],
   "source": [
    "tata_motors_returns = (tata_motors['Close'].diff()/tata_motors['Close'])*100\n",
    "\n",
    "tata_motors_returns"
   ]
  },
  {
   "cell_type": "code",
   "execution_count": 53,
   "id": "c33e99c3",
   "metadata": {},
   "outputs": [
    {
     "data": {
      "text/plain": [
       "0            NaN\n",
       "1      -0.215363\n",
       "2       0.769340\n",
       "3      -0.782540\n",
       "4      -0.071844\n",
       "          ...   \n",
       "3775   -0.799865\n",
       "3776   -1.160202\n",
       "3777   -2.089161\n",
       "3778    3.017972\n",
       "3779    0.748843\n",
       "Name: Close, Length: 3780, dtype: float64"
      ]
     },
     "execution_count": 53,
     "metadata": {},
     "output_type": "execute_result"
    }
   ],
   "source": [
    "havells_returns = (havells['Close'].diff()/havells['Close'])*100\n",
    "\n",
    "havells_returns"
   ]
  },
  {
   "cell_type": "code",
   "execution_count": 54,
   "id": "6f888273",
   "metadata": {},
   "outputs": [
    {
     "data": {
      "text/plain": [
       "0            NaN\n",
       "1      -0.215363\n",
       "2       0.769340\n",
       "3      -0.782540\n",
       "4      -0.071844\n",
       "          ...   \n",
       "3775   -0.799865\n",
       "3776   -1.160202\n",
       "3777   -2.089161\n",
       "3778    3.017972\n",
       "3779    0.748843\n",
       "Name: Close, Length: 3780, dtype: float64"
      ]
     },
     "execution_count": 54,
     "metadata": {},
     "output_type": "execute_result"
    }
   ],
   "source": [
    "itc_returns = (havells['Close'].diff()/havells['Close'])*100\n",
    "\n",
    "itc_returns"
   ]
  },
  {
   "cell_type": "code",
   "execution_count": 55,
   "id": "6bfc5d1d",
   "metadata": {},
   "outputs": [
    {
     "data": {
      "text/plain": [
       "0            NaN\n",
       "1       0.082938\n",
       "2      -2.296598\n",
       "3      -0.834858\n",
       "4      -3.546446\n",
       "          ...   \n",
       "3775    0.441821\n",
       "3776    0.597574\n",
       "3777   -0.823897\n",
       "3778    0.430053\n",
       "3779    3.109353\n",
       "Name: Close, Length: 3780, dtype: float64"
      ]
     },
     "execution_count": 55,
     "metadata": {},
     "output_type": "execute_result"
    }
   ],
   "source": [
    "infosys_returns = (infosys['Close'].diff()/infosys['Close'])*100\n",
    "\n",
    "infosys_returns"
   ]
  },
  {
   "cell_type": "markdown",
   "id": "ecaaa293",
   "metadata": {},
   "source": [
    "With the daily returns data for NIFTY50 and the four selected stocks in hand, we can proceed to the next phase of our analysis that is plotting the daily returns chart for each of them using `quantstats`. To use `quantstats` for plotting, it is necessary to have a Datetime index. Therefore, let's make all returns pandas series index to DateTime index."
   ]
  },
  {
   "cell_type": "code",
   "execution_count": 56,
   "id": "b9090429",
   "metadata": {},
   "outputs": [
    {
     "data": {
      "text/plain": [
       "Date\n",
       "2008-01-01         NaN\n",
       "2008-01-02    0.567207\n",
       "2008-01-03   -0.013757\n",
       "2008-01-04    1.526067\n",
       "2008-01-07    0.076444\n",
       "                ...   \n",
       "2023-03-24   -0.778103\n",
       "2023-03-27    0.239319\n",
       "2023-03-28   -0.200570\n",
       "2023-03-29    0.755238\n",
       "2023-03-31    1.607454\n",
       "Name: Close, Length: 3777, dtype: float64"
      ]
     },
     "execution_count": 56,
     "metadata": {},
     "output_type": "execute_result"
    }
   ],
   "source": [
    "nifty50_returns.index = pd.to_datetime(nifty50['Date'])\n",
    "nifty50_returns"
   ]
  },
  {
   "cell_type": "code",
   "execution_count": 57,
   "id": "82dd6f26",
   "metadata": {},
   "outputs": [
    {
     "data": {
      "text/plain": [
       "Date\n",
       "2008-01-01         NaN\n",
       "2008-01-02    3.931699\n",
       "2008-01-03   -0.246337\n",
       "2008-01-04   -1.272948\n",
       "2008-01-07    0.477464\n",
       "                ...   \n",
       "2023-03-24   -0.636255\n",
       "2023-03-27   -1.079966\n",
       "2023-03-28   -2.602092\n",
       "2023-03-29    1.857283\n",
       "2023-03-31    2.756654\n",
       "Name: Close, Length: 3780, dtype: float64"
      ]
     },
     "execution_count": 57,
     "metadata": {},
     "output_type": "execute_result"
    }
   ],
   "source": [
    "tata_motors_returns.index = pd.to_datetime(tata_motors['Date'])\n",
    "tata_motors_returns"
   ]
  },
  {
   "cell_type": "code",
   "execution_count": 58,
   "id": "4b9bd831",
   "metadata": {},
   "outputs": [
    {
     "data": {
      "text/plain": [
       "Date\n",
       "2008-01-01         NaN\n",
       "2008-01-02   -0.215363\n",
       "2008-01-03    0.769340\n",
       "2008-01-04   -0.782540\n",
       "2008-01-07   -0.071844\n",
       "                ...   \n",
       "2023-03-24   -0.799865\n",
       "2023-03-27   -1.160202\n",
       "2023-03-28   -2.089161\n",
       "2023-03-29    3.017972\n",
       "2023-03-31    0.748843\n",
       "Name: Close, Length: 3780, dtype: float64"
      ]
     },
     "execution_count": 58,
     "metadata": {},
     "output_type": "execute_result"
    }
   ],
   "source": [
    "havells_returns.index = pd.to_datetime(havells['Date'])\n",
    "havells_returns"
   ]
  },
  {
   "cell_type": "code",
   "execution_count": 59,
   "id": "6d90f2d2",
   "metadata": {},
   "outputs": [
    {
     "data": {
      "text/plain": [
       "Date\n",
       "2008-01-01         NaN\n",
       "2008-01-02   -0.215363\n",
       "2008-01-03    0.769340\n",
       "2008-01-04   -0.782540\n",
       "2008-01-07   -0.071844\n",
       "                ...   \n",
       "2023-03-24   -0.799865\n",
       "2023-03-27   -1.160202\n",
       "2023-03-28   -2.089161\n",
       "2023-03-29    3.017972\n",
       "2023-03-31    0.748843\n",
       "Name: Close, Length: 3780, dtype: float64"
      ]
     },
     "execution_count": 59,
     "metadata": {},
     "output_type": "execute_result"
    }
   ],
   "source": [
    "itc_returns.index = pd.to_datetime(itc['Date'])\n",
    "itc_returns"
   ]
  },
  {
   "cell_type": "code",
   "execution_count": 60,
   "id": "e1e4bb55",
   "metadata": {},
   "outputs": [
    {
     "data": {
      "text/plain": [
       "Date\n",
       "2008-01-01         NaN\n",
       "2008-01-02    0.082938\n",
       "2008-01-03   -2.296598\n",
       "2008-01-04   -0.834858\n",
       "2008-01-07   -3.546446\n",
       "                ...   \n",
       "2023-03-24    0.441821\n",
       "2023-03-27    0.597574\n",
       "2023-03-28   -0.823897\n",
       "2023-03-29    0.430053\n",
       "2023-03-31    3.109353\n",
       "Name: Close, Length: 3780, dtype: float64"
      ]
     },
     "execution_count": 60,
     "metadata": {},
     "output_type": "execute_result"
    }
   ],
   "source": [
    "infosys_returns.index = pd.to_datetime(infosys['Date'])\n",
    "infosys_returns"
   ]
  },
  {
   "cell_type": "code",
   "execution_count": 61,
   "id": "e3d723bd",
   "metadata": {
    "scrolled": false
   },
   "outputs": [
    {
     "name": "stdout",
     "output_type": "stream",
     "text": [
      "\n",
      "\n",
      "\n",
      "NIFTY50 Daily Returns Plot:\n",
      "\n"
     ]
    },
    {
     "data": {
      "image/png": "[encoded data removed]",
      "text/plain": [
       "<Figure size 1000x400 with 1 Axes>"
      ]
     },
     "metadata": {},
     "output_type": "display_data"
    },
    {
     "name": "stdout",
     "output_type": "stream",
     "text": [
      "\n",
      "\n",
      "\n",
      "\n",
      "\n",
      "Tata Motors. Daily Returns Plot:\n",
      "\n"
     ]
    },
    {
     "data": {
      "image/png": "[encoded data removed]",
      "text/plain": [
       "<Figure size 1000x400 with 1 Axes>"
      ]
     },
     "metadata": {},
     "output_type": "display_data"
    },
    {
     "name": "stdout",
     "output_type": "stream",
     "text": [
      "\n",
      "\n",
      "\n",
      "\n",
      "\n",
      "Havells Daily Returns Plot:\n",
      "\n"
     ]
    },
    {
     "data": {
      "image/png": "[encoded data removed]",
      "text/plain": [
       "<Figure size 1000x400 with 1 Axes>"
      ]
     },
     "metadata": {},
     "output_type": "display_data"
    },
    {
     "name": "stdout",
     "output_type": "stream",
     "text": [
      "\n",
      "\n",
      "\n",
      "\n",
      "\n",
      "ITC Daily Returns Plot:\n",
      "\n"
     ]
    },
    {
     "data": {
      "image/png": "[encoded data removed]",
      "text/plain": [
       "<Figure size 1000x400 with 1 Axes>"
      ]
     },
     "metadata": {},
     "output_type": "display_data"
    },
    {
     "name": "stdout",
     "output_type": "stream",
     "text": [
      "\n",
      "\n",
      "\n",
      "\n",
      "\n",
      "Infosys Daily Returns Plot:\n",
      "\n"
     ]
    },
    {
     "data": {
      "image/png": "[encoded data removed]",
      "text/plain": [
       "<Figure size 1000x400 with 1 Axes>"
      ]
     },
     "metadata": {},
     "output_type": "display_data"
    }
   ],
   "source": [
    "# Plotting Daily Returns for NIFTY50 and each stock\n",
    "print('\\n')\n",
    "print('\\nNIFTY50 Daily Returns Plot:\\n')\n",
    "qs.plots.daily_returns(nifty50_returns/100)\n",
    "print('\\n')\n",
    "print('\\n')\n",
    "print('\\nTata Motors. Daily Returns Plot:\\n')\n",
    "qs.plots.daily_returns(tata_motors_returns/100)\n",
    "print('\\n')\n",
    "print('\\n')\n",
    "print('\\nHavells Daily Returns Plot:\\n')\n",
    "qs.plots.daily_returns(havells_returns/100)\n",
    "print('\\n')\n",
    "print('\\n')\n",
    "print('\\nITC Daily Returns Plot:\\n')\n",
    "qs.plots.daily_returns(itc_returns/100)\n",
    "print('\\n')\n",
    "print('\\n')\n",
    "print('\\nInfosys Daily Returns Plot:\\n')\n",
    "qs.plots.daily_returns(infosys_returns/100)"
   ]
  },
  {
   "cell_type": "code",
   "execution_count": null,
   "id": "c7ab4083",
   "metadata": {},
   "outputs": [],
   "source": [
    "# Interpretation paragraph"
   ]
  },
  {
   "cell_type": "code",
   "execution_count": null,
   "id": "e076f2a2",
   "metadata": {},
   "outputs": [],
   "source": []
  },
  {
   "cell_type": "code",
   "execution_count": null,
   "id": "d4ac3c8c",
   "metadata": {},
   "outputs": [],
   "source": []
  },
  {
   "cell_type": "code",
   "execution_count": null,
   "id": "b45e54ad",
   "metadata": {},
   "outputs": [],
   "source": []
  },
  {
   "cell_type": "code",
   "execution_count": null,
   "id": "ea510277",
   "metadata": {},
   "outputs": [],
   "source": []
  },
  {
   "cell_type": "code",
   "execution_count": null,
   "id": "f02fd413",
   "metadata": {},
   "outputs": [],
   "source": []
  },
  {
   "cell_type": "code",
   "execution_count": null,
   "id": "4e33b8bf",
   "metadata": {},
   "outputs": [],
   "source": []
  },
  {
   "cell_type": "code",
   "execution_count": 73,
   "id": "c42603ad",
   "metadata": {},
   "outputs": [],
   "source": []
  },
  {
   "cell_type": "code",
   "execution_count": null,
   "id": "d205313a",
   "metadata": {},
   "outputs": [],
   "source": []
  },
  {
   "cell_type": "code",
   "execution_count": null,
   "id": "0f10a324",
   "metadata": {},
   "outputs": [],
   "source": []
  },
  {
   "cell_type": "code",
   "execution_count": null,
   "id": "34082972",
   "metadata": {},
   "outputs": [],
   "source": []
  },
  {
   "cell_type": "code",
   "execution_count": null,
   "id": "13d34edb",
   "metadata": {},
   "outputs": [],
   "source": []
  },
  {
   "cell_type": "code",
   "execution_count": null,
   "id": "8425d0b5",
   "metadata": {},
   "outputs": [],
   "source": []
  },
  {
   "cell_type": "code",
   "execution_count": null,
   "id": "b8cf2922",
   "metadata": {},
   "outputs": [],
   "source": []
  },
  {
   "cell_type": "code",
   "execution_count": null,
   "id": "2426fde2",
   "metadata": {},
   "outputs": [],
   "source": []
  },
  {
   "cell_type": "code",
   "execution_count": null,
   "id": "198eaf05",
   "metadata": {},
   "outputs": [],
   "source": []
  },
  {
   "cell_type": "code",
   "execution_count": null,
   "id": "e11e58b1",
   "metadata": {},
   "outputs": [],
   "source": []
  },
  {
   "cell_type": "code",
   "execution_count": null,
   "id": "091ce3bb",
   "metadata": {},
   "outputs": [],
   "source": []
  },
  {
   "cell_type": "code",
   "execution_count": null,
   "id": "f8c748db",
   "metadata": {},
   "outputs": [],
   "source": []
  },
  {
   "cell_type": "code",
   "execution_count": null,
   "id": "044ff70c",
   "metadata": {},
   "outputs": [],
   "source": []
  },
  {
   "cell_type": "code",
   "execution_count": null,
   "id": "0b11a92c",
   "metadata": {},
   "outputs": [],
   "source": []
  },
  {
   "cell_type": "code",
   "execution_count": null,
   "id": "741708bf",
   "metadata": {},
   "outputs": [],
   "source": []
  },
  {
   "cell_type": "code",
   "execution_count": null,
   "id": "cf921d4f",
   "metadata": {},
   "outputs": [],
   "source": []
  },
  {
   "cell_type": "code",
   "execution_count": null,
   "id": "c9c501fb",
   "metadata": {},
   "outputs": [],
   "source": []
  },
  {
   "cell_type": "code",
   "execution_count": null,
   "id": "afd41988",
   "metadata": {},
   "outputs": [],
   "source": []
  },
  {
   "cell_type": "code",
   "execution_count": null,
   "id": "6162f903",
   "metadata": {},
   "outputs": [],
   "source": []
  },
  {
   "cell_type": "code",
   "execution_count": null,
   "id": "b1a23710",
   "metadata": {},
   "outputs": [],
   "source": []
  },
  {
   "cell_type": "code",
   "execution_count": null,
   "id": "e875349c",
   "metadata": {},
   "outputs": [],
   "source": []
  },
  {
   "cell_type": "code",
   "execution_count": null,
   "id": "dd2da894",
   "metadata": {},
   "outputs": [],
   "source": []
  },
  {
   "cell_type": "code",
   "execution_count": 14,
   "id": "f055f742",
   "metadata": {},
   "outputs": [],
   "source": []
  },
  {
   "cell_type": "code",
   "execution_count": null,
   "id": "3c1da3eb",
   "metadata": {},
   "outputs": [],
   "source": []
  }
 ],
 "metadata": {
  "kernelspec": {
   "display_name": "Python 3 (ipykernel)",
   "language": "python",
   "name": "python3"
  },
  "language_info": {
   "codemirror_mode": {
    "name": "ipython",
    "version": 3
   },
   "file_extension": ".py",
   "mimetype": "text/x-python",
   "name": "python",
   "nbconvert_exporter": "python",
   "pygments_lexer": "ipython3",
   "version": "3.9.13"
  }
 },
 "nbformat": 4,
 "nbformat_minor": 5
}

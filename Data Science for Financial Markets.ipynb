{
 "cells": [
  {
   "cell_type": "code",
   "execution_count": null,
   "id": "e690f533",
   "metadata": {},
   "outputs": [],
   "source": []
  },
  {
   "cell_type": "markdown",
   "id": "4c5ab255",
   "metadata": {},
   "source": [
    "# Data Science for Data Science"
   ]
  },
  {
   "cell_type": "markdown",
   "id": "4c083474",
   "metadata": {},
   "source": [
    "### Content"
   ]
  },
  {
   "cell_type": "markdown",
   "id": "25a18423",
   "metadata": {},
   "source": [
    "## Introduction\n",
    "\n",
    "---"
   ]
  },
  {
   "cell_type": "markdown",
   "id": "87d56ba8",
   "metadata": {},
   "source": [
    "In recent years, we have seen an explosion in the amount of data being generated and collected. From social media activity to financial transactions, the amount of data being generated on a daily basis is staggering. With this influx of data comes an urgent need for professionals who can extract insights and knowledge from it.\n",
    "\n",
    "Data Science, a rapidly growing field that combines statistical and computational techniques to transform data into actionable information. It brings together multiple disciplines such as mathematics, statistics, computer science and domain-specific knowledge to create a multi-faceted approach to understanding complex data patterns. The goal of Data Science is to provide a complete picture of data and transform it into actionable information that can inform business decisions, scientific breakthroughs and even public policy. It has become an increasingly vital part of our data-driven world.\n",
    "\n",
    "When it comes to financial markets, the need for accurate and timely data analysis has never been more critical. Financial institutions need to make decisions based on a variety of factors including market trends, customer behavior and risk management. Data Science can help financial institutions analyze and make sense of this data providing insights that can help them stay ahead of the competition.\n",
    "\n",
    "#### Application of Data Science for Financial Markets\n",
    "\n",
    "- **1. Predictive Modeling :** One of the primary applications of Data Science in finance is predictive modeling. Data Science professionals can use historical data to create models that can identify trends and make predictions about future market conditions. These models can be used to inform investment decisions, identify potential risks and even create new financial products.\n",
    "\n",
    "- **2. Algorithmic Trading :** Another application of Data Science in finance is algorithmic trading. This involves using algorithms that execute buy and sell orders autonomously based on mathematical models through the analysis of price, volume and volatility among many others. Algorithmic trading has become increasingly popular in recent years as it allows financial institutions to make trades quickly and efficiently without human intervention.\n",
    "\n",
    "- **3. Portfolio Optimization :** Data Science can also be used to optimize portfolios aiming for maximization of returns and risk minimization. Algorithms and other mathematical models can be used to create optimized portfolios that take into account a variety of factors including risk tolerance, diversification and investment goals.\n",
    "\n",
    "- **4. Fraud Detection :** Fraud detection is another important application of Data Science in finance. Financial institutions are constantly at risk of fraudulent activities and Data Science can be used to identify and prevent these activities. Machine learning algorithms can be used to analyze financial transactions, identifying patterns and anomalies that may indicate fraudulent activity.\n",
    "\n",
    "- **5. Risk Management :** Risk management is also a critical application of Data Science in finance. Data science can be used to quantify and manage various types of financial risks including market risk, credit risk and operational risk. By analyzing historical data and identifying potential risks, financial institutions can make informed decisions that mitigate these risks and protect their investments.\n",
    "\n",
    "- **6. Customer Analysis :** Data Science can also be used to analyze customer data and gain insights into customer behavior and preferences. Financial institutions can use this data to improve customer engagement and retention creating targeted marketing campaigns and personalized investment strategies.\n",
    "\n",
    "\n",
    "By leveraging Data Science and Python, we can develop more effective investment strategies and make informed decisions that can help us achieve our financial goals. In this notebook, we will explore how Data Science and Python can be utilized to extract crucial insights from financial markets. We will dive into the applications of these tools such as building and optimizing portfolios, developing effective trading strategies and performing detailed stock analysis. By showcasing the versatility and usefulness of these techniques, we aim to provide a valuable resource for those interested in making informed investment decisions. With Data Science and Python at our disposal, we have the ability to unlock a wealth of knowledge and transform the way we approach financial markets."
   ]
  },
  {
   "cell_type": "markdown",
   "id": "02861653",
   "metadata": {},
   "source": [
    "## Essential Libraries\n",
    "\n",
    "---"
   ]
  },
  {
   "cell_type": "markdown",
   "id": "a67de4af",
   "metadata": {},
   "source": [
    "### 1. `nsepy`"
   ]
  },
  {
   "cell_type": "markdown",
   "id": "032b4c17",
   "metadata": {},
   "source": [
    "If you are looking to obtain historical market data for Indian stocks, `nsepy` is a reliable and efficient Python library to consider. `nsepy` provides easy access to historical stock price data from the National Stock Exchange of India (NSE) through a simple and user-friendly API. You can easily obtain data for any publicly traded company listed on the NSE including stocks, indices and futures."
   ]
  },
  {
   "cell_type": "markdown",
   "id": "f9987455",
   "metadata": {},
   "source": [
    "This is how you can install `nsepy` in your Python environment:"
   ]
  },
  {
   "cell_type": "code",
   "execution_count": 2,
   "id": "2bce7c8c",
   "metadata": {},
   "outputs": [
    {
     "name": "stdout",
     "output_type": "stream",
     "text": [
      "Requirement already satisfied: nsepy in c:\\users\\manis\\anaconda3\\lib\\site-packages (0.8)\n",
      "Requirement already satisfied: beautifulsoup4 in c:\\users\\manis\\anaconda3\\lib\\site-packages (from nsepy) (4.11.1)\n",
      "Requirement already satisfied: lxml in c:\\users\\manis\\anaconda3\\lib\\site-packages (from nsepy) (4.9.1)\n",
      "Requirement already satisfied: click in c:\\users\\manis\\anaconda3\\lib\\site-packages (from nsepy) (8.0.4)\n",
      "Requirement already satisfied: pandas in c:\\users\\manis\\anaconda3\\lib\\site-packages (from nsepy) (1.4.4)\n",
      "Requirement already satisfied: numpy in c:\\users\\manis\\anaconda3\\lib\\site-packages (from nsepy) (1.21.5)\n",
      "Requirement already satisfied: six in c:\\users\\manis\\anaconda3\\lib\\site-packages (from nsepy) (1.16.0)\n",
      "Requirement already satisfied: requests in c:\\users\\manis\\anaconda3\\lib\\site-packages (from nsepy) (2.28.1)\n",
      "Requirement already satisfied: soupsieve>1.2 in c:\\users\\manis\\anaconda3\\lib\\site-packages (from beautifulsoup4->nsepy) (2.3.1)\n",
      "Requirement already satisfied: colorama in c:\\users\\manis\\anaconda3\\lib\\site-packages (from click->nsepy) (0.4.6)\n",
      "Requirement already satisfied: python-dateutil>=2.8.1 in c:\\users\\manis\\anaconda3\\lib\\site-packages (from pandas->nsepy) (2.8.2)\n",
      "Requirement already satisfied: pytz>=2020.1 in c:\\users\\manis\\anaconda3\\lib\\site-packages (from pandas->nsepy) (2022.1)\n",
      "Requirement already satisfied: charset-normalizer<3,>=2 in c:\\users\\manis\\anaconda3\\lib\\site-packages (from requests->nsepy) (2.0.4)\n",
      "Requirement already satisfied: certifi>=2017.4.17 in c:\\users\\manis\\anaconda3\\lib\\site-packages (from requests->nsepy) (2022.9.14)\n",
      "Requirement already satisfied: urllib3<1.27,>=1.21.1 in c:\\users\\manis\\anaconda3\\lib\\site-packages (from requests->nsepy) (1.26.11)\n",
      "Requirement already satisfied: idna<4,>=2.5 in c:\\users\\manis\\anaconda3\\lib\\site-packages (from requests->nsepy) (3.3)\n",
      "Note: you may need to restart the kernel to use updated packages.\n"
     ]
    }
   ],
   "source": [
    "pip install nsepy"
   ]
  },
  {
   "cell_type": "markdown",
   "id": "48397741",
   "metadata": {},
   "source": [
    "### 2. `quantstats`"
   ]
  },
  {
   "cell_type": "markdown",
   "id": "dd34977b",
   "metadata": {},
   "source": [
    "Quantstats is a game-changing Python library that is transforming the way traders and investors analyze financial data. With its wide range of tools for quantitative financial analysis including technical and fundamental analysis, portfolio optimization and backtesting of investment strategies, Quantstats has quickly become one of the most popular libraries in the financial industry. Its simple and easy-to-use interface makes it accessible to both seasoned traders and newcomers to quantitative finance. By providing a comprehensive suite of tools for analyzing financial data, Quantstats empowers traders and investors to make more informed decisions, optimize their portfolios and gain an edge in the market. Whether you are a professional trader or just starting out in the world of finance, Quantstats is an essential tool for anyone looking to succeed in the complex and ever-changing world of financial markets."
   ]
  },
  {
   "cell_type": "markdown",
   "id": "ba031e67",
   "metadata": {},
   "source": [
    "This is how you can install `quantstats` in your Python environment:"
   ]
  },
  {
   "cell_type": "code",
   "execution_count": 3,
   "id": "4d42a17d",
   "metadata": {},
   "outputs": [
    {
     "name": "stdout",
     "output_type": "stream",
     "text": [
      "Collecting quantstats\n",
      "  Downloading QuantStats-0.0.59-py2.py3-none-any.whl (41 kB)\n",
      "     -------------------------------------- 41.3/41.3 kB 153.2 kB/s eta 0:00:00\n",
      "Requirement already satisfied: seaborn>=0.9.0 in c:\\users\\manis\\anaconda3\\lib\\site-packages (from quantstats) (0.11.2)\n",
      "Requirement already satisfied: python-dateutil>=2.0 in c:\\users\\manis\\anaconda3\\lib\\site-packages (from quantstats) (2.8.2)\n",
      "Requirement already satisfied: scipy>=1.2.0 in c:\\users\\manis\\anaconda3\\lib\\site-packages (from quantstats) (1.9.1)\n",
      "Requirement already satisfied: matplotlib>=3.0.0 in c:\\users\\manis\\anaconda3\\lib\\site-packages (from quantstats) (3.5.2)\n",
      "Collecting yfinance>=0.1.70\n",
      "  Downloading yfinance-0.2.14-py2.py3-none-any.whl (59 kB)\n",
      "     -------------------------------------- 59.7/59.7 kB 353.3 kB/s eta 0:00:00\n",
      "Requirement already satisfied: pandas>=0.24.0 in c:\\users\\manis\\anaconda3\\lib\\site-packages (from quantstats) (1.4.4)\n",
      "Requirement already satisfied: tabulate>=0.8.0 in c:\\users\\manis\\anaconda3\\lib\\site-packages (from quantstats) (0.8.10)\n",
      "Requirement already satisfied: numpy>=1.16.5 in c:\\users\\manis\\anaconda3\\lib\\site-packages (from quantstats) (1.21.5)\n",
      "Requirement already satisfied: fonttools>=4.22.0 in c:\\users\\manis\\anaconda3\\lib\\site-packages (from matplotlib>=3.0.0->quantstats) (4.25.0)\n",
      "Requirement already satisfied: pillow>=6.2.0 in c:\\users\\manis\\anaconda3\\lib\\site-packages (from matplotlib>=3.0.0->quantstats) (9.2.0)\n",
      "Requirement already satisfied: pyparsing>=2.2.1 in c:\\users\\manis\\anaconda3\\lib\\site-packages (from matplotlib>=3.0.0->quantstats) (3.0.9)\n",
      "Requirement already satisfied: cycler>=0.10 in c:\\users\\manis\\anaconda3\\lib\\site-packages (from matplotlib>=3.0.0->quantstats) (0.11.0)\n",
      "Requirement already satisfied: kiwisolver>=1.0.1 in c:\\users\\manis\\anaconda3\\lib\\site-packages (from matplotlib>=3.0.0->quantstats) (1.4.2)\n",
      "Requirement already satisfied: packaging>=20.0 in c:\\users\\manis\\anaconda3\\lib\\site-packages (from matplotlib>=3.0.0->quantstats) (21.3)\n",
      "Requirement already satisfied: pytz>=2020.1 in c:\\users\\manis\\anaconda3\\lib\\site-packages (from pandas>=0.24.0->quantstats) (2022.1)\n",
      "Requirement already satisfied: six>=1.5 in c:\\users\\manis\\anaconda3\\lib\\site-packages (from python-dateutil>=2.0->quantstats) (1.16.0)\n",
      "Collecting pytz>=2020.1\n",
      "  Downloading pytz-2023.3-py2.py3-none-any.whl (502 kB)\n",
      "     ------------------------------------ 502.3/502.3 kB 384.2 kB/s eta 0:00:00\n",
      "Collecting frozendict>=2.3.4\n",
      "  Downloading frozendict-2.3.6-cp39-cp39-win_amd64.whl (35 kB)\n",
      "Requirement already satisfied: lxml>=4.9.1 in c:\\users\\manis\\anaconda3\\lib\\site-packages (from yfinance>=0.1.70->quantstats) (4.9.1)\n",
      "Requirement already satisfied: appdirs>=1.4.4 in c:\\users\\manis\\anaconda3\\lib\\site-packages (from yfinance>=0.1.70->quantstats) (1.4.4)\n",
      "Requirement already satisfied: requests>=2.26 in c:\\users\\manis\\anaconda3\\lib\\site-packages (from yfinance>=0.1.70->quantstats) (2.28.1)\n",
      "Collecting multitasking>=0.0.7\n",
      "  Downloading multitasking-0.0.11-py3-none-any.whl (8.5 kB)\n",
      "Requirement already satisfied: beautifulsoup4>=4.11.1 in c:\\users\\manis\\anaconda3\\lib\\site-packages (from yfinance>=0.1.70->quantstats) (4.11.1)\n",
      "Requirement already satisfied: cryptography>=3.3.2 in c:\\users\\manis\\anaconda3\\lib\\site-packages (from yfinance>=0.1.70->quantstats) (37.0.1)\n",
      "Collecting html5lib>=1.1\n",
      "  Downloading html5lib-1.1-py2.py3-none-any.whl (112 kB)\n",
      "     ------------------------------------ 112.2/112.2 kB 935.2 kB/s eta 0:00:00\n",
      "Requirement already satisfied: soupsieve>1.2 in c:\\users\\manis\\anaconda3\\lib\\site-packages (from beautifulsoup4>=4.11.1->yfinance>=0.1.70->quantstats) (2.3.1)\n",
      "Requirement already satisfied: cffi>=1.12 in c:\\users\\manis\\anaconda3\\lib\\site-packages (from cryptography>=3.3.2->yfinance>=0.1.70->quantstats) (1.15.1)\n",
      "Requirement already satisfied: webencodings in c:\\users\\manis\\anaconda3\\lib\\site-packages (from html5lib>=1.1->yfinance>=0.1.70->quantstats) (0.5.1)\n",
      "Requirement already satisfied: charset-normalizer<3,>=2 in c:\\users\\manis\\anaconda3\\lib\\site-packages (from requests>=2.26->yfinance>=0.1.70->quantstats) (2.0.4)\n",
      "Requirement already satisfied: idna<4,>=2.5 in c:\\users\\manis\\anaconda3\\lib\\site-packages (from requests>=2.26->yfinance>=0.1.70->quantstats) (3.3)\n",
      "Requirement already satisfied: certifi>=2017.4.17 in c:\\users\\manis\\anaconda3\\lib\\site-packages (from requests>=2.26->yfinance>=0.1.70->quantstats) (2022.9.14)\n",
      "Requirement already satisfied: urllib3<1.27,>=1.21.1 in c:\\users\\manis\\anaconda3\\lib\\site-packages (from requests>=2.26->yfinance>=0.1.70->quantstats) (1.26.11)\n",
      "Requirement already satisfied: pycparser in c:\\users\\manis\\anaconda3\\lib\\site-packages (from cffi>=1.12->cryptography>=3.3.2->yfinance>=0.1.70->quantstats) (2.21)\n",
      "Installing collected packages: pytz, multitasking, html5lib, frozendict, yfinance, quantstats\n",
      "  Attempting uninstall: pytz\n",
      "    Found existing installation: pytz 2022.1\n",
      "    Uninstalling pytz-2022.1:\n",
      "      Successfully uninstalled pytz-2022.1\n",
      "Successfully installed frozendict-2.3.6 html5lib-1.1 multitasking-0.0.11 pytz-2023.3 quantstats-0.0.59 yfinance-0.2.14\n",
      "Note: you may need to restart the kernel to use updated packages.\n"
     ]
    },
    {
     "name": "stderr",
     "output_type": "stream",
     "text": [
      "ERROR: pip's dependency resolver does not currently take into account all the packages that are installed. This behaviour is the source of the following dependency conflicts.\n",
      "conda-repo-cli 1.0.20 requires clyent==1.2.1, but you have clyent 1.2.2 which is incompatible.\n",
      "conda-repo-cli 1.0.20 requires nbformat==5.4.0, but you have nbformat 5.5.0 which is incompatible.\n"
     ]
    }
   ],
   "source": [
    "pip install quantstats"
   ]
  },
  {
   "cell_type": "markdown",
   "id": "18430720",
   "metadata": {},
   "source": [
    "### 3. `pyportfolioopt`"
   ]
  },
  {
   "cell_type": "markdown",
   "id": "4357c20b",
   "metadata": {},
   "source": [
    "If you are looking to create an optimized investment portfolio that aligns with your specific objectives, constraints and risk preferences, `pyportfolioopt` is an exceptional Python library to consider. With its diverse range of optimization algorithms including the Black-Litterman allocation model and mean-variance optimization model, `pyportfolioopt` empowers investors to construct and optimize portfolios that maximize their returns while minimizing risk. Its user-friendly interface and flexible optimization capabilities make it an incredibly useful tool for both novice and experienced investors alike. Whether you are looking to build a balanced investment portfolio or construct a custom portfolio with specific risk and return objectives, `pyportfolioopt` can help you achieve your goals with ease."
   ]
  },
  {
   "cell_type": "markdown",
   "id": "bf9ff323",
   "metadata": {},
   "source": [
    "This is how you can install `pyportfolioopt` in your Python environment:"
   ]
  },
  {
   "cell_type": "code",
   "execution_count": 8,
   "id": "a779c256",
   "metadata": {},
   "outputs": [
    {
     "name": "stdout",
     "output_type": "stream",
     "text": [
      "Collecting pyportfolioopt\n",
      "  Using cached pyportfolioopt-1.5.4-py3-none-any.whl (61 kB)\n",
      "Collecting cvxpy<2.0.0,>=1.1.10\n",
      "  Using cached cvxpy-1.3.1-cp39-cp39-win_amd64.whl (889 kB)\n",
      "Requirement already satisfied: numpy<2.0.0,>=1.22.4 in c:\\users\\manis\\anaconda3\\lib\\site-packages (from pyportfolioopt) (1.24.2)\n",
      "Requirement already satisfied: pandas>=0.19 in c:\\users\\manis\\anaconda3\\lib\\site-packages (from pyportfolioopt) (1.4.4)\n",
      "Requirement already satisfied: scipy<2.0,>=1.3 in c:\\users\\manis\\anaconda3\\lib\\site-packages (from pyportfolioopt) (1.9.1)\n",
      "Collecting scs>=1.1.6\n",
      "  Using cached scs-3.2.2-cp39-cp39-win_amd64.whl (8.2 MB)\n",
      "Collecting osqp>=0.4.1\n",
      "  Using cached osqp-0.6.2.post8-cp39-cp39-win_amd64.whl (292 kB)\n",
      "Collecting ecos>=2\n",
      "  Using cached ecos-2.0.12-cp39-cp39-win_amd64.whl (72 kB)\n",
      "Requirement already satisfied: setuptools>65.5.1 in c:\\users\\manis\\anaconda3\\lib\\site-packages (from cvxpy<2.0.0,>=1.1.10->pyportfolioopt) (67.6.1)\n",
      "Requirement already satisfied: pytz>=2020.1 in c:\\users\\manis\\anaconda3\\lib\\site-packages (from pandas>=0.19->pyportfolioopt) (2023.3)\n",
      "Requirement already satisfied: python-dateutil>=2.8.1 in c:\\users\\manis\\anaconda3\\lib\\site-packages (from pandas>=0.19->pyportfolioopt) (2.8.2)\n",
      "Collecting qdldl\n",
      "  Using cached qdldl-0.1.5.post3-cp39-cp39-win_amd64.whl (83 kB)\n",
      "Requirement already satisfied: six>=1.5 in c:\\users\\manis\\anaconda3\\lib\\site-packages (from python-dateutil>=2.8.1->pandas>=0.19->pyportfolioopt) (1.16.0)\n",
      "Installing collected packages: scs, qdldl, ecos, osqp, cvxpy, pyportfolioopt\n",
      "Successfully installed cvxpy-1.3.1 ecos-2.0.12 osqp-0.6.2.post8 pyportfolioopt-1.5.4 qdldl-0.1.5.post3 scs-3.2.2\n",
      "Note: you may need to restart the kernel to use updated packages.\n"
     ]
    }
   ],
   "source": [
    "pip install pyportfolioopt"
   ]
  },
  {
   "cell_type": "markdown",
   "id": "b19bf2c0",
   "metadata": {},
   "source": [
    "### 4. `ta`"
   ]
  },
  {
   "cell_type": "markdown",
   "id": "6a7a1889",
   "metadata": {},
   "source": [
    "If you are looking to conduct technical analysis using Python, the `ta` (Technical Analysis) library is an invaluable resource. It offers a comprehensive range of technical indicators such as moving averages, Bollinger bands, MACD and the Relative Strength Index that can be used to analyze market trends and make informed trading decisions. Whether you are a seasoned trader or a novice, the `ta` library is easy to use and customize, allowing you to tailor your analysis to your specific needs. By providing insights into market momentum, volatility and trends, this library can help you gain a deeper understanding of market behavior and make better-informed investment decisions. Whether you are looking to trade in stocks, cryptocurrencies or other financial instruments, the `ta` library is a must-have tool for any technical analyst."
   ]
  },
  {
   "cell_type": "markdown",
   "id": "9082ac65",
   "metadata": {},
   "source": [
    "This is how you can install `ta` in your Python environment:"
   ]
  },
  {
   "cell_type": "code",
   "execution_count": 11,
   "id": "b5b37ee6",
   "metadata": {},
   "outputs": [
    {
     "name": "stdout",
     "output_type": "stream",
     "text": [
      "Collecting taNote: you may need to restart the kernel to use updated packages.\n",
      "\n",
      "  Downloading ta-0.10.2.tar.gz (25 kB)\n",
      "  Preparing metadata (setup.py): started\n",
      "  Preparing metadata (setup.py): finished with status 'done'\n",
      "Requirement already satisfied: numpy in c:\\users\\manis\\anaconda3\\lib\\site-packages (from ta) (1.24.2)\n",
      "Requirement already satisfied: pandas in c:\\users\\manis\\anaconda3\\lib\\site-packages (from ta) (1.4.4)\n",
      "Requirement already satisfied: pytz>=2020.1 in c:\\users\\manis\\anaconda3\\lib\\site-packages (from pandas->ta) (2023.3)\n",
      "Requirement already satisfied: python-dateutil>=2.8.1 in c:\\users\\manis\\anaconda3\\lib\\site-packages (from pandas->ta) (2.8.2)\n",
      "Requirement already satisfied: six>=1.5 in c:\\users\\manis\\anaconda3\\lib\\site-packages (from python-dateutil>=2.8.1->pandas->ta) (1.16.0)\n",
      "Building wheels for collected packages: ta\n",
      "  Building wheel for ta (setup.py): started\n",
      "  Building wheel for ta (setup.py): finished with status 'done'\n",
      "  Created wheel for ta: filename=ta-0.10.2-py3-none-any.whl size=29088 sha256=ecc6457bf333c9c83dd35a3f52ee9d565d4d85f4a2da80aa61ce708f0a55abb1\n",
      "  Stored in directory: c:\\users\\manis\\appdata\\local\\pip\\cache\\wheels\\6a\\76\\03\\7f785aaa50b9c6ec7e3fd105a62c1b2c45a034512d51e024a9\n",
      "Successfully built ta\n",
      "Installing collected packages: ta\n",
      "Successfully installed ta-0.10.2\n"
     ]
    }
   ],
   "source": [
    "pip install ta"
   ]
  },
  {
   "cell_type": "code",
   "execution_count": null,
   "id": "d091353e",
   "metadata": {},
   "outputs": [],
   "source": []
  }
 ],
 "metadata": {
  "kernelspec": {
   "display_name": "Python 3 (ipykernel)",
   "language": "python",
   "name": "python3"
  },
  "language_info": {
   "codemirror_mode": {
    "name": "ipython",
    "version": 3
   },
   "file_extension": ".py",
   "mimetype": "text/x-python",
   "name": "python",
   "nbconvert_exporter": "python",
   "pygments_lexer": "ipython3",
   "version": "3.9.13"
  }
 },
 "nbformat": 4,
 "nbformat_minor": 5
}
